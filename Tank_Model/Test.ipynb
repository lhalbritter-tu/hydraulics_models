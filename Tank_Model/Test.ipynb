{
 "cells": [
  {
   "cell_type": "markdown",
   "id": "3fdb3e8f",
   "metadata": {},
   "source": [
    "# Hallo Welt"
   ]
  },
  {
   "cell_type": "code",
   "execution_count": 1,
   "id": "2ac1761b",
   "metadata": {},
   "outputs": [],
   "source": [
    "from IPython.display import display\n",
    "import ipywidgets as widgets\n",
    "from pythreejs import *\n",
    "from math import pi"
   ]
  },
  {
   "cell_type": "code",
   "execution_count": 2,
   "id": "7410ebef",
   "metadata": {},
   "outputs": [
    {
     "data": {
      "application/vnd.jupyter.widget-view+json": {
       "model_id": "af70d578e52b4797bec622e6bb1bd54f",
       "version_major": 2,
       "version_minor": 0
      },
      "text/plain": [
       "IntSlider(value=3, description='Hello ', max=10, min=1)"
      ]
     },
     "metadata": {},
     "output_type": "display_data"
    }
   ],
   "source": [
    "slider = widgets.IntSlider(\n",
    "    description = \"Hello \",\n",
    "    value = 3,\n",
    "    min = 1,\n",
    "    max = 10\n",
    ")\n",
    "display(slider)"
   ]
  },
  {
   "cell_type": "code",
   "execution_count": 3,
   "id": "0fd09a75",
   "metadata": {},
   "outputs": [],
   "source": [
    "sphere = Mesh(\n",
    "    SphereBufferGeometry(0.5, 32, 16),\n",
    "    MeshStandardMaterial(color='red'),\n",
    "    position=[-5, 0, 0],\n",
    ")\n",
    "sphere.scale = (1, 2, 1)\n",
    "\n",
    "cube = Mesh(\n",
    "    BoxBufferGeometry(1, 1, 1),\n",
    "    MeshPhysicalMaterial(color='green'),\n",
    "    position=[2, 0, 4],\n",
    ")\n",
    "\n",
    "pipe = Mesh(\n",
    "    CylinderBufferGeometry(3, 5, 40, 32, 15),\n",
    "    MeshPhysicalMaterial(color='black'),\n",
    "    position = [1, 1, 1],\n",
    "    rotation = [pi / 2, 0, 0, 'XYZ']\n",
    ")"
   ]
  },
  {
   "cell_type": "code",
   "execution_count": 4,
   "id": "46623880-23ae-4437-8c82-3ee8c780993e",
   "metadata": {},
   "outputs": [],
   "source": [
    "camera = PerspectiveCamera( position=[10, 6, 10], aspect=600 / 400)\n",
    "key_light = DirectionalLight(position=[0, 10, 10])\n",
    "ambient_light = AmbientLight()"
   ]
  },
  {
   "cell_type": "code",
   "execution_count": 5,
   "id": "7ec747cd-09fd-468d-b3dc-8c44482c814b",
   "metadata": {},
   "outputs": [
    {
     "name": "stderr",
     "output_type": "stream",
     "text": [
      "/home/kipoka/.local/lib/python3.9/site-packages/jupyter_client/session.py:718: UserWarning: Message serialization failed with:\n",
      "Out of range float values are not JSON compliant\n",
      "Supporting this message is deprecated in jupyter-client 7, please make sure your message is JSON-compliant\n",
      "  content = self.pack(content)\n"
     ]
    }
   ],
   "source": [
    "scene = Scene(children=[sphere, cube, pipe, camera, key_light, ambient_light])\n",
    "controller = OrbitControls(controlling=camera)\n",
    "renderer = Renderer(camera=camera, scene=scene, controls=[controller],\n",
    "                    width=600, height=400)"
   ]
  },
  {
   "cell_type": "code",
   "execution_count": 6,
   "id": "97caec79-6afc-4dba-a1b9-ec388aea025b",
   "metadata": {},
   "outputs": [
    {
     "data": {
      "application/vnd.jupyter.widget-view+json": {
       "model_id": "446bcceab8354abaaa8924ef0a33baed",
       "version_major": 2,
       "version_minor": 0
      },
      "text/plain": [
       "Renderer(camera=PerspectiveCamera(aspect=1.5, position=(10.0, 6.0, 10.0), projectionMatrix=(1.4296712803397058…"
      ]
     },
     "metadata": {},
     "output_type": "display_data"
    }
   ],
   "source": [
    "renderer"
   ]
  },
  {
   "cell_type": "code",
   "execution_count": null,
   "id": "ed7b3f15-76bf-4251-90c9-2434487505c3",
   "metadata": {},
   "outputs": [],
   "source": []
  }
 ],
 "metadata": {
  "kernelspec": {
   "display_name": "Python 3 (ipykernel)",
   "language": "python",
   "name": "python3"
  },
  "language_info": {
   "codemirror_mode": {
    "name": "ipython",
    "version": 3
   },
   "file_extension": ".py",
   "mimetype": "text/x-python",
   "name": "python",
   "nbconvert_exporter": "python",
   "pygments_lexer": "ipython3",
   "version": "3.9.12"
  }
 },
 "nbformat": 4,
 "nbformat_minor": 5
}
