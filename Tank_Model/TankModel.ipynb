{
 "cells": [
  {
   "cell_type": "markdown",
   "metadata": {
    "pycharm": {
     "name": "#%% md\n"
    }
   },
   "source": [
    "# Tank with Holes"
   ]
  },
  {
   "cell_type": "code",
   "execution_count": 1,
   "metadata": {
    "collapsed": false,
    "jupyter": {
     "outputs_hidden": false
    },
    "pycharm": {
     "name": "#%%\n"
    }
   },
   "outputs": [
    {
     "data": {
      "text/html": [
       "<style>\n",
       ".output-box {\n",
       "    background: #D0E4F5 none no-repeat scroll 22px 17px;\n",
       "    font-size: 18px;\n",
       "}\n",
       "\n",
       ".seperator {\n",
       "    border-bottom: 2px solid #000;\n",
       "}\n",
       "\n",
       ".heading {\n",
       "    background-color:#3166ff;\n",
       "    text-align:left;\n",
       "    color:#ffffff;\n",
       "}\n",
       "</style>\n"
      ],
      "text/plain": [
       "<IPython.core.display.HTML object>"
      ]
     },
     "metadata": {},
     "output_type": "display_data"
    }
   ],
   "source": [
    "%%html\n",
    "<style>\n",
    ".output-box {\n",
    "    background: #D0E4F5 none no-repeat scroll 22px 17px;\n",
    "    font-size: 18px;\n",
    "}\n",
    "\n",
    ".seperator {\n",
    "    border-bottom: 2px solid #000;\n",
    "}\n",
    "\n",
    ".heading {\n",
    "    background-color:#3166ff;\n",
    "    text-align:left;\n",
    "    color:#ffffff;\n",
    "}\n",
    "</style>"
   ]
  },
  {
   "cell_type": "code",
   "execution_count": null,
   "outputs": [],
   "source": [
    "import sys\n",
    "sys.path.append('../')"
   ],
   "metadata": {
    "collapsed": false,
    "pycharm": {
     "name": "#%%\n"
    }
   }
  },
  {
   "cell_type": "code",
   "execution_count": null,
   "outputs": [],
   "source": [
    "%matplotlib widget"
   ],
   "metadata": {
    "collapsed": false,
    "pycharm": {
     "name": "#%%\n"
    }
   }
  },
  {
   "cell_type": "code",
   "execution_count": null,
   "outputs": [],
   "source": [
    "from tank import Tank, Hole, create_holes\n",
    "import ipywidgets as widgets\n",
    "from ipycanvas import canvas\n",
    "from IPython.display import display, Markdown, Latex\n",
    "import time\n",
    "from demo import *\n",
    "from pythreejs import *"
   ],
   "metadata": {
    "collapsed": false,
    "pycharm": {
     "name": "#%%\n"
    }
   }
  },
  {
   "cell_type": "code",
   "execution_count": null,
   "outputs": [],
   "source": [
    "%%capture\n",
    "c = canvas.Canvas(width=500, height=500)\n",
    "#c.layout.height = \"75%\"\n",
    "m = Tank(create_holes(25, 2), 0.06, c=c)\n",
    "cam = PerspectiveCamera(children=(DirectionalLight(color='white', intensity=0.5, matrixWorldNeedsUpdate=True, position=(2.5, 5.0, 5.0), quaternion=(0.0, 0.0, 0.0, 1.0), rotation=(0.0, 0.0, 0.0, 'XYZ'), scale=(1.0, 1.0, 1.0), shadow=DirectionalLightShadow(camera=OrthographicCamera(bottom=-5.0, far=500.0, left=-5.0, near=0.5, position=(0.0, 0.0, 0.0), projectionMatrix=(0.2, 0.0, 0.0, 0.0, 0.0, 0.2, 0.0, 0.0, 0.0, 0.0, -0.004004004004004004, 0.0, 0.0, 0.0, -1.002002002002002, 1.0), quaternion=(0.0, 0.0, 0.0, 1.0), right=5.0, rotation=(0.0, 0.0, 0.0, 'XYZ'), scale=(1.0, 1.0, 1.0), top=5.0, up=(0.0, 1.0, 0.0)), mapSize=(512.0, 512.0)), target=Object3D(position=(0.0, 0.0, 0.0), quaternion=(0.0, 0.0, 0.0, 1.0), rotation=(0.0, 0.0, 0.0, 'XYZ'), scale=(1.0, 1.0, 1.0), up=(0.0, 1.0, 0.0)), up=(0.0, 1.0, 0.0)),), position=(-2.5825074114212176, -0.20262044568016213, -1.5268626747956473), projectionMatrix=(2.1445069205095586, 0.0, 0.0, 0.0, 0.0, 2.1445069205095586, 0.0, 0.0, 0.0, 0.0, -1.00010000500025, -1.0, 0.0, 0.0, -0.200010000500025, 0.0), quaternion=(0.0043975709080152445, 0.8744994255096968, 0.007930175133756838, -0.48494177843908964), rotation=(-2.852815661258447, -0.9323906225151685, -2.907399997450749, 'XYZ'), scale=(1.0, 1.0, 1.0), up=(0.0, 1.0, 0.0))\n",
    "scene = Scene(children=[m.tank_pivot, m.water_pivot, cam, AmbientLight(color='#FFFFFF')], background=None)\n",
    "m.set_threejs_scene(scene)\n",
    "\n",
    "renderer = Renderer(camera=cam,\n",
    "                    #controls=[OrbitControls(controlling=cam)],\n",
    "                    scene=scene,\n",
    "                    alpha=True,\n",
    "                    clearOpacity=0.0,\n",
    "                    clearColor='gray',\n",
    "                    width=500, height=500)\n",
    "m.draw_holes3D(scene)\n",
    "demo = Demo(m.params, m, drawable=widgets.HBox([c, widgets.HTML(\"&nbsp;\" * 5), renderer, m.plot_box]))"
   ],
   "metadata": {
    "collapsed": false,
    "pycharm": {
     "name": "#%%\n"
    }
   }
  },
  {
   "cell_type": "code",
   "execution_count": 7,
   "metadata": {
    "collapsed": false,
    "jupyter": {
     "outputs_hidden": false
    },
    "pycharm": {
     "name": "#%%\n"
    }
   },
   "outputs": [],
   "source": [
    "faucetbox = BoxBufferGeometry(1, 0.5, 1)\n",
    "faucetbox_mesh = Mesh(faucetbox, material=MeshPhongMaterial(color='gray'), position=[0, 0.25, 1])\n",
    "\n",
    "faucetpipe = BoxBufferGeometry(0.5, 0.25, 0.75)\n",
    "faucetpipe_mesh = Mesh(faucetpipe, material=MeshPhongMaterial(color='black'), position=[0, 0.25, 0])\n",
    "\n",
    "stream = CylinderBufferGeometry(0.1, 0.1, 1.2, 16, 8)\n",
    "stream_mesh = Mesh(stream, material=MeshPhongMaterial(color='lightblue'), position=[0, -0.5, -0.25])"
   ]
  },
  {
   "cell_type": "code",
   "execution_count": 8,
   "metadata": {
    "collapsed": false,
    "jupyter": {
     "outputs_hidden": false
    },
    "pycharm": {
     "name": "#%%\n"
    }
   },
   "outputs": [],
   "source": [
    "scene.add(faucetbox_mesh)\n",
    "scene.add(faucetpipe_mesh)\n",
    "scene.add(stream_mesh)"
   ]
  },
  {
   "cell_type": "code",
   "execution_count": null,
   "metadata": {
    "pycharm": {
     "name": "#%%\n"
    }
   },
   "outputs": [],
   "source": [
    "demo.show()"
   ]
  },
  {
   "cell_type": "code",
   "execution_count": null,
   "metadata": {
    "pycharm": {
     "name": "#%%\n"
    }
   },
   "outputs": [],
   "source": []
  }
 ],
 "metadata": {
  "kernelspec": {
   "display_name": "Python 3 (ipykernel)",
   "language": "python",
   "name": "python3"
  },
  "language_info": {
   "codemirror_mode": {
    "name": "ipython",
    "version": 3
   },
   "file_extension": ".py",
   "mimetype": "text/x-python",
   "name": "python",
   "nbconvert_exporter": "python",
   "pygments_lexer": "ipython3",
   "version": "3.10.5"
  }
 },
 "nbformat": 4,
 "nbformat_minor": 4
}