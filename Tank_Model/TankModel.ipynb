{
 "cells": [
  {
   "cell_type": "markdown",
   "metadata": {
    "pycharm": {
     "name": "#%% md\n"
    }
   },
   "source": [
    "# Tank with Holes\n",
    "This Demo shows a simple container with holes on the bottom. Regarding the Water In-Flow, Number of Holes and Diameter of the Holes the current water depth is calculated. On the left side you see a 2D Visualization of the problem and on the right side a 3D Visualization.\n",
    "\n",
    "The Water depth is calculated this way:"
   ]
  },
  {
   "cell_type": "markdown",
   "metadata": {
    "pycharm": {
     "name": "#%% md\n"
    }
   },
   "source": [
    "$$ \n",
    "h = \\frac{1}{2g} \\cdot \\left(\\frac{4 \\cdot Q_ {in}}{n_{holes} \\cdot \\pi \\cdot d_{holes}^2}\\right)^2 m \n",
    "$$\n",
    "$g$...Gravitational Force constant (~9.81)\n",
    "\n",
    "$Q_{in}$...In-Flow of water\n",
    "\n",
    "$n_{holes}$...Number of Holes\n",
    "\n",
    "$d_{holes}$...Diameter of Holes"
   ]
  },
  {
   "cell_type": "code",
   "execution_count": 1,
   "metadata": {
    "collapsed": false,
    "jupyter": {
     "outputs_hidden": false
    },
    "pycharm": {
     "name": "#%%\n"
    }
   },
   "outputs": [],
   "source": [
    "import sys\n",
    "sys.path.append('../')"
   ]
  },
  {
   "cell_type": "code",
   "execution_count": null,
   "metadata": {},
   "outputs": [],
   "source": [
    "%matplotlib widget"
   ]
  },
  {
   "cell_type": "code",
   "execution_count": null,
   "metadata": {
    "collapsed": false,
    "jupyter": {
     "outputs_hidden": false
    },
    "pycharm": {
     "name": "#%%\n"
    }
   },
   "outputs": [],
   "source": [
    "from tank import Tank, Hole, create_holes\n",
    "import ipywidgets as widgets\n",
    "from ipycanvas import canvas\n",
    "from IPython.display import display, Markdown, Latex\n",
    "import time\n",
    "from demo import *\n",
    "from pythreejs import *"
   ]
  },
  {
   "cell_type": "code",
   "execution_count": null,
   "metadata": {
    "collapsed": false,
    "jupyter": {
     "outputs_hidden": false
    },
    "pycharm": {
     "name": "#%%\n"
    }
   },
   "outputs": [],
   "source": [
    "%%capture\n",
    "c = canvas.Canvas(width=350, height=250)\n",
    "c.layout.height = \"75%\"\n",
    "m = Tank(create_holes(25, 2), 0.06, c=c)\n",
    "cam = PerspectiveCamera(aspect=350 / 250, children=(DirectionalLight(color='white', intensity=0.5, matrixWorldNeedsUpdate=True, position=(2.5, 5.0, 1.0), quaternion=(0.0, 0.0, 0.0, 1.0), rotation=(0.0, 0.0, 0.0, 'XYZ'), scale=(1.0, 1.0, 1.0), shadow=DirectionalLightShadow(camera=OrthographicCamera(bottom=-5.0, far=500.0, left=-5.0, near=0.5, position=(0.0, 0.0, 0.0), projectionMatrix=(0.2, 0.0, 0.0, 0.0, 0.0, 0.2, 0.0, 0.0, 0.0, 0.0, -0.004004004004004004, 0.0, 0.0, 0.0, -1.002002002002002, 1.0), quaternion=(0.0, 0.0, 0.0, 1.0), right=5.0, rotation=(0.0, 0.0, 0.0, 'XYZ'), scale=(1.0, 1.0, 1.0), top=5.0, up=(0.0, 1.0, 0.0)), mapSize=(512.0, 512.0)), target=Object3D(position=(0.0, 0.0, 0.0), quaternion=(0.0, 0.0, 0.0, 1.0), rotation=(0.0, 0.0, 0.0, 'XYZ'), scale=(1.0, 1.0, 1.0), up=(0.0, 1.0, 0.0)), up=(0.0, 1.0, 0.0)),), position=(-1.9329448761077836, 0.2499403368586175, -1.2680579674595862), projectionMatrix=(0.7148356401698529, 0.0, 0.0, 0.0, 0.0, 2.1445069205095586, 0.0, 0.0, 0.0, 0.0, -1.00010000500025, -1.0, 0.0, 0.0, -0.200010000500025, 0.0), quaternion=(0.07811175932294602, 0.8971084085692673, 0.17628085997520093, -0.3975174395371784), rotation=(2.955719827270785, -0.569237255703572, 3.0405841287461377, 'XYZ'), scale=(1.0, 1.0, 1.0), up=(0.0, 1.0, 0.0))\n",
    "scene = Scene(children=[m.tank_pivot, m.water_pivot, cam, AmbientLight(color='#FFFFFF')], background=None)\n",
    "m.set_threejs_scene(scene)\n",
    "m.draw_holes3D(scene)\n",
    "\n",
    "renderer = Renderer(camera=cam,\n",
    "                    scene=scene,\n",
    "                    alpha=True,\n",
    "                    clearOpacity=0.3,\n",
    "                    clearColor='gray',\n",
    "                    width=350, height=250)\n",
    "demo = Demo(m.params, m, drawable=widgets.HBox([c, renderer, m.plot.widget]))"
   ]
  },
  {
   "cell_type": "code",
   "execution_count": null,
   "metadata": {
    "collapsed": false,
    "jupyter": {
     "outputs_hidden": false
    },
    "pycharm": {
     "name": "#%%\n"
    }
   },
   "outputs": [],
   "source": [
    "demo.show()"
   ]
  },
  {
   "cell_type": "code",
   "execution_count": null,
   "metadata": {
    "collapsed": false,
    "jupyter": {
     "outputs_hidden": false
    },
    "pycharm": {
     "name": "#%%\n"
    }
   },
   "outputs": [],
   "source": [
    "faucetbox = BoxBufferGeometry(1, 1, 1)\n",
    "faucetbox_mesh = Mesh(faucetbox, material=MeshPhongMaterial(color='gray'), position=[0, 0.5, 1])\n",
    "\n",
    "faucetpipe = BoxBufferGeometry(0.5, 0.25, 0.75)\n",
    "faucetpipe_mesh = Mesh(faucetpipe, material=MeshPhongMaterial(color='black'), position=[0, 0.25, 0])\n",
    "\n",
    "stream = CylinderBufferGeometry(0.1, 0.1, 1.75, 16, 8)\n",
    "stream_mesh = Mesh(stream, material=MeshPhongMaterial(color='lightblue'), position=[0, 0, -0.25])"
   ]
  },
  {
   "cell_type": "code",
   "execution_count": null,
   "metadata": {
    "pycharm": {
     "name": "#%%\n"
    }
   },
   "outputs": [],
   "source": [
    "scene.add(faucetbox_mesh)\n",
    "scene.add(faucetpipe_mesh)\n",
    "scene.add(stream_mesh)"
   ]
  },
  {
   "cell_type": "code",
   "execution_count": null,
   "metadata": {},
   "outputs": [],
   "source": [
    "m.dHoles.real()"
   ]
  },
  {
   "cell_type": "code",
   "execution_count": null,
   "metadata": {},
   "outputs": [],
   "source": [
    "m.d_vars"
   ]
  },
  {
   "cell_type": "code",
   "execution_count": null,
   "metadata": {},
   "outputs": [],
   "source": [
    "m.nHoles.real()"
   ]
  },
  {
   "cell_type": "code",
   "execution_count": null,
   "metadata": {},
   "outputs": [],
   "source": [
    "m.n_vars"
   ]
  },
  {
   "cell_type": "code",
   "execution_count": null,
   "metadata": {},
   "outputs": [],
   "source": []
  }
 ],
 "metadata": {
  "kernelspec": {
   "display_name": "Python 3 (ipykernel)",
   "language": "python",
   "name": "python3"
  },
  "language_info": {
   "codemirror_mode": {
    "name": "ipython",
    "version": 3
   },
   "file_extension": ".py",
   "mimetype": "text/x-python",
   "name": "python",
   "nbconvert_exporter": "python",
   "pygments_lexer": "ipython3",
   "version": "3.10.5"
  }
 },
 "nbformat": 4,
 "nbformat_minor": 4
}