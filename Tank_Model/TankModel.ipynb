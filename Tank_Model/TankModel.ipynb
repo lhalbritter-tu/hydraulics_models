{
 "cells": [
  {
   "cell_type": "code",
   "execution_count": 12,
   "metadata": {
    "pycharm": {
     "name": "#%%\n"
    }
   },
   "outputs": [],
   "source": [
    "from tank import Tank, Hole, create_holes\n",
    "import ipywidgets as widgets\n",
    "from ipycanvas import canvas\n",
    "from IPython.display import display, Markdown, Latex\n",
    "import time"
   ]
  },
  {
   "cell_type": "code",
   "execution_count": 52,
   "metadata": {
    "pycharm": {
     "name": "#%%\n"
    }
   },
   "outputs": [],
   "source": [
    "class TankDemo:\n",
    "    def __init__(self, canvas, water_q, n_holes, d_holes):\n",
    "        self.canvas: canvas.Canvas = canvas\n",
    "        self.tank = Tank(create_holes(n_holes, d_holes), water_q)\n",
    "        self.depth = self.tank.get_depth()\n",
    "        self.init_ui()\n",
    "\n",
    "    def init_ui(self):\n",
    "        self.nSlider = widgets.IntSlider(\n",
    "            value=25,\n",
    "            min=5,\n",
    "            max=50,\n",
    "            description=\"Nr of Holes\"\n",
    "        )\n",
    "        self.nText = widgets.Label(value=\"[ ]\")\n",
    "        self.nBox = widgets.HBox([self.nSlider, self.nText])\n",
    "        self.dSlider = widgets.FloatSlider(\n",
    "            value=2,\n",
    "            min=0.1,\n",
    "            max=5,\n",
    "            description=\"Diameter\"\n",
    "        )\n",
    "        self.dText = widgets.Label(value=\"[cm]\")\n",
    "        self.dBox = widgets.HBox([self.dSlider, self.dText])\n",
    "        self.nSlider.observe(self.update_holes)\n",
    "        self.dSlider.observe(self.update_holes)\n",
    "\n",
    "        self.qSlider = widgets.FloatSlider(\n",
    "            value=0.06,\n",
    "            step=0.01,\n",
    "            min=0.01,\n",
    "            max=1,\n",
    "            description=\"Water flow Q\"\n",
    "        )\n",
    "        self.qText = widgets.HTMLMath(value=\"$[m^3s^{-1}]$\")\n",
    "        self.qBox = widgets.HBox([self.qSlider, self.qText])\n",
    "        self.maxDepthSlider = widgets.FloatSlider(\n",
    "            value=1,\n",
    "            step=0.1,\n",
    "            min=0.5,\n",
    "            max=5,\n",
    "            description=\"Tank Depth\"\n",
    "        )\n",
    "        self.mdText = widgets.Label(value=\"[m]\")\n",
    "        self.mdBox = widgets.HBox([self.maxDepthSlider, self.mdText])\n",
    "        self.qSlider.observe(self.update_tank)\n",
    "        self.maxDepthSlider.observe(self.update_tank)\n",
    "\n",
    "        self.tankTitle = widgets.HTML(\"<h1>Tank</h1>\")\n",
    "        self.holeTitle = widgets.HTML(\"<h1>Holes</h1>\")\n",
    "        self.tankDetails = widgets.VBox([self.tankTitle, self.qBox, self.mdBox])\n",
    "        self.holeDetails = widgets.VBox([self.holeTitle, self.nBox, self.dBox])\n",
    "        display(widgets.HBox([self.tankDetails, self.holeDetails]))\n",
    "        self.output = widgets.Output()\n",
    "        display(self.canvas)\n",
    "        display(self.output)\n",
    "        self.update_output()\n",
    "\n",
    "    def update_holes(self, args):\n",
    "        n_prev = len(self.tank.holes)\n",
    "        n_now = self.nSlider.value\n",
    "\n",
    "        d = self.dSlider.value\n",
    "\n",
    "        if n_prev != n_now:\n",
    "            diff = n_now - n_prev\n",
    "            if diff > 0:\n",
    "                for i in range(diff):\n",
    "                    self.tank.add_hole(Hole(d))\n",
    "            else:\n",
    "                for i in range(abs(diff)):\n",
    "                    self.tank.pop_hole()\n",
    "        if d != self.tank.holes[0].d:\n",
    "            self.tank.set_diameter(d)\n",
    "        self.update_output()\n",
    "\n",
    "    def update_tank(self, args):\n",
    "        self.tank.q = self.qSlider.value\n",
    "        self.tank.depth = self.maxDepthSlider.value\n",
    "        self.update_output()\n",
    "\n",
    "    def update_output(self):\n",
    "        self.output.clear_output()\n",
    "        self.depth = self.tank.get_depth()\n",
    "        with self.output:\n",
    "            display(widgets.HTML(f'<b>Depth h</b> = {self.depth:.2f}m'))\n",
    "        self.draw()\n",
    "\n",
    "    def draw(self):\n",
    "        #.sleep(1.5)\n",
    "        self.canvas.clear()\n",
    "        rect = self.tank.get_dimensions(50, 50)\n",
    "        x_0 = rect[0]\n",
    "        y_0 = rect[1]\n",
    "        x_1 = x_0 + rect[2]\n",
    "        y_1 = y_0 + rect[3]\n",
    "        \n",
    "        self.canvas.height = y_1 + 50\n",
    "\n",
    "        self.canvas.begin_path()\n",
    "        self.canvas.move_to(x_0, y_0)\n",
    "        self.canvas.line_to(x_0, y_1)\n",
    "        self.canvas.line_to(x_1, y_1)\n",
    "        self.canvas.line_to(x_1, y_0)\n",
    "        self.canvas.stroke()\n",
    "\n",
    "        if self.depth > self.tank.depth:\n",
    "            wy_0 = y_0 - 5\n",
    "            self.canvas.stroke_style = 'red'\n",
    "            self.canvas.stroke_text(\"OVERFLOW!\", x_1 + 15, y_0 - 5)\n",
    "            self.canvas.stroke_style = 'black'\n",
    "        else:\n",
    "            wy_0 = y_1 - self.depth * 100\n",
    "        gradient = self.canvas.create_linear_gradient(\n",
    "            x_0, wy_0, x_1, y_1,\n",
    "            # List of color stops\n",
    "            [\n",
    "                (0, 'lightblue'),\n",
    "                (1, 'blue'),\n",
    "            ],\n",
    "        )\n",
    "        self.canvas.fill_style = gradient\n",
    "        self.canvas.global_alpha = 0.75\n",
    "        self.canvas.fill_rect(x_0 + 1, wy_0, rect[2] - 1.5, y_1 - wy_0 - 1)\n",
    "        \n",
    "        \"\"\"if 15 <= len(self.tank.holes) < 40:\n",
    "            holes = self.tank.draw_holes(5, x_0, y_1, 20)\n",
    "        elif len(self.tank.holes) >= 40:\n",
    "            holes = self.tank.draw_holes(7, x_0, y_1, 20)\n",
    "        elif len(self.tank.holes) < 15:\n",
    "            holes = self.tank.draw_holes(1, x_0, y_1, 20)\n",
    "        \"\"\"\n",
    "        holes = self.tank.alt_draw_holes(5, y_1, 20)\n",
    "        for hole in holes:\n",
    "            self.canvas.fill_rect(*hole)\n",
    "        \n",
    "        self.canvas.global_alpha = 1\n",
    "        \n",
    "        line = [x_0 - 10, wy_0, x_0 - 10, y_1]\n",
    "        self.canvas.stroke_line(*line)\n",
    "        self.canvas.stroke_text(\"h\", x_0 - 30, (wy_0 + y_1) // 2)"
   ]
  },
  {
   "cell_type": "code",
   "execution_count": 53,
   "metadata": {
    "pycharm": {
     "name": "#%%\n"
    },
    "scrolled": false
   },
   "outputs": [
    {
     "data": {
      "application/vnd.jupyter.widget-view+json": {
       "model_id": "",
       "version_major": 2,
       "version_minor": 0
      },
      "text/plain": [
       "HBox(children=(VBox(children=(HTML(value='<h1>Tank</h1>'), HBox(children=(FloatSlider(value=0.06, description=…"
      ]
     },
     "metadata": {},
     "output_type": "display_data"
    },
    {
     "data": {
      "application/vnd.jupyter.widget-view+json": {
       "model_id": "",
       "version_major": 2,
       "version_minor": 0
      },
      "text/plain": [
       "Canvas(height=200, width=800)"
      ]
     },
     "metadata": {},
     "output_type": "display_data"
    },
    {
     "data": {
      "application/vnd.jupyter.widget-view+json": {
       "model_id": "",
       "version_major": 2,
       "version_minor": 0
      },
      "text/plain": [
       "Output()"
      ]
     },
     "metadata": {},
     "output_type": "display_data"
    }
   ],
   "source": [
    "c = canvas.Canvas(width=800, height=200)\n",
    "demo = TankDemo(c, 0.06, 25, 2)"
   ]
  },
  {
   "cell_type": "code",
   "execution_count": null,
   "metadata": {},
   "outputs": [],
   "source": []
  },
  {
   "cell_type": "code",
   "execution_count": null,
   "metadata": {},
   "outputs": [],
   "source": []
  }
 ],
 "metadata": {
  "kernelspec": {
   "display_name": "Python 3 (ipykernel)",
   "language": "python",
   "name": "python3"
  },
  "language_info": {
   "codemirror_mode": {
    "name": "ipython",
    "version": 3
   },
   "file_extension": ".py",
   "mimetype": "text/x-python",
   "name": "python",
   "nbconvert_exporter": "python",
   "pygments_lexer": "ipython3",
   "version": "3.9.2"
  }
 },
 "nbformat": 4,
 "nbformat_minor": 1
}