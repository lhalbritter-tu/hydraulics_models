{
 "cells": [
  {
   "cell_type": "code",
   "execution_count": 1,
   "id": "56eac841-7c53-47fc-ba69-d784de7aa583",
   "metadata": {},
   "outputs": [],
   "source": [
    "import sys\n",
    "sys.path.append(\"../\")\n",
    "from demo import *\n",
    "from addition import Addition"
   ]
  },
  {
   "cell_type": "code",
   "execution_count": 2,
   "id": "ff752245-38a9-4a17-ac64-2fd145b780e8",
   "metadata": {},
   "outputs": [],
   "source": [
    "# Erstellen des Modells\n",
    "model = Addition()\n",
    "\n",
    "# Erstellen der Demo\n",
    "demo = Demo(model)"
   ]
  },
  {
   "cell_type": "code",
   "execution_count": 3,
   "id": "efd303f8-d674-40e1-a829-63a4a481ebff",
   "metadata": {},
   "outputs": [
    {
     "data": {
      "application/vnd.jupyter.widget-view+json": {
       "model_id": "c61e28c89cb74eecb1abe57133c5a761",
       "version_major": 2,
       "version_minor": 0
      },
      "text/plain": [
       "Output()"
      ]
     },
     "metadata": {},
     "output_type": "display_data"
    },
    {
     "data": {
      "application/vnd.jupyter.widget-view+json": {
       "model_id": "b1f2fa59cc634270a6888b02b0823965",
       "version_major": 2,
       "version_minor": 0
      },
      "text/plain": [
       "HTML(value=\"<div class='seperator'></div> <br />\")"
      ]
     },
     "metadata": {},
     "output_type": "display_data"
    },
    {
     "data": {
      "application/vnd.jupyter.widget-view+json": {
       "model_id": "ebf73cc47e424444a910bdc1c124ffaa",
       "version_major": 2,
       "version_minor": 0
      },
      "text/plain": [
       "Output()"
      ]
     },
     "metadata": {},
     "output_type": "display_data"
    }
   ],
   "source": [
    "demo.show()"
   ]
  },
  {
   "cell_type": "code",
   "execution_count": null,
   "id": "dee164b8-a4d1-4540-9c33-8d6cc46c8485",
   "metadata": {},
   "outputs": [],
   "source": []
  }
 ],
 "metadata": {
  "kernelspec": {
   "display_name": "Python 3 (ipykernel)",
   "language": "python",
   "name": "python3"
  },
  "language_info": {
   "codemirror_mode": {
    "name": "ipython",
    "version": 3
   },
   "file_extension": ".py",
   "mimetype": "text/x-python",
   "name": "python",
   "nbconvert_exporter": "python",
   "pygments_lexer": "ipython3",
   "version": "3.10.5"
  }
 },
 "nbformat": 4,
 "nbformat_minor": 5
}
