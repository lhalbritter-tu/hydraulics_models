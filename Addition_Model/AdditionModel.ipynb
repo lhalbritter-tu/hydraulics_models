{
 "cells": [
  {
   "cell_type": "code",
   "execution_count": 1,
   "id": "56eac841-7c53-47fc-ba69-d784de7aa583",
   "metadata": {},
   "outputs": [],
   "source": [
    "import sys\n",
    "sys.path.append(\"../\")\n",
    "from demo import *\n",
    "from addition import Addition\n",
    "from ipycanvas import canvas"
   ]
  },
  {
   "cell_type": "code",
   "execution_count": 2,
   "id": "ff752245-38a9-4a17-ac64-2fd145b780e8",
   "metadata": {},
   "outputs": [],
   "source": [
    "# Erstellen des Canvas Objekts mit Größe 500x500 Pixel\n",
    "canv = canvas.Canvas(width=410, height=210)\n",
    "\n",
    "# Erstellen des Modells\n",
    "model = Addition(canvas=canv)\n",
    "\n",
    "# Erstellen der Demo\n",
    "demo = Demo(model, drawable=widgets.HBox([canv, canv, canv]))"
   ]
  },
  {
   "cell_type": "code",
   "execution_count": 3,
   "id": "efd303f8-d674-40e1-a829-63a4a481ebff",
   "metadata": {},
   "outputs": [
    {
     "data": {
      "text/html": [
       "\n",
       "<style>\n",
       ".output-box {\n",
       "    background: #D0E4F5 none no-repeat scroll 22px 17px;\n",
       "    font-size: 18px;\n",
       "}\n",
       "\n",
       ".seperator {\n",
       "    border-bottom: 2px solid #000;\n",
       "}\n",
       "\n",
       ".heading {\n",
       "    // color: #e0eff2;\n",
       "    // background: #3a50d9;\n",
       "    font: italic bold Georgia, Serif;\n",
       "    color: #000000;\n",
       "    background:#ffffff;\n",
       "    text-align: left;\n",
       "    width: 100%;\n",
       "}\n",
       "\n",
       ".dropdown > select {\n",
       "    background-color:#d0e4f5;\n",
       "    margin-left:0px;\n",
       "    width: 100%;\n",
       "}\n",
       "</style>\n"
      ],
      "text/plain": [
       "<IPython.core.display.HTML object>"
      ]
     },
     "metadata": {},
     "output_type": "display_data"
    },
    {
     "data": {
      "application/vnd.jupyter.widget-view+json": {
       "model_id": "31145285349e468a934c8ee502a334d7",
       "version_major": 2,
       "version_minor": 0
      },
      "text/plain": [
       "Output()"
      ]
     },
     "metadata": {},
     "output_type": "display_data"
    },
    {
     "data": {
      "application/vnd.jupyter.widget-view+json": {
       "model_id": "936a19c25df24afe9f292e935cc4b579",
       "version_major": 2,
       "version_minor": 0
      },
      "text/plain": [
       "HTML(value=\"<div class='seperator'></div> <br />\")"
      ]
     },
     "metadata": {},
     "output_type": "display_data"
    },
    {
     "data": {
      "application/vnd.jupyter.widget-view+json": {
       "model_id": "d8090d07817f41118df06883489d5cb1",
       "version_major": 2,
       "version_minor": 0
      },
      "text/plain": [
       "HBox(children=(Canvas(height=210, width=410), Canvas(height=210, width=410), Canvas(height=210, width=410)))"
      ]
     },
     "metadata": {},
     "output_type": "display_data"
    },
    {
     "data": {
      "application/vnd.jupyter.widget-view+json": {
       "model_id": "3321845ec3f04c17a74c169dbb79f362",
       "version_major": 2,
       "version_minor": 0
      },
      "text/plain": [
       "HTML(value=\"<div class='seperator'></div>\")"
      ]
     },
     "metadata": {},
     "output_type": "display_data"
    },
    {
     "data": {
      "application/vnd.jupyter.widget-view+json": {
       "model_id": "20d63d2340c64a638c0d84876d1e3d2a",
       "version_major": 2,
       "version_minor": 0
      },
      "text/plain": [
       "Output()"
      ]
     },
     "metadata": {},
     "output_type": "display_data"
    }
   ],
   "source": [
    "canv.on_client_ready(model.draw)\n",
    "demo.show()"
   ]
  },
  {
   "cell_type": "code",
   "execution_count": null,
   "id": "0fbed5e3-9305-4e81-8646-2fdc078f61df",
   "metadata": {},
   "outputs": [],
   "source": []
  }
 ],
 "metadata": {
  "kernelspec": {
   "display_name": "Python 3 (ipykernel)",
   "language": "python",
   "name": "python3"
  },
  "language_info": {
   "codemirror_mode": {
    "name": "ipython",
    "version": 3
   },
   "file_extension": ".py",
   "mimetype": "text/x-python",
   "name": "python",
   "nbconvert_exporter": "python",
   "pygments_lexer": "ipython3",
   "version": "3.10.5"
  }
 },
 "nbformat": 4,
 "nbformat_minor": 5
}
