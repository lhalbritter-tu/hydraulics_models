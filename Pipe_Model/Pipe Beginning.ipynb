{
 "cells": [
  {
   "cell_type": "markdown",
   "id": "0b1a6b53",
   "metadata": {},
   "source": [
    "# Pipe"
   ]
  },
  {
   "cell_type": "markdown",
   "id": "d3fa4af9",
   "metadata": {},
   "source": [
    "$$\n",
    "Q_1 = \\frac{\\pi \\cdot D_1^2}{4} \\cdot U_1\n",
    "$$"
   ]
  },
  {
   "cell_type": "markdown",
   "id": "8c46c15c",
   "metadata": {},
   "source": [
    "$$\n",
    "Q_2 = Q_1 = \\frac{\\pi \\cdot D_1^2}{4} \\cdot U_1 = \\frac{\\pi \\cdot D_2^2}{4} \\cdot U_2\n",
    "$$"
   ]
  },
  {
   "cell_type": "markdown",
   "id": "1eecfee2",
   "metadata": {},
   "source": [
    "$$\n",
    "U_2 = \\frac{D_1^2}{D_2^2} \\cdot U_1\n",
    "$$\n",
    "## Demo"
   ]
  },
  {
   "cell_type": "code",
   "execution_count": 1,
   "id": "3b3d061e",
   "metadata": {
    "pycharm": {
     "name": "#%%\n"
    }
   },
   "outputs": [],
   "source": [
    "from nb import demo, Task, task1\n",
    "import model"
   ]
  },
  {
   "cell_type": "code",
   "execution_count": 2,
   "id": "ca7381ec",
   "metadata": {
    "pycharm": {
     "name": "#%%\n"
    }
   },
   "outputs": [
    {
     "data": {
      "application/vnd.jupyter.widget-view+json": {
       "model_id": "271db10cdbf54cb49e77a74e4643b0fa",
       "version_major": 2,
       "version_minor": 0
      },
      "text/plain": [
       "IntSlider(value=10, description='D1', max=150, min=10)"
      ]
     },
     "metadata": {},
     "output_type": "display_data"
    },
    {
     "data": {
      "application/vnd.jupyter.widget-view+json": {
       "model_id": "791206de0405430bbe6ca504904a00e8",
       "version_major": 2,
       "version_minor": 0
      },
      "text/plain": [
       "IntSlider(value=10, description='D2', max=150, min=10)"
      ]
     },
     "metadata": {},
     "output_type": "display_data"
    },
    {
     "data": {
      "application/vnd.jupyter.widget-view+json": {
       "model_id": "3d43bd3decb64dcfbea06f0bccd909f3",
       "version_major": 2,
       "version_minor": 0
      },
      "text/plain": [
       "IntSlider(value=5, description='U1', max=150, min=1)"
      ]
     },
     "metadata": {},
     "output_type": "display_data"
    },
    {
     "data": {
      "text/markdown": [
       "### Output"
      ],
      "text/plain": [
       "<IPython.core.display.Markdown object>"
      ]
     },
     "metadata": {},
     "output_type": "display_data"
    },
    {
     "data": {
      "application/vnd.jupyter.widget-view+json": {
       "model_id": "73804dba7b7846048adeba071e27731b",
       "version_major": 2,
       "version_minor": 0
      },
      "text/plain": [
       "HTMLMath(value='$$U_2 = \\\\frac{100}{100} \\\\cdot 5 = 5.0$$')"
      ]
     },
     "metadata": {},
     "output_type": "display_data"
    },
    {
     "data": {
      "text/markdown": [
       "### Sketch"
      ],
      "text/plain": [
       "<IPython.core.display.Markdown object>"
      ]
     },
     "metadata": {},
     "output_type": "display_data"
    },
    {
     "data": {
      "application/vnd.jupyter.widget-view+json": {
       "model_id": "c6d7fbe90e194e0db3e9f459236d65a6",
       "version_major": 2,
       "version_minor": 0
      },
      "text/plain": [
       "Canvas(height=300, width=800)"
      ]
     },
     "metadata": {},
     "output_type": "display_data"
    }
   ],
   "source": [
    "from ipycanvas import Canvas\n",
    "canvas = Canvas(width=800, height=300)    \n",
    "demo(canvas)\n",
    "canvas"
   ]
  },
  {
   "cell_type": "code",
   "execution_count": 3,
   "id": "327a2313",
   "metadata": {},
   "outputs": [
    {
     "data": {
      "text/markdown": [
       "## Task 1\n",
       "Look at the following sketch and enter the correct value for U2\n",
       "![sketch1](au01.png)"
      ],
      "text/plain": [
       "<IPython.core.display.Markdown object>"
      ]
     },
     "metadata": {},
     "output_type": "display_data"
    },
    {
     "data": {
      "application/vnd.jupyter.widget-view+json": {
       "model_id": "ea11764e49944387af3c694ca7c8a079",
       "version_major": 2,
       "version_minor": 0
      },
      "text/plain": [
       "HBox(children=(FloatText(value=7.5, description='Solution:'), Button(description='Confirm', style=ButtonStyle(…"
      ]
     },
     "metadata": {},
     "output_type": "display_data"
    },
    {
     "data": {
      "application/vnd.jupyter.widget-view+json": {
       "model_id": "8b59fa5d4dc341e18e929cbe09c68e62",
       "version_major": 2,
       "version_minor": 0
      },
      "text/plain": [
       "Label(value='Enter your solution and confirm it with the button to see if you got the correct answer.')"
      ]
     },
     "metadata": {},
     "output_type": "display_data"
    }
   ],
   "source": [
    "task1()"
   ]
  }
 ],
 "metadata": {
  "kernelspec": {
   "display_name": "Python 3 (ipykernel)",
   "language": "python",
   "name": "python3"
  },
  "language_info": {
   "codemirror_mode": {
    "name": "ipython",
    "version": 3
   },
   "file_extension": ".py",
   "mimetype": "text/x-python",
   "name": "python",
   "nbconvert_exporter": "python",
   "pygments_lexer": "ipython3",
   "version": "3.10.4"
  },
  "widgets": {
   "application/vnd.jupyter.widget-state+json": {
    "state": {
     "00e234e3a1334102aed070c3a03c3ed9": {
      "model_module": "@jupyter-widgets/base",
      "model_module_version": "1.2.0",
      "model_name": "LayoutModel",
      "state": {}
     },
     "01e4432de9394fb0bb5f89e16f1a78f1": {
      "model_module": "@jupyter-widgets/base",
      "model_module_version": "1.2.0",
      "model_name": "LayoutModel",
      "state": {}
     },
     "05342cf96b6244e5b616808f489b5d09": {
      "model_module": "@jupyter-widgets/base",
      "model_module_version": "1.2.0",
      "model_name": "LayoutModel",
      "state": {}
     },
     "082449f8b32a482bb1b7efa3cdde6279": {
      "model_module": "@jupyter-widgets/controls",
      "model_module_version": "1.5.0",
      "model_name": "IntSliderModel",
      "state": {
       "description": "D1",
       "layout": "IPY_MODEL_3da78e0977c241668bdb95447a25c2e6",
       "max": 150,
       "min": 10,
       "style": "IPY_MODEL_4e2fb0a3c1a54f4983d27402a2aef2e6",
       "value": 10
      }
     },
     "09eb72ac533642849739e51c929f3969": {
      "model_module": "@jupyter-widgets/controls",
      "model_module_version": "1.5.0",
      "model_name": "SliderStyleModel",
      "state": {
       "description_width": ""
      }
     },
     "0d0ff25ee9dc4dae94d67e7cfb984705": {
      "model_module": "@jupyter-widgets/controls",
      "model_module_version": "1.5.0",
      "model_name": "SliderStyleModel",
      "state": {
       "description_width": ""
      }
     },
     "0e36bb84927e48cf89ffd0fb17da791a": {
      "model_module": "@jupyter-widgets/controls",
      "model_module_version": "1.5.0",
      "model_name": "IntSliderModel",
      "state": {
       "description": "U1",
       "layout": "IPY_MODEL_1ae408a949bf49e9bedb67ae55e79953",
       "max": 150,
       "min": 1,
       "style": "IPY_MODEL_0d0ff25ee9dc4dae94d67e7cfb984705",
       "value": 35
      }
     },
     "108279899e2c4852ac9a6efc2b5a4b81": {
      "model_module": "@jupyter-widgets/controls",
      "model_module_version": "1.5.0",
      "model_name": "DescriptionStyleModel",
      "state": {
       "description_width": ""
      }
     },
     "1127d79e9b074630acfb8dcf244273ba": {
      "model_module": "@jupyter-widgets/controls",
      "model_module_version": "1.5.0",
      "model_name": "IntSliderModel",
      "state": {
       "description": "U1",
       "layout": "IPY_MODEL_cda0b43c2b5e47f4b85952acadd98f61",
       "max": 150,
       "min": 1,
       "style": "IPY_MODEL_912e72bc2de247fd97d325feb78c3eae",
       "value": 5
      }
     },
     "112f5e0257714176b31c9bb75b95cd1c": {
      "model_module": "@jupyter-widgets/base",
      "model_module_version": "1.2.0",
      "model_name": "LayoutModel",
      "state": {}
     },
     "130cf460bd36400c9bb2955c27c758c5": {
      "model_module": "@jupyter-widgets/controls",
      "model_module_version": "1.5.0",
      "model_name": "IntSliderModel",
      "state": {
       "description": "D2",
       "layout": "IPY_MODEL_ea7e9bc8440d49d0b6c66cafb2d7e1d9",
       "max": 150,
       "min": 10,
       "style": "IPY_MODEL_5568ad88e593488a8840e9a9dda523b2",
       "value": 39
      }
     },
     "14691efdcc484bdeb9e03be88603b8cb": {
      "model_module": "@jupyter-widgets/controls",
      "model_module_version": "1.5.0",
      "model_name": "SliderStyleModel",
      "state": {
       "description_width": ""
      }
     },
     "16322daf9c1f4ebb85cc5bdb0cb1d008": {
      "model_module": "@jupyter-widgets/controls",
      "model_module_version": "1.5.0",
      "model_name": "DescriptionStyleModel",
      "state": {
       "description_width": ""
      }
     },
     "1722a1a5b09e43798ef25b9160aeb2dc": {
      "model_module": "@jupyter-widgets/controls",
      "model_module_version": "1.5.0",
      "model_name": "DescriptionStyleModel",
      "state": {
       "description_width": ""
      }
     },
     "1ae408a949bf49e9bedb67ae55e79953": {
      "model_module": "@jupyter-widgets/base",
      "model_module_version": "1.2.0",
      "model_name": "LayoutModel",
      "state": {}
     },
     "1bfa31a081244e17b885ff5b06526efa": {
      "model_module": "@jupyter-widgets/controls",
      "model_module_version": "1.5.0",
      "model_name": "HTMLMathModel",
      "state": {
       "layout": "IPY_MODEL_f51ba0bfb72448719715ee92c8d88d0f",
       "style": "IPY_MODEL_b0e200c332b24862a74a7237bc47f830",
       "value": "$$U_2 = \\frac{100}{100} \\cdot 5 = 5.0$$"
      }
     },
     "1c5bca6891e648ea8e1f53dd9bdc884a": {
      "model_module": "@jupyter-widgets/controls",
      "model_module_version": "1.5.0",
      "model_name": "DescriptionStyleModel",
      "state": {
       "description_width": ""
      }
     },
     "1d4ba2154b584975bde79f610943c227": {
      "model_module": "@jupyter-widgets/base",
      "model_module_version": "1.2.0",
      "model_name": "LayoutModel",
      "state": {}
     },
     "1e3b1c6974e34e9b95fb458178f4040a": {
      "model_module": "ipycanvas",
      "model_module_version": "^0.12",
      "model_name": "CanvasModel",
      "state": {
       "_model_module_version": "^0.12",
       "_view_module_version": "^0.12",
       "height": 300,
       "layout": "IPY_MODEL_862fba2765ac4c36b44e36eee0cc6bf3",
       "width": 800
      }
     },
     "1ec01f261db240e48e66e9c3c5fdfb96": {
      "model_module": "ipycanvas",
      "model_module_version": "^0.12",
      "model_name": "CanvasManagerModel",
      "state": {
       "_model_module_version": "^0.12",
       "_view_module": null,
       "_view_module_version": ""
      }
     },
     "2111449af14d4b7280ca5ec97d0cd8f1": {
      "model_module": "@jupyter-widgets/controls",
      "model_module_version": "1.5.0",
      "model_name": "SliderStyleModel",
      "state": {
       "description_width": ""
      }
     },
     "227d98549cb84aa29b0ed3257a735f44": {
      "model_module": "@jupyter-widgets/controls",
      "model_module_version": "1.5.0",
      "model_name": "LabelModel",
      "state": {
       "layout": "IPY_MODEL_97326b989b2e4ef6aee54c33d02a6e63",
       "style": "IPY_MODEL_30fbd911370d4c61b40783cf0d3d5644",
       "value": "That is not the correct answer. Try again!"
      }
     },
     "22d988628d844ccf8e492c63ea6c53ad": {
      "model_module": "ipycanvas",
      "model_module_version": "^0.12",
      "model_name": "CanvasManagerModel",
      "state": {
       "_model_module_version": "^0.12",
       "_view_module": null,
       "_view_module_version": ""
      }
     },
     "25dd6404db0b4dae8a72561e7a465fe8": {
      "model_module": "@jupyter-widgets/controls",
      "model_module_version": "1.5.0",
      "model_name": "SliderStyleModel",
      "state": {
       "description_width": ""
      }
     },
     "273ab3e5120849658a2b942ae5023fd7": {
      "model_module": "@jupyter-widgets/controls",
      "model_module_version": "1.5.0",
      "model_name": "DescriptionStyleModel",
      "state": {
       "description_width": ""
      }
     },
     "27999781487b4c3087afc1315e74a2e7": {
      "model_module": "@jupyter-widgets/controls",
      "model_module_version": "1.5.0",
      "model_name": "IntSliderModel",
      "state": {
       "description": "U1",
       "layout": "IPY_MODEL_e9c5d62811254a58a93b80800008def0",
       "max": 150,
       "min": 1,
       "style": "IPY_MODEL_14691efdcc484bdeb9e03be88603b8cb",
       "value": 5
      }
     },
     "28efd6294f6c44dabf356811a75bc40a": {
      "model_module": "@jupyter-widgets/controls",
      "model_module_version": "1.5.0",
      "model_name": "SliderStyleModel",
      "state": {
       "description_width": ""
      }
     },
     "2a80a82e0db34875a82c448b5535ca92": {
      "model_module": "@jupyter-widgets/controls",
      "model_module_version": "1.5.0",
      "model_name": "HTMLMathModel",
      "state": {
       "layout": "IPY_MODEL_9dbe48ca70cc48b0aa35c1f2b0ac764c",
       "style": "IPY_MODEL_1722a1a5b09e43798ef25b9160aeb2dc",
       "value": "$$U_2 = \\frac{100}{100} \\cdot 5 = 5.0$$"
      }
     },
     "2b49f56274e04fee9ca3583e629d3d07": {
      "model_module": "@jupyter-widgets/controls",
      "model_module_version": "1.5.0",
      "model_name": "SliderStyleModel",
      "state": {
       "description_width": ""
      }
     },
     "2c0fc2bf148944308879a4f150a54d26": {
      "model_module": "@jupyter-widgets/base",
      "model_module_version": "1.2.0",
      "model_name": "LayoutModel",
      "state": {}
     },
     "2c311e225b6e484cac3f2ff9514687a1": {
      "model_module": "@jupyter-widgets/base",
      "model_module_version": "1.2.0",
      "model_name": "LayoutModel",
      "state": {}
     },
     "2c682d15f4844a8e9048322f08fa0aee": {
      "model_module": "@jupyter-widgets/controls",
      "model_module_version": "1.5.0",
      "model_name": "FloatTextModel",
      "state": {
       "description": "Solution:",
       "layout": "IPY_MODEL_8a696c4dd56c43f98299debba244f038",
       "step": null,
       "style": "IPY_MODEL_e816487a69a24f6b8c9ce714502b6d52",
       "value": 7.5
      }
     },
     "2e51940b28844856a925786dac4fbbc2": {
      "model_module": "@jupyter-widgets/base",
      "model_module_version": "1.2.0",
      "model_name": "LayoutModel",
      "state": {}
     },
     "2ecc8c2283a442e29b62c51900a14cc7": {
      "model_module": "ipycanvas",
      "model_module_version": "^0.12",
      "model_name": "CanvasManagerModel",
      "state": {
       "_model_module_version": "^0.12",
       "_view_module": null,
       "_view_module_version": ""
      }
     },
     "2fed0a27c1484ec2a391d6550c4cf3b7": {
      "model_module": "@jupyter-widgets/base",
      "model_module_version": "1.2.0",
      "model_name": "LayoutModel",
      "state": {}
     },
     "30693fa6c1b84249abe5e7b27814cf61": {
      "model_module": "@jupyter-widgets/base",
      "model_module_version": "1.2.0",
      "model_name": "LayoutModel",
      "state": {}
     },
     "30fbd911370d4c61b40783cf0d3d5644": {
      "model_module": "@jupyter-widgets/controls",
      "model_module_version": "1.5.0",
      "model_name": "DescriptionStyleModel",
      "state": {
       "description_width": ""
      }
     },
     "31f73fb287f04c99bb9ebcbf05b8cfb6": {
      "model_module": "@jupyter-widgets/controls",
      "model_module_version": "1.5.0",
      "model_name": "IntSliderModel",
      "state": {
       "description": "D1",
       "layout": "IPY_MODEL_51dbd6b153f94b00a73b123cac4dfb5f",
       "max": 150,
       "min": 10,
       "style": "IPY_MODEL_8ed4bdb3dfc4465b9574bb85d7d9aae6",
       "value": 10
      }
     },
     "32e6d7462a0f4486aa06fb290c2870de": {
      "model_module": "@jupyter-widgets/controls",
      "model_module_version": "1.5.0",
      "model_name": "IntSliderModel",
      "state": {
       "description": "U1",
       "layout": "IPY_MODEL_66c3a9d5162c42bda60cbae770190d17",
       "max": 150,
       "min": 1,
       "style": "IPY_MODEL_25dd6404db0b4dae8a72561e7a465fe8",
       "value": 5
      }
     },
     "32ffbaefb62b4470b66ee831f482fbcb": {
      "model_module": "@jupyter-widgets/controls",
      "model_module_version": "1.5.0",
      "model_name": "HTMLMathModel",
      "state": {
       "layout": "IPY_MODEL_d74c67d1b3714f17ba3027c7c98ae222",
       "style": "IPY_MODEL_5f8c6988f3204678838dce4dceea22b5",
       "value": "$$U_2 = \\frac{100}{100} \\cdot 5 = 5.0$$"
      }
     },
     "33ac08515d8948ceb98be5be00b68c38": {
      "model_module": "@jupyter-widgets/controls",
      "model_module_version": "1.5.0",
      "model_name": "IntSliderModel",
      "state": {
       "description": "D2",
       "layout": "IPY_MODEL_5464e6bf996f41c0bef78c005f336e85",
       "max": 150,
       "min": 10,
       "style": "IPY_MODEL_b79e9bdb7ada43079c2c1c2943c9ecab",
       "value": 10
      }
     },
     "34a6e33e64014f51bdc0ce64949ab982": {
      "model_module": "@jupyter-widgets/controls",
      "model_module_version": "1.5.0",
      "model_name": "IntSliderModel",
      "state": {
       "description": "U1",
       "layout": "IPY_MODEL_d9fa0b71a76e43719ef5ec22d21faa6e",
       "max": 150,
       "min": 1,
       "style": "IPY_MODEL_d5c689adec96490ba436c96df1fa8c90",
       "value": 5
      }
     },
     "3648e2a033df4befb366fd8b0228166c": {
      "model_module": "@jupyter-widgets/base",
      "model_module_version": "1.2.0",
      "model_name": "LayoutModel",
      "state": {}
     },
     "39b458fdc51d4af3a4fec62336303d91": {
      "model_module": "@jupyter-widgets/controls",
      "model_module_version": "1.5.0",
      "model_name": "HTMLMathModel",
      "state": {
       "layout": "IPY_MODEL_942224dcad2b4d4baa1782991f8d96cf",
       "style": "IPY_MODEL_bd0f6d51cf414e8f99ff193020f3d69c",
       "value": "$$U_2 = \\frac{100}{100} \\cdot 5 = 5.0$$"
      }
     },
     "3aa73ff16b854727b7c3f3e2cd0f299e": {
      "model_module": "@jupyter-widgets/controls",
      "model_module_version": "1.5.0",
      "model_name": "IntSliderModel",
      "state": {
       "description": "D2",
       "layout": "IPY_MODEL_4339b624c25f442eb56b0fbd29f5c1d4",
       "max": 150,
       "min": 10,
       "style": "IPY_MODEL_49675214aef14970a811241d778cfed8",
       "value": 10
      }
     },
     "3b8d5ce871644574af4e089005b06f80": {
      "model_module": "@jupyter-widgets/base",
      "model_module_version": "1.2.0",
      "model_name": "LayoutModel",
      "state": {}
     },
     "3da78e0977c241668bdb95447a25c2e6": {
      "model_module": "@jupyter-widgets/base",
      "model_module_version": "1.2.0",
      "model_name": "LayoutModel",
      "state": {}
     },
     "3df807986ed245569509fe1877d52b69": {
      "model_module": "@jupyter-widgets/base",
      "model_module_version": "1.2.0",
      "model_name": "LayoutModel",
      "state": {}
     },
     "4002a7b4e0bf4fff8a1a451898b14180": {
      "model_module": "@jupyter-widgets/controls",
      "model_module_version": "1.5.0",
      "model_name": "ButtonModel",
      "state": {
       "description": "Confirm",
       "layout": "IPY_MODEL_c19acedfa73641e9bcff1902085a4031",
       "style": "IPY_MODEL_4f313e62dde44f1f866bb6b87a85a57f"
      }
     },
     "40ddcc2ea1ee4f13b04135783e3f70c8": {
      "model_module": "@jupyter-widgets/controls",
      "model_module_version": "1.5.0",
      "model_name": "IntSliderModel",
      "state": {
       "description": "D1",
       "layout": "IPY_MODEL_c40c45457d044f6c971525e16cc4065c",
       "max": 150,
       "min": 10,
       "style": "IPY_MODEL_ae9e4a9c226145b1a1b5b225016e54bb",
       "value": 10
      }
     },
     "4339b624c25f442eb56b0fbd29f5c1d4": {
      "model_module": "@jupyter-widgets/base",
      "model_module_version": "1.2.0",
      "model_name": "LayoutModel",
      "state": {}
     },
     "43a9497c01cf4792a6d3ff09a7587ad2": {
      "model_module": "@jupyter-widgets/base",
      "model_module_version": "1.2.0",
      "model_name": "LayoutModel",
      "state": {}
     },
     "46a2572cab3b41a68b089b1fef06e8a2": {
      "model_module": "@jupyter-widgets/controls",
      "model_module_version": "1.5.0",
      "model_name": "IntSliderModel",
      "state": {
       "description": "U1",
       "layout": "IPY_MODEL_bc2b4a04f8364e549124ec9007df1780",
       "max": 150,
       "min": 1,
       "style": "IPY_MODEL_47ad39d64e274934b1dd14a83bada389",
       "value": 5
      }
     },
     "46c9276044f044b2831502fc31577145": {
      "model_module": "@jupyter-widgets/controls",
      "model_module_version": "1.5.0",
      "model_name": "HTMLMathModel",
      "state": {
       "layout": "IPY_MODEL_6d95d14f91584456ad6d2bf041fd1436",
       "style": "IPY_MODEL_1c5bca6891e648ea8e1f53dd9bdc884a",
       "value": "$U2 = \\frac{841}{1521} \\cdot 35 = 19.35239973701512$"
      }
     },
     "475b010c5e164481aa4a65491920c77a": {
      "model_module": "@jupyter-widgets/controls",
      "model_module_version": "1.5.0",
      "model_name": "IntSliderModel",
      "state": {
       "description": "D1",
       "layout": "IPY_MODEL_de8078b06fda4e6a88143dfeb84656b7",
       "max": 150,
       "min": 10,
       "style": "IPY_MODEL_eb9f5dd231e9429caf7cf40076114651",
       "value": 10
      }
     },
     "47ad39d64e274934b1dd14a83bada389": {
      "model_module": "@jupyter-widgets/controls",
      "model_module_version": "1.5.0",
      "model_name": "SliderStyleModel",
      "state": {
       "description_width": ""
      }
     },
     "47d4f4863e5c4ecf95e3c57d6af9511e": {
      "model_module": "@jupyter-widgets/controls",
      "model_module_version": "1.5.0",
      "model_name": "IntSliderModel",
      "state": {
       "description": "D1",
       "layout": "IPY_MODEL_00e234e3a1334102aed070c3a03c3ed9",
       "max": 150,
       "min": 10,
       "style": "IPY_MODEL_2111449af14d4b7280ca5ec97d0cd8f1",
       "value": 10
      }
     },
     "481c66518c9e4b1a9bb906a192a044b5": {
      "model_module": "@jupyter-widgets/base",
      "model_module_version": "1.2.0",
      "model_name": "LayoutModel",
      "state": {}
     },
     "4896c1fdd7bb4a4585610d619b8ba4e8": {
      "model_module": "@jupyter-widgets/controls",
      "model_module_version": "1.5.0",
      "model_name": "IntSliderModel",
      "state": {
       "description": "D2",
       "layout": "IPY_MODEL_e59b59ad42d245b5afee6b5c6aec66b4",
       "max": 150,
       "min": 10,
       "style": "IPY_MODEL_b0cf6d351e364edbb986b8f39b6a51f0",
       "value": 10
      }
     },
     "48af2327d3da471db345a931e2d100fa": {
      "model_module": "@jupyter-widgets/controls",
      "model_module_version": "1.5.0",
      "model_name": "FloatTextModel",
      "state": {
       "description": "Solution:",
       "layout": "IPY_MODEL_f61f06c6157c4f3ea69174741c41ce3d",
       "step": null,
       "style": "IPY_MODEL_108279899e2c4852ac9a6efc2b5a4b81",
       "value": 294.33
      }
     },
     "48c96a7ae5ba40f29a14c11e59a0d676": {
      "model_module": "@jupyter-widgets/controls",
      "model_module_version": "1.5.0",
      "model_name": "HBoxModel",
      "state": {
       "children": [
        "IPY_MODEL_81746336863040e5a9628390893661ad",
        "IPY_MODEL_4002a7b4e0bf4fff8a1a451898b14180"
       ],
       "layout": "IPY_MODEL_f831db0645a84633abdb5725baf74f8f"
      }
     },
     "49675214aef14970a811241d778cfed8": {
      "model_module": "@jupyter-widgets/controls",
      "model_module_version": "1.5.0",
      "model_name": "SliderStyleModel",
      "state": {
       "description_width": ""
      }
     },
     "4e2fb0a3c1a54f4983d27402a2aef2e6": {
      "model_module": "@jupyter-widgets/controls",
      "model_module_version": "1.5.0",
      "model_name": "SliderStyleModel",
      "state": {
       "description_width": ""
      }
     },
     "4f313e62dde44f1f866bb6b87a85a57f": {
      "model_module": "@jupyter-widgets/controls",
      "model_module_version": "1.5.0",
      "model_name": "ButtonStyleModel",
      "state": {}
     },
     "4f7cf37da8594e9ba8c6c0acf9bc6a67": {
      "model_module": "@jupyter-widgets/controls",
      "model_module_version": "1.5.0",
      "model_name": "IntSliderModel",
      "state": {
       "description": "D1",
       "layout": "IPY_MODEL_aa43309e193447d1848828b218121f6f",
       "max": 150,
       "min": 10,
       "style": "IPY_MODEL_ab0d654ffc1747cea6e8c65baae3acfd",
       "value": 29
      }
     },
     "50305f986c684028a17fd4063e724664": {
      "model_module": "@jupyter-widgets/controls",
      "model_module_version": "1.5.0",
      "model_name": "DescriptionStyleModel",
      "state": {
       "description_width": ""
      }
     },
     "508d03faf5ba4a23b1e290781d6e1812": {
      "model_module": "@jupyter-widgets/base",
      "model_module_version": "1.2.0",
      "model_name": "LayoutModel",
      "state": {}
     },
     "51dbd6b153f94b00a73b123cac4dfb5f": {
      "model_module": "@jupyter-widgets/base",
      "model_module_version": "1.2.0",
      "model_name": "LayoutModel",
      "state": {}
     },
     "520a3f7126c240858cb5d2df64434486": {
      "model_module": "@jupyter-widgets/base",
      "model_module_version": "1.2.0",
      "model_name": "LayoutModel",
      "state": {}
     },
     "539d550b3e1a4fd59d946888fc46545e": {
      "model_module": "@jupyter-widgets/base",
      "model_module_version": "1.2.0",
      "model_name": "LayoutModel",
      "state": {}
     },
     "5464e6bf996f41c0bef78c005f336e85": {
      "model_module": "@jupyter-widgets/base",
      "model_module_version": "1.2.0",
      "model_name": "LayoutModel",
      "state": {}
     },
     "5568ad88e593488a8840e9a9dda523b2": {
      "model_module": "@jupyter-widgets/controls",
      "model_module_version": "1.5.0",
      "model_name": "SliderStyleModel",
      "state": {
       "description_width": ""
      }
     },
     "5831b6fd0d0e4930b9f6a74d2ac51efe": {
      "model_module": "@jupyter-widgets/controls",
      "model_module_version": "1.5.0",
      "model_name": "DescriptionStyleModel",
      "state": {
       "description_width": ""
      }
     },
     "5879bee0a43643539f73e9d6402c0327": {
      "model_module": "@jupyter-widgets/base",
      "model_module_version": "1.2.0",
      "model_name": "LayoutModel",
      "state": {}
     },
     "5a9e7b31bd3b489bb74be3158e58941a": {
      "model_module": "@jupyter-widgets/controls",
      "model_module_version": "1.5.0",
      "model_name": "HBoxModel",
      "state": {
       "children": [
        "IPY_MODEL_48af2327d3da471db345a931e2d100fa",
        "IPY_MODEL_89b2547b91564745a3c67b983f10a95c"
       ],
       "layout": "IPY_MODEL_539d550b3e1a4fd59d946888fc46545e"
      }
     },
     "5cf0d6509672474f946a4a6ea6d85ffd": {
      "model_module": "@jupyter-widgets/base",
      "model_module_version": "1.2.0",
      "model_name": "LayoutModel",
      "state": {}
     },
     "5e44322032ad4576afd5b52a8af7be16": {
      "model_module": "@jupyter-widgets/base",
      "model_module_version": "1.2.0",
      "model_name": "LayoutModel",
      "state": {}
     },
     "5f8c6988f3204678838dce4dceea22b5": {
      "model_module": "@jupyter-widgets/controls",
      "model_module_version": "1.5.0",
      "model_name": "DescriptionStyleModel",
      "state": {
       "description_width": ""
      }
     },
     "64d289dd17eb44558174eb1b7c3733b1": {
      "model_module": "@jupyter-widgets/controls",
      "model_module_version": "1.5.0",
      "model_name": "LabelModel",
      "state": {
       "layout": "IPY_MODEL_b8e408fa4a0744b88468188e8f140b03",
       "style": "IPY_MODEL_5831b6fd0d0e4930b9f6a74d2ac51efe",
       "value": "You did it!"
      }
     },
     "66c3a9d5162c42bda60cbae770190d17": {
      "model_module": "@jupyter-widgets/base",
      "model_module_version": "1.2.0",
      "model_name": "LayoutModel",
      "state": {}
     },
     "6816a9af3e8c4a14be52a80a349a7b8d": {
      "model_module": "@jupyter-widgets/controls",
      "model_module_version": "1.5.0",
      "model_name": "SliderStyleModel",
      "state": {
       "description_width": ""
      }
     },
     "6ad3615d9ccb4d25a262abb88e1931cd": {
      "model_module": "ipycanvas",
      "model_module_version": "^0.12",
      "model_name": "CanvasModel",
      "state": {
       "_model_module_version": "^0.12",
       "_view_module_version": "^0.12",
       "height": 300,
       "layout": "IPY_MODEL_01e4432de9394fb0bb5f89e16f1a78f1",
       "width": 800
      }
     },
     "6bf92e7f0a134707a57263a6f881ec92": {
      "model_module": "@jupyter-widgets/controls",
      "model_module_version": "1.5.0",
      "model_name": "HTMLMathModel",
      "state": {
       "layout": "IPY_MODEL_fa9047e71a07437c9cba8e95bb6fa323",
       "style": "IPY_MODEL_70dce290fbbb4ed6a303631f8e7a4b5a",
       "value": "$$U_2 = \\frac{100}{100} \\cdot 5 = 5.0$$"
      }
     },
     "6d95d14f91584456ad6d2bf041fd1436": {
      "model_module": "@jupyter-widgets/base",
      "model_module_version": "1.2.0",
      "model_name": "LayoutModel",
      "state": {}
     },
     "6e779ab8bff3449ebe1a6e58093c8d3a": {
      "model_module": "@jupyter-widgets/controls",
      "model_module_version": "1.5.0",
      "model_name": "HBoxModel",
      "state": {
       "children": [
        "IPY_MODEL_2c682d15f4844a8e9048322f08fa0aee",
        "IPY_MODEL_fa33d35e365543569e3027b2a29610d1"
       ],
       "layout": "IPY_MODEL_05342cf96b6244e5b616808f489b5d09"
      }
     },
     "70dce290fbbb4ed6a303631f8e7a4b5a": {
      "model_module": "@jupyter-widgets/controls",
      "model_module_version": "1.5.0",
      "model_name": "DescriptionStyleModel",
      "state": {
       "description_width": ""
      }
     },
     "716ad0ce76244292b4a05bbf6157e9af": {
      "model_module": "@jupyter-widgets/base",
      "model_module_version": "1.2.0",
      "model_name": "LayoutModel",
      "state": {}
     },
     "733a54f835194195b93473e666720f13": {
      "model_module": "ipycanvas",
      "model_module_version": "^0.12",
      "model_name": "CanvasManagerModel",
      "state": {
       "_model_module_version": "^0.12",
       "_view_module": null,
       "_view_module_version": ""
      }
     },
     "73c81270860a4f66b0e41ea881ec3214": {
      "model_module": "@jupyter-widgets/base",
      "model_module_version": "1.2.0",
      "model_name": "LayoutModel",
      "state": {}
     },
     "7c286f25b93841589911796722986af4": {
      "model_module": "@jupyter-widgets/controls",
      "model_module_version": "1.5.0",
      "model_name": "IntSliderModel",
      "state": {
       "description": "D2",
       "layout": "IPY_MODEL_3b8d5ce871644574af4e089005b06f80",
       "max": 150,
       "min": 10,
       "style": "IPY_MODEL_cfbb3b84e1a749368ae8c9a9215533e1",
       "value": 10
      }
     },
     "7e563b2a3a234705ada695305f6d6c9b": {
      "model_module": "@jupyter-widgets/controls",
      "model_module_version": "1.5.0",
      "model_name": "IntSliderModel",
      "state": {
       "description": "U1",
       "layout": "IPY_MODEL_3648e2a033df4befb366fd8b0228166c",
       "max": 150,
       "min": 1,
       "style": "IPY_MODEL_f8d17743296943e3a6d499661c1b457e",
       "value": 5
      }
     },
     "7e7b522202154f8fb27fe9029c86b00c": {
      "model_module": "@jupyter-widgets/base",
      "model_module_version": "1.2.0",
      "model_name": "LayoutModel",
      "state": {}
     },
     "7fda2eac2e454ee1ad26a1eac016dab2": {
      "model_module": "@jupyter-widgets/controls",
      "model_module_version": "1.5.0",
      "model_name": "IntSliderModel",
      "state": {
       "description": "D1",
       "layout": "IPY_MODEL_2c0fc2bf148944308879a4f150a54d26",
       "max": 150,
       "min": 10,
       "style": "IPY_MODEL_ca679824e4bb42298906e6799f6139f3",
       "value": 29
      }
     },
     "801fa5fcb8d74d11b72ab7e83e9ec924": {
      "model_module": "@jupyter-widgets/base",
      "model_module_version": "1.2.0",
      "model_name": "LayoutModel",
      "state": {}
     },
     "81746336863040e5a9628390893661ad": {
      "model_module": "@jupyter-widgets/controls",
      "model_module_version": "1.5.0",
      "model_name": "FloatTextModel",
      "state": {
       "description": "Solution:",
       "layout": "IPY_MODEL_5879bee0a43643539f73e9d6402c0327",
       "step": null,
       "style": "IPY_MODEL_16322daf9c1f4ebb85cc5bdb0cb1d008",
       "value": 19.35239973701512
      }
     },
     "84008a5f5f534ccab32e519b01a195cc": {
      "model_module": "@jupyter-widgets/controls",
      "model_module_version": "1.5.0",
      "model_name": "IntSliderModel",
      "state": {
       "description": "D1",
       "layout": "IPY_MODEL_a4f6b304dbc24441828b0de268e1a7da",
       "max": 150,
       "min": 10,
       "style": "IPY_MODEL_d7cb1b1aa268471f9889195f85c8f143",
       "value": 10
      }
     },
     "84ce8b48bee94c109db505693c1bf370": {
      "model_module": "@jupyter-widgets/controls",
      "model_module_version": "1.5.0",
      "model_name": "IntSliderModel",
      "state": {
       "description": "D2",
       "layout": "IPY_MODEL_2fed0a27c1484ec2a391d6550c4cf3b7",
       "max": 150,
       "min": 10,
       "style": "IPY_MODEL_2b49f56274e04fee9ca3583e629d3d07",
       "value": 10
      }
     },
     "862fba2765ac4c36b44e36eee0cc6bf3": {
      "model_module": "@jupyter-widgets/base",
      "model_module_version": "1.2.0",
      "model_name": "LayoutModel",
      "state": {}
     },
     "8694e0eff6b342fa9dd6b5dc468df33f": {
      "model_module": "@jupyter-widgets/base",
      "model_module_version": "1.2.0",
      "model_name": "LayoutModel",
      "state": {}
     },
     "89b2547b91564745a3c67b983f10a95c": {
      "model_module": "@jupyter-widgets/controls",
      "model_module_version": "1.5.0",
      "model_name": "ButtonModel",
      "state": {
       "description": "Confirm",
       "layout": "IPY_MODEL_b7c2017654954460adc850b42491e276",
       "style": "IPY_MODEL_be183167e5074eda8aea761979e372d5"
      }
     },
     "8a696c4dd56c43f98299debba244f038": {
      "model_module": "@jupyter-widgets/base",
      "model_module_version": "1.2.0",
      "model_name": "LayoutModel",
      "state": {}
     },
     "8ab68729abbe426d8a19fdbd60309605": {
      "model_module": "@jupyter-widgets/base",
      "model_module_version": "1.2.0",
      "model_name": "LayoutModel",
      "state": {}
     },
     "8ac67f0fec9a4acfbdf2ac8033641512": {
      "model_module": "@jupyter-widgets/base",
      "model_module_version": "1.2.0",
      "model_name": "LayoutModel",
      "state": {}
     },
     "8c0646c3a97a46748b10d394ad837f4c": {
      "model_module": "@jupyter-widgets/controls",
      "model_module_version": "1.5.0",
      "model_name": "SliderStyleModel",
      "state": {
       "description_width": ""
      }
     },
     "8cd5a24540884c5494555097e25f2926": {
      "model_module": "ipycanvas",
      "model_module_version": "^0.12",
      "model_name": "CanvasManagerModel",
      "state": {
       "_model_module_version": "^0.12",
       "_view_module": null,
       "_view_module_version": ""
      }
     },
     "8ed4bdb3dfc4465b9574bb85d7d9aae6": {
      "model_module": "@jupyter-widgets/controls",
      "model_module_version": "1.5.0",
      "model_name": "SliderStyleModel",
      "state": {
       "description_width": ""
      }
     },
     "90b74bfddf674419a3d2094bbaf47308": {
      "model_module": "@jupyter-widgets/controls",
      "model_module_version": "1.5.0",
      "model_name": "SliderStyleModel",
      "state": {
       "description_width": ""
      }
     },
     "912e72bc2de247fd97d325feb78c3eae": {
      "model_module": "@jupyter-widgets/controls",
      "model_module_version": "1.5.0",
      "model_name": "SliderStyleModel",
      "state": {
       "description_width": ""
      }
     },
     "925425a1098341cd831f5b72b345f2be": {
      "model_module": "@jupyter-widgets/controls",
      "model_module_version": "1.5.0",
      "model_name": "DescriptionStyleModel",
      "state": {
       "description_width": ""
      }
     },
     "942224dcad2b4d4baa1782991f8d96cf": {
      "model_module": "@jupyter-widgets/base",
      "model_module_version": "1.2.0",
      "model_name": "LayoutModel",
      "state": {}
     },
     "94b91df5fea64c4b97f5978e65578b2f": {
      "model_module": "@jupyter-widgets/controls",
      "model_module_version": "1.5.0",
      "model_name": "DescriptionStyleModel",
      "state": {
       "description_width": ""
      }
     },
     "958e27417af349eeaf04214bf7a69337": {
      "model_module": "ipycanvas",
      "model_module_version": "^0.12",
      "model_name": "CanvasModel",
      "state": {
       "_model_module_version": "^0.12",
       "_view_module_version": "^0.12",
       "height": 300,
       "layout": "IPY_MODEL_9bbe297101804feaa5b00b43cec30388",
       "width": 800
      }
     },
     "97326b989b2e4ef6aee54c33d02a6e63": {
      "model_module": "@jupyter-widgets/base",
      "model_module_version": "1.2.0",
      "model_name": "LayoutModel",
      "state": {}
     },
     "97a41ce59cb84c66aab4ab4d10137bc7": {
      "model_module": "@jupyter-widgets/controls",
      "model_module_version": "1.5.0",
      "model_name": "SliderStyleModel",
      "state": {
       "description_width": ""
      }
     },
     "97ef26bef934409791754ab986a82cad": {
      "model_module": "@jupyter-widgets/controls",
      "model_module_version": "1.5.0",
      "model_name": "SliderStyleModel",
      "state": {
       "description_width": ""
      }
     },
     "981db40467b0434a9f2ee1b2d2a4af69": {
      "model_module": "ipycanvas",
      "model_module_version": "^0.12",
      "model_name": "CanvasModel",
      "state": {
       "_model_module_version": "^0.12",
       "_view_module_version": "^0.12",
       "height": 300,
       "layout": "IPY_MODEL_deffa3391ddb40e2bf9796bfa7ab7011",
       "width": 800
      }
     },
     "9bbe297101804feaa5b00b43cec30388": {
      "model_module": "@jupyter-widgets/base",
      "model_module_version": "1.2.0",
      "model_name": "LayoutModel",
      "state": {}
     },
     "9dbe48ca70cc48b0aa35c1f2b0ac764c": {
      "model_module": "@jupyter-widgets/base",
      "model_module_version": "1.2.0",
      "model_name": "LayoutModel",
      "state": {}
     },
     "9fcc04702bf84eefbed223a60e956061": {
      "model_module": "@jupyter-widgets/controls",
      "model_module_version": "1.5.0",
      "model_name": "IntSliderModel",
      "state": {
       "description": "U1",
       "layout": "IPY_MODEL_30693fa6c1b84249abe5e7b27814cf61",
       "max": 150,
       "min": 1,
       "style": "IPY_MODEL_8c0646c3a97a46748b10d394ad837f4c",
       "value": 5
      }
     },
     "a1aaf4cab16f4555824f9553465e804f": {
      "model_module": "@jupyter-widgets/controls",
      "model_module_version": "1.5.0",
      "model_name": "HTMLMathModel",
      "state": {
       "layout": "IPY_MODEL_eb9b457e697444de9bf97a91700e711f",
       "style": "IPY_MODEL_94b91df5fea64c4b97f5978e65578b2f",
       "value": "$$U_2 = \\frac{100}{100} \\cdot 5 = 5.0$$"
      }
     },
     "a20ed2b1549f47a8afa8500f9fea729c": {
      "model_module": "@jupyter-widgets/controls",
      "model_module_version": "1.5.0",
      "model_name": "HTMLMathModel",
      "state": {
       "layout": "IPY_MODEL_d6e785b9897c4efea2648d1262032c8f",
       "style": "IPY_MODEL_d6145910d06e48b4ad46ce6564c39c89",
       "value": "$U2 = \\frac{841}{1521} \\cdot 35 = 19.35239973701512$"
      }
     },
     "a3ed2948dd26498382c3e8bc49e72249": {
      "model_module": "ipycanvas",
      "model_module_version": "^0.12",
      "model_name": "CanvasModel",
      "state": {
       "_model_module_version": "^0.12",
       "_view_module_version": "^0.12",
       "height": 300,
       "layout": "IPY_MODEL_73c81270860a4f66b0e41ea881ec3214",
       "width": 800
      }
     },
     "a4f6b304dbc24441828b0de268e1a7da": {
      "model_module": "@jupyter-widgets/base",
      "model_module_version": "1.2.0",
      "model_name": "LayoutModel",
      "state": {}
     },
     "a6967b7651a24a6a81b39bd051c2ecde": {
      "model_module": "@jupyter-widgets/base",
      "model_module_version": "1.2.0",
      "model_name": "LayoutModel",
      "state": {}
     },
     "a7e3137788fa4164bdc99d51d9f3cbcb": {
      "model_module": "@jupyter-widgets/controls",
      "model_module_version": "1.5.0",
      "model_name": "IntSliderModel",
      "state": {
       "description": "U1",
       "layout": "IPY_MODEL_b07596b893d34801b73ef21a61f6d16f",
       "max": 150,
       "min": 1,
       "style": "IPY_MODEL_09eb72ac533642849739e51c929f3969",
       "value": 35
      }
     },
     "aa43309e193447d1848828b218121f6f": {
      "model_module": "@jupyter-widgets/base",
      "model_module_version": "1.2.0",
      "model_name": "LayoutModel",
      "state": {}
     },
     "ab0d654ffc1747cea6e8c65baae3acfd": {
      "model_module": "@jupyter-widgets/controls",
      "model_module_version": "1.5.0",
      "model_name": "SliderStyleModel",
      "state": {
       "description_width": ""
      }
     },
     "ab609348777141f7b4feb5102ee5f408": {
      "model_module": "ipycanvas",
      "model_module_version": "^0.12",
      "model_name": "CanvasManagerModel",
      "state": {
       "_model_module_version": "^0.12",
       "_view_module": null,
       "_view_module_version": ""
      }
     },
     "ae9e4a9c226145b1a1b5b225016e54bb": {
      "model_module": "@jupyter-widgets/controls",
      "model_module_version": "1.5.0",
      "model_name": "SliderStyleModel",
      "state": {
       "description_width": ""
      }
     },
     "b07596b893d34801b73ef21a61f6d16f": {
      "model_module": "@jupyter-widgets/base",
      "model_module_version": "1.2.0",
      "model_name": "LayoutModel",
      "state": {}
     },
     "b0cf6d351e364edbb986b8f39b6a51f0": {
      "model_module": "@jupyter-widgets/controls",
      "model_module_version": "1.5.0",
      "model_name": "SliderStyleModel",
      "state": {
       "description_width": ""
      }
     },
     "b0dfcead8fc342c0a95e8eb71e3e1495": {
      "model_module": "ipycanvas",
      "model_module_version": "^0.12",
      "model_name": "CanvasModel",
      "state": {
       "_model_module_version": "^0.12",
       "_view_module_version": "^0.12",
       "height": 300,
       "layout": "IPY_MODEL_520a3f7126c240858cb5d2df64434486",
       "width": 800
      }
     },
     "b0e200c332b24862a74a7237bc47f830": {
      "model_module": "@jupyter-widgets/controls",
      "model_module_version": "1.5.0",
      "model_name": "DescriptionStyleModel",
      "state": {
       "description_width": ""
      }
     },
     "b301fc8af1aa475281ec58971ae6e1ed": {
      "model_module": "ipycanvas",
      "model_module_version": "^0.12",
      "model_name": "CanvasManagerModel",
      "state": {
       "_model_module_version": "^0.12",
       "_view_module": null,
       "_view_module_version": ""
      }
     },
     "b5a69875bf454a6e9a6982ba89e768ca": {
      "model_module": "@jupyter-widgets/controls",
      "model_module_version": "1.5.0",
      "model_name": "IntSliderModel",
      "state": {
       "description": "D2",
       "layout": "IPY_MODEL_8ab68729abbe426d8a19fdbd60309605",
       "max": 150,
       "min": 10,
       "style": "IPY_MODEL_d40250e2fbae4d44ba5bae1dfbacdcc6",
       "value": 10
      }
     },
     "b5c9320ae5814e2ab097e4bffd8b1173": {
      "model_module": "@jupyter-widgets/controls",
      "model_module_version": "1.5.0",
      "model_name": "HTMLMathModel",
      "state": {
       "layout": "IPY_MODEL_508d03faf5ba4a23b1e290781d6e1812",
       "style": "IPY_MODEL_273ab3e5120849658a2b942ae5023fd7",
       "value": "$$U_2 = \\frac{100}{100} \\cdot 5 = 5.0$$"
      }
     },
     "b7681c0a98c24b8e93c1ee709459e62e": {
      "model_module": "ipycanvas",
      "model_module_version": "^0.12",
      "model_name": "CanvasManagerModel",
      "state": {
       "_model_module_version": "^0.12",
       "_view_module": null,
       "_view_module_version": ""
      }
     },
     "b79e9bdb7ada43079c2c1c2943c9ecab": {
      "model_module": "@jupyter-widgets/controls",
      "model_module_version": "1.5.0",
      "model_name": "SliderStyleModel",
      "state": {
       "description_width": ""
      }
     },
     "b7c2017654954460adc850b42491e276": {
      "model_module": "@jupyter-widgets/base",
      "model_module_version": "1.2.0",
      "model_name": "LayoutModel",
      "state": {}
     },
     "b8e408fa4a0744b88468188e8f140b03": {
      "model_module": "@jupyter-widgets/base",
      "model_module_version": "1.2.0",
      "model_name": "LayoutModel",
      "state": {}
     },
     "bc2b4a04f8364e549124ec9007df1780": {
      "model_module": "@jupyter-widgets/base",
      "model_module_version": "1.2.0",
      "model_name": "LayoutModel",
      "state": {}
     },
     "bd0f6d51cf414e8f99ff193020f3d69c": {
      "model_module": "@jupyter-widgets/controls",
      "model_module_version": "1.5.0",
      "model_name": "DescriptionStyleModel",
      "state": {
       "description_width": ""
      }
     },
     "bde1869ee2fb4e749a0bd6552303820d": {
      "model_module": "@jupyter-widgets/controls",
      "model_module_version": "1.5.0",
      "model_name": "IntSliderModel",
      "state": {
       "description": "D1",
       "layout": "IPY_MODEL_716ad0ce76244292b4a05bbf6157e9af",
       "max": 150,
       "min": 10,
       "style": "IPY_MODEL_f91566206b9e45b9b334f3e4078e9c7a",
       "value": 10
      }
     },
     "be183167e5074eda8aea761979e372d5": {
      "model_module": "@jupyter-widgets/controls",
      "model_module_version": "1.5.0",
      "model_name": "ButtonStyleModel",
      "state": {}
     },
     "bee1a21f54ba4525918a1509669c0e4a": {
      "model_module": "ipycanvas",
      "model_module_version": "^0.12",
      "model_name": "CanvasManagerModel",
      "state": {
       "_model_module_version": "^0.12",
       "_view_module": null,
       "_view_module_version": ""
      }
     },
     "c16c64346d874d8e99edc7c73b933b29": {
      "model_module": "@jupyter-widgets/base",
      "model_module_version": "1.2.0",
      "model_name": "LayoutModel",
      "state": {}
     },
     "c19acedfa73641e9bcff1902085a4031": {
      "model_module": "@jupyter-widgets/base",
      "model_module_version": "1.2.0",
      "model_name": "LayoutModel",
      "state": {}
     },
     "c40c45457d044f6c971525e16cc4065c": {
      "model_module": "@jupyter-widgets/base",
      "model_module_version": "1.2.0",
      "model_name": "LayoutModel",
      "state": {}
     },
     "c66acb41b3df409081b5411ced4efc69": {
      "model_module": "@jupyter-widgets/controls",
      "model_module_version": "1.5.0",
      "model_name": "SliderStyleModel",
      "state": {
       "description_width": ""
      }
     },
     "ca679824e4bb42298906e6799f6139f3": {
      "model_module": "@jupyter-widgets/controls",
      "model_module_version": "1.5.0",
      "model_name": "SliderStyleModel",
      "state": {
       "description_width": ""
      }
     },
     "cb5e61a0821a485285fe54d2a58aae94": {
      "model_module": "@jupyter-widgets/controls",
      "model_module_version": "1.5.0",
      "model_name": "IntSliderModel",
      "state": {
       "description": "D2",
       "layout": "IPY_MODEL_43a9497c01cf4792a6d3ff09a7587ad2",
       "max": 150,
       "min": 10,
       "style": "IPY_MODEL_90b74bfddf674419a3d2094bbaf47308",
       "value": 39
      }
     },
     "cda0b43c2b5e47f4b85952acadd98f61": {
      "model_module": "@jupyter-widgets/base",
      "model_module_version": "1.2.0",
      "model_name": "LayoutModel",
      "state": {}
     },
     "cfbb3b84e1a749368ae8c9a9215533e1": {
      "model_module": "@jupyter-widgets/controls",
      "model_module_version": "1.5.0",
      "model_name": "SliderStyleModel",
      "state": {
       "description_width": ""
      }
     },
     "d112329c6c4b4459af15fedfcf8db6f3": {
      "model_module": "@jupyter-widgets/controls",
      "model_module_version": "1.5.0",
      "model_name": "IntSliderModel",
      "state": {
       "description": "D1",
       "layout": "IPY_MODEL_5e44322032ad4576afd5b52a8af7be16",
       "max": 150,
       "min": 10,
       "style": "IPY_MODEL_c66acb41b3df409081b5411ced4efc69",
       "value": 10
      }
     },
     "d287530ea1064e5e80d4015065a7f3ca": {
      "model_module": "ipycanvas",
      "model_module_version": "^0.12",
      "model_name": "CanvasModel",
      "state": {
       "_model_module_version": "^0.12",
       "_view_module_version": "^0.12",
       "height": 300,
       "layout": "IPY_MODEL_8694e0eff6b342fa9dd6b5dc468df33f",
       "width": 800
      }
     },
     "d3a600d697144de083c3eb79cd877ea2": {
      "model_module": "ipycanvas",
      "model_module_version": "^0.12",
      "model_name": "CanvasModel",
      "state": {
       "_model_module_version": "^0.12",
       "_view_module_version": "^0.12",
       "height": 300,
       "layout": "IPY_MODEL_2e51940b28844856a925786dac4fbbc2",
       "width": 800
      }
     },
     "d40250e2fbae4d44ba5bae1dfbacdcc6": {
      "model_module": "@jupyter-widgets/controls",
      "model_module_version": "1.5.0",
      "model_name": "SliderStyleModel",
      "state": {
       "description_width": ""
      }
     },
     "d5c689adec96490ba436c96df1fa8c90": {
      "model_module": "@jupyter-widgets/controls",
      "model_module_version": "1.5.0",
      "model_name": "SliderStyleModel",
      "state": {
       "description_width": ""
      }
     },
     "d6145910d06e48b4ad46ce6564c39c89": {
      "model_module": "@jupyter-widgets/controls",
      "model_module_version": "1.5.0",
      "model_name": "DescriptionStyleModel",
      "state": {
       "description_width": ""
      }
     },
     "d6ca0bea88a14c838e5f3c82ec4c7a99": {
      "model_module": "@jupyter-widgets/controls",
      "model_module_version": "1.5.0",
      "model_name": "IntSliderModel",
      "state": {
       "description": "D1",
       "layout": "IPY_MODEL_1d4ba2154b584975bde79f610943c227",
       "max": 150,
       "min": 10,
       "style": "IPY_MODEL_97ef26bef934409791754ab986a82cad",
       "value": 10
      }
     },
     "d6e785b9897c4efea2648d1262032c8f": {
      "model_module": "@jupyter-widgets/base",
      "model_module_version": "1.2.0",
      "model_name": "LayoutModel",
      "state": {}
     },
     "d74c67d1b3714f17ba3027c7c98ae222": {
      "model_module": "@jupyter-widgets/base",
      "model_module_version": "1.2.0",
      "model_name": "LayoutModel",
      "state": {}
     },
     "d7cb1b1aa268471f9889195f85c8f143": {
      "model_module": "@jupyter-widgets/controls",
      "model_module_version": "1.5.0",
      "model_name": "SliderStyleModel",
      "state": {
       "description_width": ""
      }
     },
     "d9fa0b71a76e43719ef5ec22d21faa6e": {
      "model_module": "@jupyter-widgets/base",
      "model_module_version": "1.2.0",
      "model_name": "LayoutModel",
      "state": {}
     },
     "dc3322c99f5d475bb52a4c7a4fd301ab": {
      "model_module": "@jupyter-widgets/controls",
      "model_module_version": "1.5.0",
      "model_name": "IntSliderModel",
      "state": {
       "description": "D2",
       "layout": "IPY_MODEL_c16c64346d874d8e99edc7c73b933b29",
       "max": 150,
       "min": 10,
       "style": "IPY_MODEL_97a41ce59cb84c66aab4ab4d10137bc7",
       "value": 10
      }
     },
     "de8078b06fda4e6a88143dfeb84656b7": {
      "model_module": "@jupyter-widgets/base",
      "model_module_version": "1.2.0",
      "model_name": "LayoutModel",
      "state": {}
     },
     "deffa3391ddb40e2bf9796bfa7ab7011": {
      "model_module": "@jupyter-widgets/base",
      "model_module_version": "1.2.0",
      "model_name": "LayoutModel",
      "state": {}
     },
     "e00bd965393f4d0ebd415ac447e7a49c": {
      "model_module": "ipycanvas",
      "model_module_version": "^0.12",
      "model_name": "CanvasModel",
      "state": {
       "_model_module_version": "^0.12",
       "_view_module_version": "^0.12",
       "height": 300,
       "layout": "IPY_MODEL_112f5e0257714176b31c9bb75b95cd1c",
       "width": 800
      }
     },
     "e07e046a424c45d2a22d31d3a83a57b1": {
      "model_module": "@jupyter-widgets/controls",
      "model_module_version": "1.5.0",
      "model_name": "IntSliderModel",
      "state": {
       "description": "U1",
       "layout": "IPY_MODEL_ff8ea83f5e5146fdabc8a8fe204c2fb1",
       "max": 150,
       "min": 1,
       "style": "IPY_MODEL_e8597db3acbb4de887f2bf4d91c35f47",
       "value": 5
      }
     },
     "e59b59ad42d245b5afee6b5c6aec66b4": {
      "model_module": "@jupyter-widgets/base",
      "model_module_version": "1.2.0",
      "model_name": "LayoutModel",
      "state": {}
     },
     "e816487a69a24f6b8c9ce714502b6d52": {
      "model_module": "@jupyter-widgets/controls",
      "model_module_version": "1.5.0",
      "model_name": "DescriptionStyleModel",
      "state": {
       "description_width": ""
      }
     },
     "e8597db3acbb4de887f2bf4d91c35f47": {
      "model_module": "@jupyter-widgets/controls",
      "model_module_version": "1.5.0",
      "model_name": "SliderStyleModel",
      "state": {
       "description_width": ""
      }
     },
     "e9c5d62811254a58a93b80800008def0": {
      "model_module": "@jupyter-widgets/base",
      "model_module_version": "1.2.0",
      "model_name": "LayoutModel",
      "state": {}
     },
     "ea196c63897c479ea24e1ffdf7c37637": {
      "model_module": "@jupyter-widgets/controls",
      "model_module_version": "1.5.0",
      "model_name": "IntSliderModel",
      "state": {
       "description": "U1",
       "layout": "IPY_MODEL_3df807986ed245569509fe1877d52b69",
       "max": 150,
       "min": 1,
       "style": "IPY_MODEL_ff4b3b343b544c77bf279c288ef0d075",
       "value": 5
      }
     },
     "ea7e9bc8440d49d0b6c66cafb2d7e1d9": {
      "model_module": "@jupyter-widgets/base",
      "model_module_version": "1.2.0",
      "model_name": "LayoutModel",
      "state": {}
     },
     "eb5d425e0cb54631b0a3933e19e7852b": {
      "model_module": "@jupyter-widgets/controls",
      "model_module_version": "1.5.0",
      "model_name": "IntSliderModel",
      "state": {
       "description": "D2",
       "layout": "IPY_MODEL_2c311e225b6e484cac3f2ff9514687a1",
       "max": 150,
       "min": 10,
       "style": "IPY_MODEL_28efd6294f6c44dabf356811a75bc40a",
       "value": 10
      }
     },
     "eb9b457e697444de9bf97a91700e711f": {
      "model_module": "@jupyter-widgets/base",
      "model_module_version": "1.2.0",
      "model_name": "LayoutModel",
      "state": {}
     },
     "eb9f5dd231e9429caf7cf40076114651": {
      "model_module": "@jupyter-widgets/controls",
      "model_module_version": "1.5.0",
      "model_name": "SliderStyleModel",
      "state": {
       "description_width": ""
      }
     },
     "ed1e3988bfcc4fad99609ffec520b9ec": {
      "model_module": "@jupyter-widgets/controls",
      "model_module_version": "1.5.0",
      "model_name": "HTMLMathModel",
      "state": {
       "layout": "IPY_MODEL_481c66518c9e4b1a9bb906a192a044b5",
       "style": "IPY_MODEL_925425a1098341cd831f5b72b345f2be",
       "value": "$$U_2 = \\frac{100}{100} \\cdot 5 = 5.0$$"
      }
     },
     "f00c03e66a6947e987aeb227178e03e4": {
      "model_module": "@jupyter-widgets/controls",
      "model_module_version": "1.5.0",
      "model_name": "IntSliderModel",
      "state": {
       "description": "D2",
       "layout": "IPY_MODEL_801fa5fcb8d74d11b72ab7e83e9ec924",
       "max": 150,
       "min": 10,
       "style": "IPY_MODEL_6816a9af3e8c4a14be52a80a349a7b8d",
       "value": 10
      }
     },
     "f3f0e0a3cf5d42ec918f6fc0a057297d": {
      "model_module": "@jupyter-widgets/controls",
      "model_module_version": "1.5.0",
      "model_name": "ButtonStyleModel",
      "state": {}
     },
     "f51ba0bfb72448719715ee92c8d88d0f": {
      "model_module": "@jupyter-widgets/base",
      "model_module_version": "1.2.0",
      "model_name": "LayoutModel",
      "state": {}
     },
     "f61f06c6157c4f3ea69174741c41ce3d": {
      "model_module": "@jupyter-widgets/base",
      "model_module_version": "1.2.0",
      "model_name": "LayoutModel",
      "state": {}
     },
     "f831db0645a84633abdb5725baf74f8f": {
      "model_module": "@jupyter-widgets/base",
      "model_module_version": "1.2.0",
      "model_name": "LayoutModel",
      "state": {}
     },
     "f8d17743296943e3a6d499661c1b457e": {
      "model_module": "@jupyter-widgets/controls",
      "model_module_version": "1.5.0",
      "model_name": "SliderStyleModel",
      "state": {
       "description_width": ""
      }
     },
     "f91566206b9e45b9b334f3e4078e9c7a": {
      "model_module": "@jupyter-widgets/controls",
      "model_module_version": "1.5.0",
      "model_name": "SliderStyleModel",
      "state": {
       "description_width": ""
      }
     },
     "fa33d35e365543569e3027b2a29610d1": {
      "model_module": "@jupyter-widgets/controls",
      "model_module_version": "1.5.0",
      "model_name": "ButtonModel",
      "state": {
       "description": "Confirm",
       "layout": "IPY_MODEL_a6967b7651a24a6a81b39bd051c2ecde",
       "style": "IPY_MODEL_f3f0e0a3cf5d42ec918f6fc0a057297d"
      }
     },
     "fa6fbf49665c40aaa1c9bdbc5719b958": {
      "model_module": "ipycanvas",
      "model_module_version": "^0.12",
      "model_name": "CanvasModel",
      "state": {
       "_model_module_version": "^0.12",
       "_view_module_version": "^0.12",
       "height": 300,
       "layout": "IPY_MODEL_8ac67f0fec9a4acfbdf2ac8033641512",
       "width": 800
      }
     },
     "fa9047e71a07437c9cba8e95bb6fa323": {
      "model_module": "@jupyter-widgets/base",
      "model_module_version": "1.2.0",
      "model_name": "LayoutModel",
      "state": {}
     },
     "fc1f3f8a92484e8187234145a481a0eb": {
      "model_module": "ipycanvas",
      "model_module_version": "^0.12",
      "model_name": "CanvasModel",
      "state": {
       "_model_module_version": "^0.12",
       "_view_module_version": "^0.12",
       "height": 300,
       "layout": "IPY_MODEL_7e7b522202154f8fb27fe9029c86b00c",
       "width": 800
      }
     },
     "fd2f49573b5e4249b33eeb967cdafd5d": {
      "model_module": "@jupyter-widgets/controls",
      "model_module_version": "1.5.0",
      "model_name": "HTMLMathModel",
      "state": {
       "layout": "IPY_MODEL_5cf0d6509672474f946a4a6ea6d85ffd",
       "style": "IPY_MODEL_50305f986c684028a17fd4063e724664",
       "value": "$$U_2 = \\frac{100}{100} \\cdot 5 = 5.0$$"
      }
     },
     "ff4b3b343b544c77bf279c288ef0d075": {
      "model_module": "@jupyter-widgets/controls",
      "model_module_version": "1.5.0",
      "model_name": "SliderStyleModel",
      "state": {
       "description_width": ""
      }
     },
     "ff8ea83f5e5146fdabc8a8fe204c2fb1": {
      "model_module": "@jupyter-widgets/base",
      "model_module_version": "1.2.0",
      "model_name": "LayoutModel",
      "state": {}
     }
    },
    "version_major": 2,
    "version_minor": 0
   }
  }
 },
 "nbformat": 4,
 "nbformat_minor": 5
}