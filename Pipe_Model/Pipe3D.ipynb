{
 "cells": [
  {
   "cell_type": "code",
   "execution_count": 1,
   "id": "743fc225-dde1-491c-adc6-bcf85d629fd0",
   "metadata": {
    "pycharm": {
     "name": "#%%\n"
    }
   },
   "outputs": [],
   "source": [
    "import sys, time, threading\n",
    "sys.path.append('../')"
   ]
  },
  {
   "cell_type": "code",
   "execution_count": 2,
   "id": "fbe120c1",
   "metadata": {
    "pycharm": {
     "name": "#%%\n"
    },
    "tags": []
   },
   "outputs": [],
   "source": [
    "from ipycanvas import canvas\n",
    "from demo import *\n",
    "from model import *\n",
    "from pythreejs import *\n",
    "from numpy import *"
   ]
  },
  {
   "cell_type": "code",
   "execution_count": 3,
   "id": "8e98a094",
   "metadata": {
    "pycharm": {
     "name": "#%%\n"
    },
    "tags": []
   },
   "outputs": [],
   "source": [
    "c = canvas.Canvas(width=600, height=200, sync_image_data=True)\n",
    "pipe = AdvancedPipe(Circle(1, 0), Circle(1, 0), 10, canvas=c)"
   ]
  },
  {
   "cell_type": "code",
   "execution_count": 4,
   "id": "efbaae7c",
   "metadata": {
    "collapsed": false,
    "jupyter": {
     "outputs_hidden": false
    },
    "pycharm": {
     "name": "#%%\n"
    }
   },
   "outputs": [],
   "source": [
    "height = 7.5"
   ]
  },
  {
   "cell_type": "code",
   "execution_count": 5,
   "id": "42873091",
   "metadata": {
    "pycharm": {
     "name": "#%%\n"
    },
    "tags": []
   },
   "outputs": [],
   "source": [
    "demo = Demo(pipe.params, pipe)\n",
    "cyl_obj = Cylinder(pipe.i1.d / 4, pipe.i2.d / 4, height, 16, 4)\n",
    "cyl = cyl_obj.my_cyl()"
   ]
  },
  {
   "cell_type": "code",
   "execution_count": 6,
   "id": "3a8ae102",
   "metadata": {
    "pycharm": {
     "name": "#%%\n"
    },
    "tags": []
   },
   "outputs": [],
   "source": [
    "skinIndices = []\n",
    "skinWeights = []\n",
    "\n",
    "vertices = get_attribute(cyl, 'position').array\n",
    "boneHeight = height / 3\n",
    "for i in range(vertices.shape[0]):\n",
    "\n",
    "    y = vertices[i, 1] + 0.5 * height\n",
    "\n",
    "    skinIndex = y // boneHeight\n",
    "    skinWeight = ( y % boneHeight ) / boneHeight\n",
    "\n",
    "    # Ease between each bone\n",
    "    skinIndices.append([skinIndex, skinIndex + 1, 0, 0 ])\n",
    "    skinWeights.append([1 - skinWeight, skinWeight, 0, 0 ])\n",
    "\n",
    "cyl.attributes = dict(\n",
    "    cyl.attributes,\n",
    "    skinIndex=BufferAttribute(skinIndices),\n",
    "    skinWeight=BufferAttribute(skinWeights),\n",
    ")\n",
    "\n",
    "b1 = Bone(position=(0, - height / 2, 0))\n",
    "b2 = Bone(position=(0, - height / 4, 0))\n",
    "b3 = Bone(position=(0, height / 4, 0))\n",
    "b4 = Bone(position=(0, height / 2, 0))\n",
    "\n",
    "b1.add(b2)\n",
    "b2.add(b3)\n",
    "b3.add(b4)\n",
    "bones = [b1, b2, b3, b4]\n",
    "\n",
    "skeleton = Skeleton(bones)\n",
    "\n",
    "pipeMesh = SkinnedMesh(cyl, MeshPhongMaterial(skinning=True, color='gray', opacity=0.7, transparent=True), rotation=[pymath.pi, 0, pymath.pi / 2, 'XYZ'], position=[0, 0, -5])\n",
    "pipeMesh.add(bones[0])\n",
    "pipeMesh.skeleton = skeleton"
   ]
  },
  {
   "cell_type": "code",
   "execution_count": 7,
   "id": "495e309f-e0e9-41dd-8ca6-266ee8004b68",
   "metadata": {
    "pycharm": {
     "name": "#%%\n"
    }
   },
   "outputs": [],
   "source": [
    "widgets = [[] for i in range(len(bones))]\n",
    "pipeMesh.skeleton.bones[0].rotation = [0, 0, -pymath.pi / 2, 'XYZ']"
   ]
  },
  {
   "cell_type": "code",
   "execution_count": 8,
   "id": "6e42e1b0-43ad-474a-bd3f-b443e4f331ef",
   "metadata": {
    "pycharm": {
     "name": "#%%\n"
    }
   },
   "outputs": [],
   "source": [
    "helper = SkeletonHelper(pipeMesh)"
   ]
  },
  {
   "cell_type": "code",
   "execution_count": 9,
   "id": "b7757f6e-4e7a-415a-bef9-bee8c8bf60ba",
   "metadata": {
    "jupyter": {
     "source_hidden": true
    },
    "pycharm": {
     "name": "#%%\n"
    },
    "tags": []
   },
   "outputs": [],
   "source": [
    "from ipywidgets import FloatSlider\n",
    "import ipywidgets as widg\n",
    "labels = [widg.Label(\"Bone \" + str(i)) for i in range(len(bones))]\n",
    "output_boxes = [[]] * len(bones)\n",
    "for i in range(len(bones)):\n",
    "    bone = bones[i]\n",
    "    widgets[i].append(FloatSlider(description=\"Pos X\", value=bone.position[0], min=bone.position[0]-10, max=bone.position[0] + 10))\n",
    "    widgets[i].append(FloatSlider(description=\"Pos Y\", value=bone.position[1], min=bone.position[1]-10, max=bone.position[1] + 10))\n",
    "    widgets[i].append(FloatSlider(description=\"Pos Z\", value=bone.position[2], min=bone.position[2]-10, max=bone.position[2] + 10))\n",
    "    \n",
    "    widgets[i].append(FloatSlider(description=\"Rot X\", value=bone.rotation[0], min=bone.rotation[0]-10, max=bone.rotation[0] + 10))\n",
    "    widgets[i].append(FloatSlider(description=\"Rot Y\", value=bone.rotation[1], min=bone.rotation[1]-10, max=bone.rotation[1] + 10))\n",
    "    widgets[i].append(FloatSlider(description=\"Rot Z\", value=bone.rotation[2], min=bone.rotation[2]-10, max=bone.rotation[2] + 10))\n",
    "    output_boxes[i] = widg.VBox([labels[i]] + widgets[i])\n",
    "\n",
    "contr = widg.HBox(output_boxes)    "
   ]
  },
  {
   "cell_type": "code",
   "execution_count": 10,
   "id": "9ae17f23-1419-4d8e-b780-7abcd785b369",
   "metadata": {
    "jupyter": {
     "source_hidden": true
    },
    "pycharm": {
     "name": "#%%\n"
    },
    "tags": []
   },
   "outputs": [],
   "source": [
    "def on_change(args):\n",
    "    for i in range(len(bones)):\n",
    "        bone = bones[i]\n",
    "        widget = widgets[i]\n",
    "        bone.position = [widget[0].value, widget[1].value, widget[2].value]\n",
    "        bone.rotation = [widget[3].value, widget[4].value, widget[5].value, 'XYZ']"
   ]
  },
  {
   "cell_type": "code",
   "execution_count": 11,
   "id": "b0101691-9d0c-4814-baad-c50d2d873894",
   "metadata": {
    "jupyter": {
     "source_hidden": true
    },
    "pycharm": {
     "name": "#%%\n"
    },
    "tags": []
   },
   "outputs": [],
   "source": [
    "for widget in widgets:\n",
    "    for w in widget:\n",
    "        w.observe(on_change)"
   ]
  },
  {
   "cell_type": "code",
   "execution_count": 12,
   "id": "d4bc2e6e-d5fe-4b0c-8899-eac0c69f4d8a",
   "metadata": {
    "jupyter": {
     "source_hidden": true
    },
    "pycharm": {
     "name": "#%%\n"
    },
    "tags": []
   },
   "outputs": [],
   "source": [
    "def on_reset(args):\n",
    "    for widget in widgets:\n",
    "        for w in widget:\n",
    "            w.value = w.min + 10"
   ]
  },
  {
   "cell_type": "code",
   "execution_count": 13,
   "id": "fc528729-ed08-4a14-9cc0-9e4e80b2b97c",
   "metadata": {
    "jupyter": {
     "source_hidden": true
    },
    "pycharm": {
     "name": "#%%\n"
    },
    "tags": []
   },
   "outputs": [],
   "source": [
    "reset = widg.Button(description=\"Reset\")\n",
    "reset.on_click(on_reset)"
   ]
  },
  {
   "cell_type": "code",
   "execution_count": 14,
   "id": "18572da4",
   "metadata": {
    "collapsed": false,
    "jupyter": {
     "outputs_hidden": false
    },
    "pycharm": {
     "name": "#%%\n"
    }
   },
   "outputs": [
    {
     "data": {
      "application/vnd.jupyter.widget-view+json": {
       "model_id": "c1ee5386ddcd48c5b5ca5cdea034e3c8",
       "version_major": 2,
       "version_minor": 0
      },
      "text/plain": [
       "Output()"
      ]
     },
     "metadata": {},
     "output_type": "display_data"
    },
    {
     "data": {
      "application/vnd.jupyter.widget-view+json": {
       "model_id": "741d9e6ed13a420fa38ba8228b0334b2",
       "version_major": 2,
       "version_minor": 0
      },
      "text/plain": [
       "Output()"
      ]
     },
     "metadata": {},
     "output_type": "display_data"
    },
    {
     "data": {
      "application/vnd.jupyter.widget-view+json": {
       "model_id": "748c538bb8684d58bdd83e1734dc5cde",
       "version_major": 2,
       "version_minor": 0
      },
      "text/plain": [
       "Renderer(camera=PerspectiveCamera(aspect=3.0, children=(DirectionalLight(color='white', intensity=0.5, matrixW…"
      ]
     },
     "metadata": {},
     "output_type": "display_data"
    }
   ],
   "source": [
    "#cyl = CylinderBufferGeometry(pipe.i1.d / 2, pipe.i2.d / 2, height, 16, 8)\n",
    "#pipeMesh.geometry=cyl\n",
    "cam = PerspectiveCamera(aspect=3.0, children=(DirectionalLight(color='white', intensity=0.5, matrixWorldNeedsUpdate=True, position=(3.0, 5.0, 1.0), quaternion=(0.0, 0.0, 0.0, 1.0), rotation=(0.0, 0.0, 0.0, 'XYZ'), scale=(1.0, 1.0, 1.0), shadow=DirectionalLightShadow(camera=OrthographicCamera(bottom=-5.0, far=500.0, left=-5.0, near=0.5, position=(0.0, 0.0, 0.0), projectionMatrix=(0.2, 0.0, 0.0, 0.0, 0.0, 0.2, 0.0, 0.0, 0.0, 0.0, -0.004004004004004004, 0.0, 0.0, 0.0, -1.002002002002002, 1.0), quaternion=(0.0, 0.0, 0.0, 1.0), right=5.0, rotation=(0.0, 0.0, 0.0, 'XYZ'), scale=(1.0, 1.0, 1.0), top=5.0, up=(0.0, 1.0, 0.0)), mapSize=(512.0, 512.0)), target=Object3D(position=(0.0, 0.0, 0.0), quaternion=(0.0, 0.0, 0.0, 1.0), rotation=(0.0, 0.0, 0.0, 'XYZ'), scale=(1.0, 1.0, 1.0), up=(0.0, 1.0, 0.0)), up=(0.0, 1.0, 0.0)),), position=(4.156315924607438, -1.3359333302317502, 4.78814139969309), projectionMatrix=(0.7148356401698529, 0.0, 0.0, 0.0, 0.0, 2.1445069205095586, 0.0, 0.0, 0.0, 0.0, -1.00010000500025, -1.0, 0.0, 0.0, -0.200010000500025, 0.0), quaternion=(-0.18734995211891464, -0.01811133257326921, -0.003454930848697659, 0.9821201751956282), rotation=(2.955719827270785, -0.569237255703572, 3.0405841287461377, 'XYZ'), scale=(1.0, 1.0, 1.0), up=(0.0, 1.0, 0.0))\n",
    "\n",
    "water = CylinderBufferGeometry(pipe.i1.d / 4, pipe.i1.d / 4, height / 3, 16, 8, thetaLength=pymath.pi)\n",
    "waterMesh = Mesh(water, MeshStandardMaterial(color='lightblue', opacity=1, transparent=False), rotation=[pymath.pi, 0, pymath.pi / 2, 'XYZ'], position=[-height / 3, 0, -5])\n",
    "scene = Scene(children=[pipeMesh, helper, waterMesh, cam, AmbientLight(color='#FFFFFF')], background=None)\n",
    "renderer = Renderer(scene=scene, camera=cam, width=600, height=200, alpha=True, clearOpacity=0)\n",
    "demo.show()\n",
    "renderer"
   ]
  },
  {
   "cell_type": "code",
   "execution_count": 15,
   "id": "c7ea83e0",
   "metadata": {
    "collapsed": false,
    "jupyter": {
     "outputs_hidden": false
    },
    "pycharm": {
     "name": "#%%\n"
    }
   },
   "outputs": [],
   "source": [
    "def update_pipe(args):\n",
    "    pipeMesh.geometry = Cylinder(pipe.i2.d / 4, pipe.i1.d / 4, height, 16, 4).my_cyl()\n",
    "    \n",
    "    skinIndices = []\n",
    "    skinWeights = []\n",
    "\n",
    "    vertices = get_attribute(pipeMesh.geometry, 'position').array\n",
    "    boneHeight = height / 3\n",
    "    for i in range(vertices.shape[0]):\n",
    "\n",
    "        y = vertices[i, 1] + 0.5 * height\n",
    "\n",
    "        skinIndex = y // boneHeight\n",
    "        skinWeight = ( y % boneHeight ) / boneHeight\n",
    "\n",
    "        # Ease between each bone\n",
    "        skinIndices.append([skinIndex, skinIndex + 1, 0, 0 ])\n",
    "        skinWeights.append([1 - skinWeight, skinWeight, 0, 0 ])\n",
    "\n",
    "    pipeMesh.geometry.attributes = dict(\n",
    "        pipeMesh.geometry.attributes,\n",
    "        skinIndex=BufferAttribute(skinIndices),\n",
    "        skinWeight=BufferAttribute(skinWeights),\n",
    "    )\n",
    "\n",
    "    b1 = Bone(position=(0, - height / 2, 0))\n",
    "    b2 = Bone(position=(0, - height / 4, 0))\n",
    "    b3 = Bone(position=(0, height / 4, 0))\n",
    "    b4 = Bone(position=(0, height / 2, 0))\n",
    "\n",
    "    b1.add(b2)\n",
    "    b2.add(b3)\n",
    "    b3.add(b4)\n",
    "    \n",
    "    global bones\n",
    "    pipeMesh.remove(bones[0])\n",
    "    \n",
    "    bones = [b1, b2, b3, b4]\n",
    "\n",
    "    skeleton = Skeleton(bones)\n",
    "\n",
    "    # pipeMesh = SkinnedMesh(cyl, MeshPhongMaterial(skinning=True, color='gray', opacity=0.7, transparent=True), rotation=[pymath.pi, 0, pymath.pi / 2, 'XYZ'], position=[0, 0, -5])\n",
    "    pipeMesh.add(bones[0])\n",
    "    pipeMesh.skeleton = skeleton\n",
    "    pipeMesh.skeleton.bones[0].rotation = [0, 0, -pymath.pi / 2, 'XYZ']\n",
    "    \n",
    "    pipeMesh.skeleton.bones[2].position = [(pipe.i1yParam.real() - pipe.i2yParam.real()) / 25, pipeMesh.skeleton.bones[2].position[1], pipeMesh.skeleton.bones[2].position[2]]\n",
    "    #pipeMesh.geometry.exec_three_obj_method(\"dispose\")\n",
    "    #pipeMesh.geometry = CylinderBufferGeometry(pipe.i1.d / 2, pipe.i2.d / 2, height, 16, 8)\n",
    "    waterMesh.rotation = [waterMesh.rotation[0], waterMesh.rotation[1], pipeMesh.skeleton.bones[1].rotation[2], 'XYZ']\n",
    "    g3 = LineSegmentsGeometry(\n",
    "    positions=[\n",
    "        [[0, -2.5 + (pipe.i1yParam.real() - pipe.i2yParam.real()) / 25, -5], [100, -2.5 + (pipe.i1yParam.real() - pipe.i2yParam.real()) / 25, -5]],\n",
    "        [[0, 0, -5], [100, 0, -5]]\n",
    "    ],\n",
    "    colors=[\n",
    "        [[1, 0, 0], [1, 0, 1]],\n",
    "        [[1, 0, 0], [1, 0, 1]]\n",
    "    ],\n",
    "    )\n",
    "    m3 = LineMaterial(linewidth=10, vertexColors='VertexColors')\n",
    "    line3 = LineSegments2(g3, m3)\n",
    "    scene.add(line3)\n",
    "    #scene.add(pipeMesh)\n",
    "    #scene.add(line3)\n",
    "    #pipeMesh.skeleton.bones[2].rotation = [0, 0, pipe.i2yParam.real() / 100, 'XYZ']\n",
    "    # cyl = CylinderBufferGeometry(pipe.i1.d / 2, pipe.i2.d / 2, height, 16, 8)\n",
    "    #cyl_geom = BufferGeometry.from_geometry(cyl)\n",
    "    #vertices = cylinder.attributes['position'].array\n",
    "    #vertices[15 // 2] = [0, 0, 0]\n",
    "    #print(cylGeom.vertices)\n",
    "    # pipeMesh.geometry = cyl\n",
    "    \n",
    "    #cv = pipe.get_drawing()\n",
    "    #scene.add(cv)\n",
    "    \n",
    "    #pipeMesh.position = [pipeMesh.position[0], pipe.i1yParam.real(), pipeMesh.position[2]]"
   ]
  },
  {
   "cell_type": "code",
   "execution_count": 16,
   "id": "85f5de25",
   "metadata": {
    "collapsed": false,
    "jupyter": {
     "outputs_hidden": false
    },
    "pycharm": {
     "name": "#%%\n"
    }
   },
   "outputs": [],
   "source": [
    "pipe.observe(update_pipe)"
   ]
  },
  {
   "cell_type": "code",
   "execution_count": null,
   "id": "6e36e741-8763-4632-a16d-6a006e583118",
   "metadata": {
    "pycharm": {
     "name": "#%%\n"
    }
   },
   "outputs": [],
   "source": []
  }
 ],
 "metadata": {
  "kernelspec": {
   "display_name": "Python 3 (ipykernel)",
   "language": "python",
   "name": "python3"
  },
  "language_info": {
   "codemirror_mode": {
    "name": "ipython",
    "version": 3
   },
   "file_extension": ".py",
   "mimetype": "text/x-python",
   "name": "python",
   "nbconvert_exporter": "python",
   "pygments_lexer": "ipython3",
   "version": "3.10.5"
  }
 },
 "nbformat": 4,
 "nbformat_minor": 5
}