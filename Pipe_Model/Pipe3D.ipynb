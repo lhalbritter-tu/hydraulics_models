{
 "cells": [
  {
   "cell_type": "code",
   "execution_count": 1,
   "id": "743fc225-dde1-491c-adc6-bcf85d629fd0",
   "metadata": {
    "pycharm": {
     "name": "#%%\n"
    }
   },
   "outputs": [],
   "source": [
    "import sys\n",
    "sys.path.append('../')"
   ]
  },
  {
   "cell_type": "code",
   "execution_count": 2,
   "id": "e66a6f88-7504-4148-942e-c7e344736af4",
   "metadata": {
    "pycharm": {
     "name": "#%%\n"
    }
   },
   "outputs": [],
   "source": [
    "from ipycanvas import canvas\n",
    "from demo import *\n",
    "from model import *\n",
    "from pythreejs import *"
   ]
  },
  {
   "cell_type": "code",
   "execution_count": 3,
   "id": "be635050",
   "metadata": {
    "collapsed": false,
    "jupyter": {
     "outputs_hidden": false
    },
    "pycharm": {
     "name": "#%%\n"
    }
   },
   "outputs": [],
   "source": [
    "c = canvas.Canvas(width=600, height=20)\n",
    "pipe = AdvancedPipe(Circle(1, 0), Circle(1, 0), 10)\n",
    "demo = Demo(pipe.params, pipe)"
   ]
  },
  {
   "cell_type": "code",
   "execution_count": 4,
   "id": "ff404a64",
   "metadata": {
    "collapsed": false,
    "jupyter": {
     "outputs_hidden": false
    },
    "pycharm": {
     "name": "#%%\n"
    }
   },
   "outputs": [
    {
     "name": "stderr",
     "output_type": "stream",
     "text": [
      "C:\\Users\\halbritter\\.conda\\envs\\hydraulics\\lib\\site-packages\\jupyter_client\\session.py:718: UserWarning: Message serialization failed with:\n",
      "Out of range float values are not JSON compliant\n",
      "Supporting this message is deprecated in jupyter-client 7, please make sure your message is JSON-compliant\n",
      "  content = self.pack(content)\n"
     ]
    },
    {
     "data": {
      "application/vnd.jupyter.widget-view+json": {
       "model_id": "d3b097f55c984a02b90c9e359ee7f885",
       "version_major": 2,
       "version_minor": 0
      },
      "text/plain": [
       "Output()"
      ]
     },
     "metadata": {},
     "output_type": "display_data"
    },
    {
     "data": {
      "application/vnd.jupyter.widget-view+json": {
       "model_id": "58385d6951dd40aebbd6d58200ca5392",
       "version_major": 2,
       "version_minor": 0
      },
      "text/plain": [
       "Output()"
      ]
     },
     "metadata": {},
     "output_type": "display_data"
    },
    {
     "data": {
      "application/vnd.jupyter.widget-view+json": {
       "model_id": "596ed9ab2bfc40fb8d3e6296e1d8110c",
       "version_major": 2,
       "version_minor": 0
      },
      "text/plain": [
       "Renderer(camera=PerspectiveCamera(aspect=3.0, position=(0.0, 0.0, 0.0), projectionMatrix=(1.0, 0.0, 0.0, 0.0, …"
      ]
     },
     "metadata": {},
     "output_type": "display_data"
    }
   ],
   "source": [
    "height = 7.5\n",
    "cyl = CylinderGeometry(pipe.i1.d / 2, pipe.i2.d / 2, height, 16, 8)\n",
    "pipeMesh = Mesh(cyl, MeshStandardMaterial(color='gray', opacity=0.3, transparent=True), rotation=[pymath.pi, 0, pymath.pi / 2, 'XYZ'], position=[0, 0, -5])\n",
    "water = CylinderBufferGeometry(pipe.i1.d / 4, pipe.i1.d / 4, height / 3, 16, 8, thetaLength=pymath.pi)\n",
    "waterMesh = Mesh(water, MeshStandardMaterial(color='lightblue', opacity=1, transparent=False), rotation=[pymath.pi, 0, pymath.pi / 2, 'XYZ'], position=[-height / 3, 0, -5])\n",
    "cam = PerspectiveCamera(position=[0, 0, 0], quaternion=[0, 0, 0, 0], aspect=600/200)\n",
    "scene = Scene(children=[pipeMesh, waterMesh, cam, AmbientLight(color='#FFFFFF')], background=None)\n",
    "renderer = Renderer(scene=scene, camera=cam, controls=[OrbitControls(controlling=cam)], width=600, height=200, alpha=True, clearOpacity=0)\n",
    "demo.show()\n",
    "renderer"
   ]
  },
  {
   "cell_type": "code",
   "execution_count": 5,
   "id": "0775616e",
   "metadata": {
    "collapsed": false,
    "jupyter": {
     "outputs_hidden": false
    },
    "pycharm": {
     "name": "#%%\n"
    }
   },
   "outputs": [],
   "source": [
    "def update_pipe(args):\n",
    "    cyl = CylinderBufferGeometry(pipe.i1.d / 2, pipe.i2.d / 2, height, 16, 8)\n",
    "    #cyl_geom = BufferGeometry.from_geometry(cyl)\n",
    "    #vertices = cylinder.attributes['position'].array\n",
    "    #vertices[15 // 2] = [0, 0, 0]\n",
    "    #print(cylGeom.vertices)\n",
    "    pipeMesh.geometry = cyl\n",
    "    #pipeMesh.position = [pipeMesh.position[0], pipe.i1yParam.real(), pipeMesh.position[2]]"
   ]
  },
  {
   "cell_type": "code",
   "execution_count": 6,
   "id": "f5fde882",
   "metadata": {
    "collapsed": false,
    "jupyter": {
     "outputs_hidden": false
    },
    "pycharm": {
     "name": "#%%\n"
    }
   },
   "outputs": [],
   "source": [
    "pipe.observe(update_pipe)"
   ]
  },
  {
   "cell_type": "code",
   "execution_count": null,
   "id": "cfcf0a1c-f93a-4da3-b5bf-b98ffbfa2b45",
   "metadata": {},
   "outputs": [],
   "source": []
  }
 ],
 "metadata": {
  "kernelspec": {
   "display_name": "Python 3 (ipykernel)",
   "language": "python",
   "name": "python3"
  },
  "language_info": {
   "codemirror_mode": {
    "name": "ipython",
    "version": 3
   },
   "file_extension": ".py",
   "mimetype": "text/x-python",
   "name": "python",
   "nbconvert_exporter": "python",
   "pygments_lexer": "ipython3",
   "version": "3.10.5"
  }
 },
 "nbformat": 4,
 "nbformat_minor": 5
}
