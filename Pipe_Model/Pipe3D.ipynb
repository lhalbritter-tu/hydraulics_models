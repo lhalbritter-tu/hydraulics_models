{
 "cells": [
  {
   "cell_type": "code",
   "execution_count": 1,
   "id": "743fc225-dde1-491c-adc6-bcf85d629fd0",
   "metadata": {
    "pycharm": {
     "name": "#%%\n"
    }
   },
   "outputs": [],
   "source": [
    "import sys\n",
    "sys.path.append('../')"
   ]
  },
  {
   "cell_type": "code",
   "execution_count": 2,
   "id": "e66a6f88-7504-4148-942e-c7e344736af4",
   "metadata": {
    "pycharm": {
     "name": "#%%\n"
    }
   },
   "outputs": [],
   "source": [
    "from ipycanvas import canvas\n",
    "from demo import *\n",
    "from model import *\n",
    "from pythreejs import *"
   ]
  },
  {
   "cell_type": "code",
   "execution_count": null,
   "outputs": [],
   "source": [
    "c = canvas.Canvas(width=600, height=200)\n",
    "pipe = AdvancedPipe(Circle(1, 0), Circle(1, 0), 10)\n",
    "demo = Demo(pipe.params, pipe)"
   ],
   "metadata": {
    "collapsed": false,
    "pycharm": {
     "name": "#%%\n"
    }
   }
  },
  {
   "cell_type": "code",
   "execution_count": null,
   "outputs": [],
   "source": [
    "cyl = CylinderBufferGeometry(pipe.i1.d, pipe.i2.d, 20, 16, 8)\n",
    "pipeMesh = Mesh(cyl, MeshStandardMaterial(color='gray', opacity=0.3, transparent=True), rotation=[pymath.pi, 0, pymath.pi / 2, 'XYZ'], position=[0, 0, -5])\n",
    "water = CylinderBufferGeometry(pipe.i1.d / 2, pipe.i1.d / 2, 5, 16, 8)\n",
    "waterMesh = Mesh(water, MeshStandardMaterial(color='blue', opacity=0.8, transparent=True), rotation=[pymath.pi, 0, pymath.pi / 2, 'XYZ'], position=[0, 0, -5])\n",
    "scene = Scene(children=[pipeMesh, waterMesh, camera, AmbientLight(color='#777777')], background=None)\n",
    "renderer = Renderer(scene=scene, camera=camera, controls=[OrbitControls(camera)], width=600, height=200)\n",
    "demo.show()\n",
    "renderer"
   ],
   "metadata": {
    "collapsed": false,
    "pycharm": {
     "name": "#%%\n"
    }
   }
  },
  {
   "cell_type": "code",
   "execution_count": null,
   "outputs": [],
   "source": [
    "def update_pipe(args):\n",
    "    cyl = CylinderBufferGeometry(pipe.i1.d, pipe.i2.d, 20, 16, 8)\n",
    "    pipeMesh.geometry = cyl\n",
    "    pipeMesh.position = [pipeMesh.position[0], pipe.i1.y, pipeMesh.position[2]]"
   ],
   "metadata": {
    "collapsed": false,
    "pycharm": {
     "name": "#%%\n"
    }
   }
  },
  {
   "cell_type": "code",
   "execution_count": null,
   "outputs": [],
   "source": [
    "pipe.observe(update_pipe)"
   ],
   "metadata": {
    "collapsed": false,
    "pycharm": {
     "name": "#%%\n"
    }
   }
  }
 ],
 "metadata": {
  "kernelspec": {
   "display_name": "Python 3 (ipykernel)",
   "language": "python",
   "name": "python3"
  },
  "language_info": {
   "codemirror_mode": {
    "name": "ipython",
    "version": 3
   },
   "file_extension": ".py",
   "mimetype": "text/x-python",
   "name": "python",
   "nbconvert_exporter": "python",
   "pygments_lexer": "ipython3",
   "version": "3.10.5"
  }
 },
 "nbformat": 4,
 "nbformat_minor": 5
}