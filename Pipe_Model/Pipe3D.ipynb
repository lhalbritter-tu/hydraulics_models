{
 "cells": [
  {
   "cell_type": "code",
   "execution_count": 1,
   "id": "743fc225-dde1-491c-adc6-bcf85d629fd0",
   "metadata": {
    "pycharm": {
     "name": "#%%\n"
    }
   },
   "outputs": [],
   "source": [
    "import sys\n",
    "sys.path.append('../')"
   ]
  },
  {
   "cell_type": "code",
   "execution_count": 2,
   "id": "e66a6f88-7504-4148-942e-c7e344736af4",
   "metadata": {
    "pycharm": {
     "name": "#%%\n"
    }
   },
   "outputs": [],
   "source": [
    "from ipycanvas import canvas\n",
    "from demo import *\n",
    "from model import *\n",
    "from pythreejs import *"
   ]
  },
  {
   "cell_type": "code",
   "execution_count": 3,
   "id": "be635050",
   "metadata": {
    "collapsed": false,
    "jupyter": {
     "outputs_hidden": false
    },
    "pycharm": {
     "name": "#%%\n"
    }
   },
   "outputs": [],
   "source": [
    "c = canvas.Canvas(width=600, height=20)\n",
    "pipe = AdvancedPipe(Circle(1, 0), Circle(1, 0), 10)\n",
    "demo = Demo(pipe.params, pipe)"
   ]
  },
  {
   "cell_type": "code",
   "execution_count": 4,
   "id": "c7d46a89-104f-4983-8ce6-8a03fa2ac29a",
   "metadata": {},
   "outputs": [],
   "source": [
    "height = 7.5\n",
    "ref_cyl = CylinderBufferGeometry(pipe.i1.d / 2, pipe.i2.d / 2, height, 16, 8)\n",
    "cyl = BufferGeometry.from_geometry(ref_cyl)"
   ]
  },
  {
   "cell_type": "code",
   "execution_count": 6,
   "id": "2390f926-4f2f-42ab-ab8b-41580c4ea0c7",
   "metadata": {},
   "outputs": [],
   "source": [
    "skinIndices = []\n",
    "skinWeights = []\n",
    "vertices = cyl.attributes['position'].array\n",
    "boneHeight = ref_cyl.height / 2\n",
    "for i in range(vertices.shape[0]):\n",
    "\n",
    "    y = vertices[i, 1] + 0.5 * ref_cyl.height\n",
    "\n",
    "    skinIndex = y // boneHeight\n",
    "    skinWeight = ( y % boneHeight ) / boneHeight\n",
    "\n",
    "    # Ease between each bone\n",
    "    skinIndices.append([skinIndex, skinIndex + 1, 0, 0 ])\n",
    "    skinWeights.append([1 - skinWeight, skinWeight, 0, 0 ])\n",
    "\n",
    "cyl.attributes = dict(\n",
    "    cyl.attributes,\n",
    "    skinIndex=BufferAttribute(skinIndices),\n",
    "    skinWeight=BufferAttribute(skinWeights),\n",
    ")\n",
    "\n",
    "shoulder = Bone(position=(0, -25, 0))\n",
    "elbow = Bone(position=(0, 25, 0))\n",
    "hand = Bone(position=(0, 25, 0))\n",
    "\n",
    "shoulder.add(elbow)\n",
    "elbow.add(hand)\n",
    "bones = [shoulder, elbow, hand]\n",
    "skeleton = Skeleton(bones)\n",
    "\n",
    "pipeMesh = SkinnedMesh(cyl, MeshPhongMaterial(side='DoubleSide', skinning=True, color='gray', opacity=0.3, transparent=True), rotation=[pymath.pi, 0,pymath.pi / 2, 'XYZ'], position=[0, 0, -5])\n",
    "pipeMesh.add(bones[0])\n",
    "pipeMesh.skeleton = skeleton"
   ]
  },
  {
   "cell_type": "code",
   "execution_count": 7,
   "id": "ff404a64",
   "metadata": {
    "collapsed": false,
    "jupyter": {
     "outputs_hidden": false
    },
    "pycharm": {
     "name": "#%%\n"
    }
   },
   "outputs": [
    {
     "name": "stderr",
     "output_type": "stream",
     "text": [
      "C:\\Users\\halbritter\\.conda\\envs\\hydraulics\\lib\\site-packages\\jupyter_client\\session.py:718: UserWarning: Message serialization failed with:\n",
      "Out of range float values are not JSON compliant\n",
      "Supporting this message is deprecated in jupyter-client 7, please make sure your message is JSON-compliant\n",
      "  content = self.pack(content)\n"
     ]
    },
    {
     "data": {
      "application/vnd.jupyter.widget-view+json": {
       "model_id": "246cea949728442c8626e3886af8bc99",
       "version_major": 2,
       "version_minor": 0
      },
      "text/plain": [
       "Output()"
      ]
     },
     "metadata": {},
     "output_type": "display_data"
    },
    {
     "data": {
      "application/vnd.jupyter.widget-view+json": {
       "model_id": "12e0657c999546719692f1f77b074925",
       "version_major": 2,
       "version_minor": 0
      },
      "text/plain": [
       "Output()"
      ]
     },
     "metadata": {},
     "output_type": "display_data"
    },
    {
     "data": {
      "application/vnd.jupyter.widget-view+json": {
       "model_id": "dd210fc25af247f289ecdee05a2d98f5",
       "version_major": 2,
       "version_minor": 0
      },
      "text/plain": [
       "Renderer(camera=PerspectiveCamera(aspect=3.0, position=(0.0, 0.0, 0.0), projectionMatrix=(1.0, 0.0, 0.0, 0.0, …"
      ]
     },
     "metadata": {},
     "output_type": "display_data"
    }
   ],
   "source": [
    "water = CylinderBufferGeometry(pipe.i1.d / 4, pipe.i1.d / 4, height / 3, 16, 8, thetaLength=pymath.pi)\n",
    "waterMesh = Mesh(water, MeshStandardMaterial(color='lightblue', opacity=1, transparent=False), rotation=[pymath.pi, 0, pymath.pi / 2, 'XYZ'], position=[-height / 3, 0, -5])\n",
    "cam = PerspectiveCamera(position=[0, 0, 0], quaternion=[0, 0, 0, 0], aspect=600/200)\n",
    "scene = Scene(children=[pipeMesh, cam, AmbientLight(color='#FFFFFF')], background=None)\n",
    "renderer = Renderer(scene=scene, camera=cam, controls=[OrbitControls(controlling=cam)], width=600, height=200, alpha=True, clearOpacity=0)\n",
    "demo.show()\n",
    "renderer"
   ]
  },
  {
   "cell_type": "code",
   "execution_count": 8,
   "id": "0775616e",
   "metadata": {
    "collapsed": false,
    "jupyter": {
     "outputs_hidden": false
    },
    "pycharm": {
     "name": "#%%\n"
    }
   },
   "outputs": [],
   "source": [
    "def update_pipe(args):\n",
    "    pipeMesh.skeleton.bones[1].rotation = [0, 0, (pipe.i1yParam.real() - pipe.i2yParam.real()) / 100, 'XYZ']\n",
    "    g3 = LineSegmentsGeometry(\n",
    "    positions=[\n",
    "        [[0, pipe.i1yParam.real() / 10, -5], [100, (pipe.i1yParam.real()) / 10, -5]],\n",
    "    ],\n",
    "    colors=[\n",
    "        [[1, 0, 0], [1, 0, 1]],\n",
    "    ],\n",
    "    )\n",
    "    m3 = LineMaterial(linewidth=10, vertexColors='VertexColors')\n",
    "    line3 = LineSegments2(g3, m3)\n",
    "    scene.add(line3)\n",
    "    #pipeMesh.skeleton.bones[2].rotation = [0, 0, pipe.i2yParam.real() / 100, 'XYZ']\n",
    "    print(pipe.i1yParam.real())\n",
    "    cyl = CylinderBufferGeometry(pipe.i1.d / 2, pipe.i2.d / 2, height, 16, 8)\n",
    "    #cyl_geom = BufferGeometry.from_geometry(cyl)\n",
    "    #vertices = cylinder.attributes['position'].array\n",
    "    #vertices[15 // 2] = [0, 0, 0]\n",
    "    #print(cylGeom.vertices)\n",
    "    pipeMesh.geometry = cyl\n",
    "    #pipeMesh.position = [pipeMesh.position[0], pipe.i1yParam.real(), pipeMesh.position[2]]"
   ]
  },
  {
   "cell_type": "code",
   "execution_count": 9,
   "id": "f5fde882",
   "metadata": {
    "collapsed": false,
    "jupyter": {
     "outputs_hidden": false
    },
    "pycharm": {
     "name": "#%%\n"
    }
   },
   "outputs": [],
   "source": [
    "pipe.observe(update_pipe)"
   ]
  },
  {
   "cell_type": "code",
   "execution_count": null,
   "id": "91cd2c63-cb0b-4dac-ac5c-4c245aac35fd",
   "metadata": {},
   "outputs": [],
   "source": []
  },
  {
   "cell_type": "code",
   "execution_count": null,
   "id": "604bb627-a8c7-4199-8fc0-44b0f05e80ae",
   "metadata": {},
   "outputs": [],
   "source": []
  },
  {
   "cell_type": "code",
   "execution_count": null,
   "id": "ed0ceae5-9c3a-4576-897a-f471d7619d9b",
   "metadata": {},
   "outputs": [],
   "source": []
  }
 ],
 "metadata": {
  "kernelspec": {
   "display_name": "Python 3 (ipykernel)",
   "language": "python",
   "name": "python3"
  },
  "language_info": {
   "codemirror_mode": {
    "name": "ipython",
    "version": 3
   },
   "file_extension": ".py",
   "mimetype": "text/x-python",
   "name": "python",
   "nbconvert_exporter": "python",
   "pygments_lexer": "ipython3",
   "version": "3.10.5"
  }
 },
 "nbformat": 4,
 "nbformat_minor": 5
}
