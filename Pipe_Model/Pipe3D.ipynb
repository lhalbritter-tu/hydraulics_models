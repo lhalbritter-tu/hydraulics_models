{
 "cells": [
  {
   "cell_type": "code",
   "execution_count": 1,
   "id": "743fc225-dde1-491c-adc6-bcf85d629fd0",
   "metadata": {
    "pycharm": {
     "name": "#%%\n"
    }
   },
   "outputs": [],
   "source": [
    "import sys, time\n",
    "sys.path.append('../')"
   ]
  },
  {
   "cell_type": "code",
   "execution_count": 2,
   "id": "fbe120c1",
   "metadata": {
    "pycharm": {
     "name": "#%%\n"
    },
    "tags": []
   },
   "outputs": [],
   "source": [
    "from ipycanvas import canvas\n",
    "from demo import *\n",
    "from model import *\n",
    "from pythreejs import *\n",
    "from numpy import *"
   ]
  },
  {
   "cell_type": "code",
   "execution_count": 3,
   "id": "8e98a094",
   "metadata": {
    "pycharm": {
     "name": "#%%\n"
    },
    "tags": []
   },
   "outputs": [],
   "source": [
    "c = canvas.Canvas(width=600, height=200, sync_image_data=True)\n",
    "pipe = AdvancedPipe(Circle(1, 0), Circle(1, 0), 10, canvas=c)"
   ]
  },
  {
   "cell_type": "code",
   "execution_count": 4,
   "id": "efbaae7c",
   "metadata": {
    "collapsed": false,
    "jupyter": {
     "outputs_hidden": false
    },
    "pycharm": {
     "name": "#%%\n"
    }
   },
   "outputs": [],
   "source": [
    "height = 7.5\n",
    "ref_cyl = CylinderBufferGeometry(pipe.i1.d / 2, pipe.i2.d / 2, height, 16, 8)"
   ]
  },
  {
   "cell_type": "code",
   "execution_count": 5,
   "id": "42873091",
   "metadata": {
    "collapsed": false,
    "jupyter": {
     "outputs_hidden": false
    },
    "pycharm": {
     "name": "#%%\n"
    }
   },
   "outputs": [],
   "source": [
    "demo = Demo(pipe.params, pipe)\n",
    "cyl = BufferGeometry.from_geometry(ref_cyl)"
   ]
  },
  {
   "cell_type": "code",
   "execution_count": 7,
   "id": "3a8ae102",
   "metadata": {
    "collapsed": false,
    "jupyter": {
     "outputs_hidden": false
    },
    "pycharm": {
     "name": "#%%\n"
    }
   },
   "outputs": [],
   "source": [
    "skinIndices = []\n",
    "skinWeights = []\n",
    "vertices = cyl.attributes['position'].array\n",
    "boneHeight = ref_cyl.height / 3\n",
    "for i in range(vertices.shape[0]):\n",
    "\n",
    "    y = vertices[i, 1] + 0.5 * ref_cyl.height\n",
    "\n",
    "    skinIndex = y // boneHeight\n",
    "    skinWeight = ( y % boneHeight ) / boneHeight\n",
    "\n",
    "    # Ease between each bone\n",
    "    skinIndices.append([skinIndex, skinIndex + 1, 0, 0 ])\n",
    "    skinWeights.append([1 - skinWeight, skinWeight, 0, 0 ])\n",
    "\n",
    "cyl.attributes = dict(\n",
    "    cyl.attributes,\n",
    "    skinIndex=BufferAttribute(skinIndices),\n",
    "    skinWeight=BufferAttribute(skinWeights),\n",
    ")\n",
    "\n",
    "b1 = Bone(position=(0, - height / 2, 0))\n",
    "b2 = Bone(position=(0, - height / 4, 0))\n",
    "b3 = Bone(position=(0, height / 4, 0))\n",
    "b4 = Bone(position=(0, height / 2, 0))\n",
    "\n",
    "b1.add(b2)\n",
    "b2.add(b3)\n",
    "b3.add(b4)\n",
    "bones = [b1, b2, b3, b4]\n",
    "\n",
    "skeleton = Skeleton(bones)\n",
    "\n",
    "pipeMesh = SkinnedMesh(cyl, MeshPhongMaterial(side='DoubleSide', skinning=True, color='gray', opacity=0.3, transparent=True), rotation=[pymath.pi, 0, pymath.pi / 2, 'XYZ'], position=[0, 0, -5])\n",
    "pipeMesh.add(bones[0])\n",
    "pipeMesh.skeleton = skeleton"
   ]
  },
  {
   "cell_type": "code",
   "execution_count": 8,
   "id": "495e309f-e0e9-41dd-8ca6-266ee8004b68",
   "metadata": {},
   "outputs": [],
   "source": [
    "widgets = [[] for i in range(len(bones))]\n",
    "pipeMesh.skeleton.bones[0].rotation = [0, 0, -pymath.pi / 2, 'XYZ']"
   ]
  },
  {
   "cell_type": "code",
   "execution_count": 9,
   "id": "6e42e1b0-43ad-474a-bd3f-b443e4f331ef",
   "metadata": {},
   "outputs": [],
   "source": [
    "helper = SkeletonHelper(pipeMesh)"
   ]
  },
  {
   "cell_type": "code",
   "execution_count": 10,
   "id": "b7757f6e-4e7a-415a-bef9-bee8c8bf60ba",
   "metadata": {},
   "outputs": [],
   "source": [
    "from ipywidgets import FloatSlider\n",
    "import ipywidgets as widg\n",
    "labels = [widg.Label(\"Bone \" + str(i)) for i in range(len(bones))]\n",
    "output_boxes = [[]] * len(bones)\n",
    "for i in range(len(bones)):\n",
    "    bone = bones[i]\n",
    "    widgets[i].append(FloatSlider(description=\"Pos X\", value=bone.position[0], min=bone.position[0]-10, max=bone.position[0] + 10))\n",
    "    widgets[i].append(FloatSlider(description=\"Pos Y\", value=bone.position[1], min=bone.position[1]-10, max=bone.position[1] + 10))\n",
    "    widgets[i].append(FloatSlider(description=\"Pos Z\", value=bone.position[2], min=bone.position[2]-10, max=bone.position[2] + 10))\n",
    "    \n",
    "    widgets[i].append(FloatSlider(description=\"Rot X\", value=bone.rotation[0], min=bone.rotation[0]-10, max=bone.rotation[0] + 10))\n",
    "    widgets[i].append(FloatSlider(description=\"Rot Y\", value=bone.rotation[1], min=bone.rotation[1]-10, max=bone.rotation[1] + 10))\n",
    "    widgets[i].append(FloatSlider(description=\"Rot Z\", value=bone.rotation[2], min=bone.rotation[2]-10, max=bone.rotation[2] + 10))\n",
    "    output_boxes[i] = widg.VBox([labels[i]] + widgets[i])\n",
    "\n",
    "contr = widg.HBox(output_boxes)    "
   ]
  },
  {
   "cell_type": "code",
   "execution_count": 11,
   "id": "9ae17f23-1419-4d8e-b780-7abcd785b369",
   "metadata": {},
   "outputs": [],
   "source": [
    "def on_change(args):\n",
    "    for i in range(len(bones)):\n",
    "        bone = bones[i]\n",
    "        widget = widgets[i]\n",
    "        bone.position = [widget[0].value, widget[1].value, widget[2].value]\n",
    "        bone.rotation = [widget[3].value, widget[4].value, widget[5].value, 'XYZ']"
   ]
  },
  {
   "cell_type": "code",
   "execution_count": 12,
   "id": "b0101691-9d0c-4814-baad-c50d2d873894",
   "metadata": {},
   "outputs": [],
   "source": [
    "for widget in widgets:\n",
    "    for w in widget:\n",
    "        w.observe(on_change)"
   ]
  },
  {
   "cell_type": "code",
   "execution_count": 13,
   "id": "d4bc2e6e-d5fe-4b0c-8899-eac0c69f4d8a",
   "metadata": {},
   "outputs": [],
   "source": [
    "def on_reset(args):\n",
    "    for widget in widgets:\n",
    "        for w in widget:\n",
    "            w.value = w.min + 10"
   ]
  },
  {
   "cell_type": "code",
   "execution_count": 14,
   "id": "fc528729-ed08-4a14-9cc0-9e4e80b2b97c",
   "metadata": {},
   "outputs": [],
   "source": [
    "reset = widg.Button(description=\"Reset\")\n",
    "reset.on_click(on_reset)"
   ]
  },
  {
   "cell_type": "code",
   "execution_count": 15,
   "id": "18572da4",
   "metadata": {
    "collapsed": false,
    "jupyter": {
     "outputs_hidden": false
    },
    "pycharm": {
     "name": "#%%\n"
    }
   },
   "outputs": [
    {
     "name": "stderr",
     "output_type": "stream",
     "text": [
      "C:\\Users\\halbritter\\.conda\\envs\\hydraulics\\lib\\site-packages\\jupyter_client\\session.py:718: UserWarning: Message serialization failed with:\n",
      "Out of range float values are not JSON compliant\n",
      "Supporting this message is deprecated in jupyter-client 7, please make sure your message is JSON-compliant\n",
      "  content = self.pack(content)\n"
     ]
    },
    {
     "data": {
      "application/vnd.jupyter.widget-view+json": {
       "model_id": "b0f742f1d8be46868576e932d0e3b6e4",
       "version_major": 2,
       "version_minor": 0
      },
      "text/plain": [
       "Output()"
      ]
     },
     "metadata": {},
     "output_type": "display_data"
    },
    {
     "data": {
      "application/vnd.jupyter.widget-view+json": {
       "model_id": "22f248a069104406804d7221cf4e3452",
       "version_major": 2,
       "version_minor": 0
      },
      "text/plain": [
       "Output()"
      ]
     },
     "metadata": {},
     "output_type": "display_data"
    },
    {
     "data": {
      "application/vnd.jupyter.widget-view+json": {
       "model_id": "4f9cebf5d4c444499f39292911cf7859",
       "version_major": 2,
       "version_minor": 0
      },
      "text/plain": [
       "Renderer(camera=PerspectiveCamera(aspect=3.0, children=(DirectionalLight(color='white', intensity=0.5, matrixW…"
      ]
     },
     "metadata": {},
     "output_type": "display_data"
    }
   ],
   "source": [
    "#cyl = CylinderBufferGeometry(pipe.i1.d / 2, pipe.i2.d / 2, height, 16, 8)\n",
    "#pipeMesh.geometry=cyl\n",
    "water = CylinderBufferGeometry(pipe.i1.d / 4, pipe.i1.d / 4, height / 3, 16, 8, thetaLength=pymath.pi)\n",
    "waterMesh = Mesh(water, MeshStandardMaterial(color='lightblue', opacity=1, transparent=False), rotation=[pymath.pi, 0, pymath.pi / 2, 'XYZ'], position=[-height / 3, 0, -5])\n",
    "cam = PerspectiveCamera(position=[0, 0, 0], quaternion=[0, 0, 0, 0], aspect=600/200)\n",
    "scene = Scene(children=[pipeMesh, helper, waterMesh, camera, AmbientLight(color='#FFFFFF')], background=None)\n",
    "renderer = Renderer(scene=scene, camera=camera, controls=[OrbitControls(controlling=camera)], width=600, height=200, alpha=True, clearOpacity=0)\n",
    "demo.show()\n",
    "renderer"
   ]
  },
  {
   "cell_type": "code",
   "execution_count": 16,
   "id": "c2b1598b-ed62-4830-b7eb-cf58e6b5ad62",
   "metadata": {},
   "outputs": [],
   "source": [
    "#display(widg.VBox([contr, reset, renderer]))"
   ]
  },
  {
   "cell_type": "code",
   "execution_count": 17,
   "id": "c7ea83e0",
   "metadata": {
    "collapsed": false,
    "jupyter": {
     "outputs_hidden": false
    },
    "pycharm": {
     "name": "#%%\n"
    }
   },
   "outputs": [],
   "source": [
    "def update_pipe(args):\n",
    "    pipeMesh.skeleton.bones[2].position = [(pipe.i1yParam.real() - pipe.i2yParam.real()) / 25, pipeMesh.skeleton.bones[2].position[1], pipeMesh.skeleton.bones[2].position[2]]\n",
    "    pipeMesh.geometry.exec_three_obj_method(\"dispose\")\n",
    "    pipeMesh.geometry = CylinderBufferGeometry(pipe.i1.d / 2, pipe.i2.d / 2, height, 16, 8)\n",
    "    waterMesh.rotation = [waterMesh.rotation[0], waterMesh.rotation[1], pipeMesh.skeleton.bones[1].rotation[2], 'XYZ']\n",
    "    g3 = LineSegmentsGeometry(\n",
    "    positions=[\n",
    "        [[0, pipe.i1yParam.real() / 10, -5], [100, (pipe.i1yParam.real()) / 10, -5]],\n",
    "    ],\n",
    "    colors=[\n",
    "        [[1, 0, 0], [1, 0, 1]],\n",
    "    ],\n",
    "    )\n",
    "    m3 = LineMaterial(linewidth=10, vertexColors='VertexColors')\n",
    "    line3 = LineSegments2(g3, m3)\n",
    "    #scene.add(line3)\n",
    "    #pipeMesh.skeleton.bones[2].rotation = [0, 0, pipe.i2yParam.real() / 100, 'XYZ']\n",
    "    # cyl = CylinderBufferGeometry(pipe.i1.d / 2, pipe.i2.d / 2, height, 16, 8)\n",
    "    #cyl_geom = BufferGeometry.from_geometry(cyl)\n",
    "    #vertices = cylinder.attributes['position'].array\n",
    "    #vertices[15 // 2] = [0, 0, 0]\n",
    "    #print(cylGeom.vertices)\n",
    "    # pipeMesh.geometry = cyl\n",
    "    \n",
    "    #cv = pipe.get_drawing()\n",
    "    #scene.add(cv)\n",
    "    \n",
    "    #pipeMesh.position = [pipeMesh.position[0], pipe.i1yParam.real(), pipeMesh.position[2]]"
   ]
  },
  {
   "cell_type": "code",
   "execution_count": 18,
   "id": "85f5de25",
   "metadata": {
    "collapsed": false,
    "jupyter": {
     "outputs_hidden": false
    },
    "pycharm": {
     "name": "#%%\n"
    }
   },
   "outputs": [],
   "source": [
    "pipe.observe(update_pipe)"
   ]
  },
  {
   "cell_type": "code",
   "execution_count": null,
   "id": "ff57c055-540a-4215-a1b5-e149c78e4319",
   "metadata": {},
   "outputs": [],
   "source": [
    "dfjwikdjwijw"
   ]
  },
  {
   "cell_type": "code",
   "execution_count": null,
   "id": "90e3e306-a4e6-4fbb-bcd4-61fb71a60a95",
   "metadata": {},
   "outputs": [],
   "source": [
    "N_BONES = 3\n",
    "\n",
    "ref_cylinder = CylinderBufferGeometry(5, 5, 50, 5, N_BONES * 5, True)\n",
    "cylinder = BufferGeometry.from_geometry(ref_cylinder)"
   ]
  },
  {
   "cell_type": "code",
   "execution_count": null,
   "id": "6a3cba31-5754-4eb2-89b9-89233c31b2d1",
   "metadata": {},
   "outputs": [],
   "source": [
    "skinIndices = []\n",
    "skinWeights = []\n",
    "vertices = cylinder.attributes['position'].array\n",
    "boneHeight = ref_cylinder.height / (N_BONES - 1)\n",
    "for i in range(vertices.shape[0]):\n",
    "\n",
    "    y = vertices[i, 1] + 0.5 * ref_cylinder.height\n",
    "\n",
    "    skinIndex = y // boneHeight\n",
    "    skinWeight = ( y % boneHeight ) / boneHeight\n",
    "\n",
    "    # Ease between each bone\n",
    "    skinIndices.append([skinIndex, skinIndex + 1, 0, 0 ])\n",
    "    skinWeights.append([1 - skinWeight, skinWeight, 0, 0 ])\n",
    "\n",
    "cylinder.attributes = dict(\n",
    "    cylinder.attributes,\n",
    "    skinIndex=BufferAttribute(skinIndices),\n",
    "    skinWeight=BufferAttribute(skinWeights),\n",
    ")\n",
    "\n",
    "b1 = Bone(position=(0, -25, 0))\n",
    "b2 = Bone(position=(0, -12.5, 0))\n",
    "b3 = Bone(position=(0, 12.5, 0))\n",
    "b4 = Bone(position=(0, 25, 0))\n",
    "\n",
    "b1.add(b2)\n",
    "b2.add(b3)\n",
    "b3.add(b4)\n",
    "bones = [b1, b2, b3, b4]\n",
    "\n",
    "skeleton = Skeleton(bones)\n",
    "\n",
    "mesh = SkinnedMesh(cylinder, MeshPhongMaterial(side='DoubleSide', skinning=True), rotation=[pymath.pi, 0, pymath.pi / 2, 'XYZ'])\n",
    "mesh.add(bones)\n",
    "mesh.skeleton = skeleton"
   ]
  },
  {
   "cell_type": "code",
   "execution_count": null,
   "id": "0f06bdd3-c38f-4ae1-9007-a2ad88858857",
   "metadata": {},
   "outputs": [],
   "source": [
    "helper = SkeletonHelper(mesh)"
   ]
  },
  {
   "cell_type": "code",
   "execution_count": null,
   "id": "2ee151d6-1134-4998-8368-28efe8c630bf",
   "metadata": {},
   "outputs": [],
   "source": [
    "view_width = 600\n",
    "view_height = 400\n",
    "camera4 = PerspectiveCamera( position=[40, 24, 40], aspect=view_width/view_height)\n",
    "scene4 = Scene(children=[mesh, helper, camera4,\n",
    "                         DirectionalLight(position=[3, 5, 1], intensity=0.6),\n",
    "                         AmbientLight(intensity=0.5)])\n",
    "renderer4 = Renderer(camera=camera4, scene=scene4,\n",
    "                     controls=[OrbitControls(controlling=camera4)],\n",
    "                     width=view_width, height=view_height)\n",
    "display(renderer4)"
   ]
  },
  {
   "cell_type": "code",
   "execution_count": null,
   "id": "ea782c89-dc3f-4b49-85f8-3ca177ceee5d",
   "metadata": {},
   "outputs": [],
   "source": [
    "mesh.skeleton.bones[1].rotation = [0, 0, 0, 'XYZ']"
   ]
  },
  {
   "cell_type": "code",
   "execution_count": null,
   "id": "086df105-a1bd-4b06-a402-a4a35f736d5f",
   "metadata": {},
   "outputs": [],
   "source": [
    "mesh.skeleton.bones[2].rotation = [0, 0, 0, 'XYZ']"
   ]
  },
  {
   "cell_type": "code",
   "execution_count": null,
   "id": "358a82c5-b79d-4add-9b31-263846d77549",
   "metadata": {},
   "outputs": [],
   "source": [
    "mesh.position = [pymath.pi / 2, 0, 0]"
   ]
  },
  {
   "cell_type": "code",
   "execution_count": null,
   "id": "cd2cdb23-a8f7-48e6-9995-9cd8de212f0b",
   "metadata": {},
   "outputs": [],
   "source": []
  },
  {
   "cell_type": "code",
   "execution_count": null,
   "id": "6e36e741-8763-4632-a16d-6a006e583118",
   "metadata": {},
   "outputs": [],
   "source": []
  }
 ],
 "metadata": {
  "kernelspec": {
   "display_name": "Python 3 (ipykernel)",
   "language": "python",
   "name": "python3"
  },
  "language_info": {
   "codemirror_mode": {
    "name": "ipython",
    "version": 3
   },
   "file_extension": ".py",
   "mimetype": "text/x-python",
   "name": "python",
   "nbconvert_exporter": "python",
   "pygments_lexer": "ipython3",
   "version": "3.10.5"
  }
 },
 "nbformat": 4,
 "nbformat_minor": 5
}
