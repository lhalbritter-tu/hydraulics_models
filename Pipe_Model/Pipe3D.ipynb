{
 "cells": [
  {
   "cell_type": "code",
   "execution_count": 1,
   "id": "743fc225-dde1-491c-adc6-bcf85d629fd0",
   "metadata": {
    "pycharm": {
     "name": "#%%\n"
    }
   },
   "outputs": [],
   "source": [
    "import sys, time\n",
    "sys.path.append('../')"
   ]
  },
  {
   "cell_type": "code",
   "execution_count": 2,
   "id": "e66a6f88-7504-4148-942e-c7e344736af4",
   "metadata": {
    "pycharm": {
     "name": "#%%\n"
    }
   },
   "outputs": [],
   "source": [
    "from ipycanvas import canvas\n",
    "from demo import *\n",
    "from model import *\n",
    "from pythreejs import *"
   ]
  },
  {
   "cell_type": "code",
   "execution_count": 3,
   "id": "be3f614c-c749-4299-a8f6-85540b99009a",
   "metadata": {},
   "outputs": [],
   "source": [
    "c = canvas.Canvas(width=600, height=200, sync_image_data=True)\n",
    "pipe = AdvancedPipe(Circle(1, 0), Circle(1, 0), 10, canvas=c)"
   ]
  },
  {
   "cell_type": "code",
   "execution_count": 4,
   "id": "2b9016e7",
   "metadata": {
    "collapsed": false,
    "jupyter": {
     "outputs_hidden": false
    },
    "pycharm": {
     "name": "#%%\n"
    }
   },
   "outputs": [],
   "source": [
    "height = 7.5\n",
    "ref_cyl = CylinderBufferGeometry(pipe.i1.d / 2, pipe.i2.d / 2, height, 16, 8)\n",
    "cyl = BufferGeometry.from_geometry(ref_cyl)"
   ]
  },
  {
   "cell_type": "code",
   "execution_count": 5,
   "id": "be635050",
   "metadata": {
    "collapsed": false,
    "jupyter": {
     "outputs_hidden": false
    },
    "pycharm": {
     "name": "#%%\n"
    }
   },
   "outputs": [],
   "source": [
    "\n",
    "demo = Demo(pipe.params, pipe, drawable=c)"
   ]
  },
  {
   "cell_type": "code",
   "execution_count": 7,
   "id": "3a8ae102",
   "metadata": {
    "collapsed": false,
    "jupyter": {
     "outputs_hidden": false
    },
    "pycharm": {
     "name": "#%%\n"
    }
   },
   "outputs": [],
   "source": [
    "skinIndices = []\n",
    "skinWeights = []\n",
    "vertices = cyl.attributes['position'].array\n",
    "boneHeight = ref_cyl.height / 2\n",
    "for i in range(vertices.shape[0]):\n",
    "\n",
    "    y = vertices[i, 1] + 0.5 * ref_cyl.height\n",
    "\n",
    "    skinIndex = y // boneHeight\n",
    "    skinWeight = ( y % boneHeight ) / boneHeight\n",
    "\n",
    "    # Ease between each bone\n",
    "    skinIndices.append([skinIndex, skinIndex + 1, 0, 0 ])\n",
    "    skinWeights.append([1 - skinWeight, skinWeight, 0, 0 ])\n",
    "\n",
    "cyl.attributes = dict(\n",
    "    cyl.attributes,\n",
    "    skinIndex=BufferAttribute(skinIndices),\n",
    "    skinWeight=BufferAttribute(skinWeights),\n",
    ")\n",
    "\n",
    "shoulder = Bone(position=(0, -25, 0))\n",
    "elbow = Bone(position=(0, 25, 0))\n",
    "hand = Bone(position=(0, 25, 0))\n",
    "\n",
    "shoulder.add(elbow)\n",
    "elbow.add(hand)\n",
    "bones = [shoulder, elbow, hand]\n",
    "skeleton = Skeleton(bones)\n",
    "\n",
    "pipeMesh = SkinnedMesh(cyl, MeshPhongMaterial(side='DoubleSide', skinning=True, color='gray', opacity=0.3, transparent=True), rotation=[pymath.pi, 0,pymath.pi / 2, 'XYZ'], position=[0, 0, -5])\n",
    "pipeMesh.add(bones[0])\n",
    "pipeMesh.skeleton = skeleton"
   ]
  },
  {
   "cell_type": "code",
   "execution_count": 8,
   "id": "18572da4",
   "metadata": {
    "collapsed": false,
    "jupyter": {
     "outputs_hidden": false
    },
    "pycharm": {
     "name": "#%%\n"
    }
   },
   "outputs": [
    {
     "name": "stderr",
     "output_type": "stream",
     "text": [
      "/home/kipoka/anaconda3/envs/hydraulics/lib/python3.10/site-packages/jupyter_client/session.py:718: UserWarning: Message serialization failed with:\n",
      "Out of range float values are not JSON compliant\n",
      "Supporting this message is deprecated in jupyter-client 7, please make sure your message is JSON-compliant\n",
      "  content = self.pack(content)\n"
     ]
    },
    {
     "data": {
      "application/vnd.jupyter.widget-view+json": {
       "model_id": "f61015844a8a45ed96f87bf6435b03a8",
       "version_major": 2,
       "version_minor": 0
      },
      "text/plain": [
       "Output()"
      ]
     },
     "metadata": {},
     "output_type": "display_data"
    },
    {
     "data": {
      "application/vnd.jupyter.widget-view+json": {
       "model_id": "b16d5529201b457a983f970fd14e9be9",
       "version_major": 2,
       "version_minor": 0
      },
      "text/plain": [
       "VBox(children=(Canvas(height=200, image_data=b'\\x89PNG\\r\\n\\x1a\\n\\x00\\x00\\x00\\rIHDR\\x00\\x00\\x02X\\x00\\x00\\x00\\xc…"
      ]
     },
     "metadata": {},
     "output_type": "display_data"
    },
    {
     "data": {
      "application/vnd.jupyter.widget-view+json": {
       "model_id": "ee1128c96d51460da77a71116d1ddce6",
       "version_major": 2,
       "version_minor": 0
      },
      "text/plain": [
       "Renderer(camera=PerspectiveCamera(aspect=3.0, children=(DirectionalLight(color='white', intensity=0.5, matrixW…"
      ]
     },
     "metadata": {},
     "output_type": "display_data"
    }
   ],
   "source": [
    "water = CylinderBufferGeometry(pipe.i1.d / 4, pipe.i1.d / 4, height / 3, 16, 8, thetaLength=pymath.pi)\n",
    "waterMesh = Mesh(water, MeshStandardMaterial(color='lightblue', opacity=1, transparent=False), rotation=[pymath.pi, 0, pymath.pi / 2, 'XYZ'], position=[-height / 3, 0, -5])\n",
    "cam = PerspectiveCamera(position=[0, 0, 0], quaternion=[0, 0, 0, 0], aspect=600/200)\n",
    "scene = Scene(children=[pipeMesh, waterMesh, camera, AmbientLight(color='#FFFFFF')], background=None)\n",
    "renderer = Renderer(scene=scene, camera=camera, controls=[OrbitControls(controlling=camera)], width=600, height=200, alpha=True, clearOpacity=0)\n",
    "demo.show()\n",
    "renderer"
   ]
  },
  {
   "cell_type": "code",
   "execution_count": 9,
   "id": "c7ea83e0",
   "metadata": {
    "collapsed": false,
    "jupyter": {
     "outputs_hidden": false
    },
    "pycharm": {
     "name": "#%%\n"
    }
   },
   "outputs": [],
   "source": [
    "def update_pipe(args):\n",
    "    pipeMesh.skeleton.bones[1].rotation = [0, 0, (pipe.i1yParam.real() - pipe.i2yParam.real()) / 100, 'XYZ']\n",
    "    waterMesh.rotation = [waterMesh.rotation[0], waterMesh.rotation[1], pipeMesh.skeleton.bones[1].rotation[2], 'XYZ']\n",
    "    g3 = LineSegmentsGeometry(\n",
    "    positions=[\n",
    "        [[0, pipe.i1yParam.real() / 10, -5], [100, (pipe.i1yParam.real()) / 10, -5]],\n",
    "    ],\n",
    "    colors=[\n",
    "        [[1, 0, 0], [1, 0, 1]],\n",
    "    ],\n",
    "    )\n",
    "    m3 = LineMaterial(linewidth=10, vertexColors='VertexColors')\n",
    "    line3 = LineSegments2(g3, m3)\n",
    "    #scene.add(line3)\n",
    "    #pipeMesh.skeleton.bones[2].rotation = [0, 0, pipe.i2yParam.real() / 100, 'XYZ']\n",
    "    cyl = CylinderBufferGeometry(pipe.i1.d / 2, pipe.i2.d / 2, height, 16, 8)\n",
    "    #cyl_geom = BufferGeometry.from_geometry(cyl)\n",
    "    #vertices = cylinder.attributes['position'].array\n",
    "    #vertices[15 // 2] = [0, 0, 0]\n",
    "    #print(cylGeom.vertices)\n",
    "    pipeMesh.geometry = cyl\n",
    "    \n",
    "    #cv = pipe.get_drawing()\n",
    "    #scene.add(cv)\n",
    "    \n",
    "    #pipeMesh.position = [pipeMesh.position[0], pipe.i1yParam.real(), pipeMesh.position[2]]"
   ]
  },
  {
   "cell_type": "code",
   "execution_count": 10,
   "id": "85f5de25",
   "metadata": {
    "collapsed": false,
    "jupyter": {
     "outputs_hidden": false
    },
    "pycharm": {
     "name": "#%%\n"
    }
   },
   "outputs": [],
   "source": [
    "pipe.observe(update_pipe)"
   ]
  },
  {
   "cell_type": "code",
   "execution_count": null,
   "outputs": [],
   "source": [],
   "metadata": {
    "collapsed": false,
    "pycharm": {
     "name": "#%%\n"
    }
   }
  }
 ],
 "metadata": {
  "kernelspec": {
   "display_name": "Python 3 (ipykernel)",
   "language": "python",
   "name": "python3"
  },
  "language_info": {
   "codemirror_mode": {
    "name": "ipython",
    "version": 3
   },
   "file_extension": ".py",
   "mimetype": "text/x-python",
   "name": "python",
   "nbconvert_exporter": "python",
   "pygments_lexer": "ipython3",
   "version": "3.10.5"
  }
 },
 "nbformat": 4,
 "nbformat_minor": 5
}