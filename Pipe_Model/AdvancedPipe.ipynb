{
 "cells": [
  {
   "cell_type": "code",
   "execution_count": 1,
   "id": "cd91eff1",
   "metadata": {
    "collapsed": false,
    "jupyter": {
     "outputs_hidden": false
    },
    "pycharm": {
     "name": "#%%\n"
    }
   },
   "outputs": [],
   "source": [
    "import sys\n",
    "sys.path.append('../')"
   ]
  },
  {
   "cell_type": "code",
   "execution_count": 2,
   "id": "4b70f6d6",
   "metadata": {
    "collapsed": false,
    "jupyter": {
     "outputs_hidden": false
    },
    "pycharm": {
     "name": "#%%\n"
    }
   },
   "outputs": [],
   "source": [
    "from ipycanvas import canvas\n",
    "from demo import *\n",
    "from model import *\n",
    "from pythreejs import *"
   ]
  },
  {
   "cell_type": "markdown",
   "id": "9ba65ecc",
   "metadata": {
    "pycharm": {
     "name": "#%% md\n"
    }
   },
   "source": [
    "# Pipe Simulation\n",
    "Below you can set different parameters of a pipe, regarding the two ends as well as the velocity of the liquid flow. On changing these values, you can see a fitting sketch, as well as get the correct calculation for these formulars:\n",
    "\n",
    "$$\n",
    "Q_1 = A(E_1) \\cdot U_1 \\\\\n",
    "Q_2 = A(E_2) \\cdot U_2 \\\\\n",
    "Q_1 = Q_2 \\\\\n",
    "-> U_2 = \\frac{A(E_1)}{A(E_2)} \\cdot U_1 \\\\\n",
    "\\Delta p = U_1^2 - U_2^2 + H_1 - H_2\n",
    "$$"
   ]
  },
  {
   "cell_type": "code",
   "execution_count": 3,
   "id": "ed7a8164",
   "metadata": {
    "collapsed": false,
    "jupyter": {
     "outputs_hidden": false
    },
    "pycharm": {
     "name": "#%%\n"
    }
   },
   "outputs": [],
   "source": [
    "c = canvas.Canvas(width=600, height=200)\n",
    "\n",
    "m = AdvancedPipe(\n",
    "    Circle(1, 0),\n",
    "    Circle(1, 0),\n",
    "    10, c\n",
    ")\n",
    "\n",
    "demo = Demo(m.params, m)"
   ]
  },
  {
   "cell_type": "code",
   "execution_count": 4,
   "id": "c5f091a5",
   "metadata": {
    "pycharm": {
     "name": "#%%\n"
    }
   },
   "outputs": [
    {
     "data": {
      "application/vnd.jupyter.widget-view+json": {
       "model_id": "e51c59fbb61d4bc880d90ac1aaba08f0",
       "version_major": 2,
       "version_minor": 0
      },
      "text/plain": [
       "Output()"
      ]
     },
     "metadata": {},
     "output_type": "display_data"
    },
    {
     "data": {
      "application/vnd.jupyter.widget-view+json": {
       "model_id": "b7b38fb4da4d4c23a50f3c80df200291",
       "version_major": 2,
       "version_minor": 0
      },
      "text/plain": [
       "Output()"
      ]
     },
     "metadata": {},
     "output_type": "display_data"
    },
    {
     "data": {
      "application/vnd.jupyter.widget-view+json": {
       "model_id": "5221e8c1186946b492cf6176379fd53c",
       "version_major": 2,
       "version_minor": 0
      },
      "text/plain": [
       "Canvas(height=200, width=600)"
      ]
     },
     "metadata": {},
     "output_type": "display_data"
    }
   ],
   "source": [
    "demo.show()\n",
    "c"
   ]
  },
  {
   "cell_type": "code",
   "execution_count": null,
   "id": "2089ec45-ac13-417f-82a7-c61d146dc25a",
   "metadata": {
    "pycharm": {
     "name": "#%%\n"
    }
   },
   "outputs": [],
   "source": []
  }
 ],
 "metadata": {
  "celltoolbar": "Tags",
  "kernelspec": {
   "display_name": "Python 3 (ipykernel)",
   "language": "python",
   "name": "python3"
  },
  "language_info": {
   "codemirror_mode": {
    "name": "ipython",
    "version": 3
   },
   "file_extension": ".py",
   "mimetype": "text/x-python",
   "name": "python",
   "nbconvert_exporter": "python",
   "pygments_lexer": "ipython3",
   "version": "3.9.12"
  }
 },
 "nbformat": 4,
 "nbformat_minor": 5
}