{
 "cells": [
  {
   "cell_type": "code",
   "execution_count": 1,
   "id": "b4d8af7e",
   "metadata": {},
   "outputs": [],
   "source": [
    "from ipycanvas import canvas\n",
    "from nb import AdvancedDemo"
   ]
  },
  {
   "cell_type": "markdown",
   "id": "3f354981",
   "metadata": {},
   "source": [
    "# Pipe Simulation\n",
    "Below you can set different parameters of a pipe, regarding the two ends as well as the velocity of the liquid flow. On changing these values, you can see a fitting sketch, as well as get the correct calculation for these formulars:\n",
    "\n",
    "$$\n",
    "Q_1 = A(E_1) \\cdot U_1 \\\\\n",
    "Q_2 = A(E_2) \\cdot U_2 \\\\\n",
    "Q_1 = Q_2 \\\\\n",
    "-> U_2 = \\frac{A(E_1)}{A(E_2)} \\cdot U_1 \\\\\n",
    "\\Delta p = U_1^2 - U_2^2 + H_1 - H_2\n",
    "$$"
   ]
  },
  {
   "cell_type": "code",
   "execution_count": 3,
   "id": "233eac7c",
   "metadata": {},
   "outputs": [
    {
     "data": {
      "application/vnd.jupyter.widget-view+json": {
       "model_id": "f83f5e960f91437ca899e247612e3cb2",
       "version_major": 2,
       "version_minor": 0
      },
      "text/plain": [
       "VBox(children=(HBox(children=(VBox(children=(HTML(value='<h1>End 1</h1>'), ToggleButtons(options=('Circle', 'R…"
      ]
     },
     "metadata": {},
     "output_type": "display_data"
    },
    {
     "data": {
      "application/vnd.jupyter.widget-view+json": {
       "model_id": "ba279afb4d5543e9b71466c9bb6c0d4b",
       "version_major": 2,
       "version_minor": 0
      },
      "text/plain": [
       "VBox(children=(Canvas(height=200, width=800), Output()))"
      ]
     },
     "metadata": {},
     "output_type": "display_data"
    }
   ],
   "source": [
    "c = canvas.Canvas(width=800, height=200)\n",
    "demo = AdvancedDemo(c, 75)\n",
    "demo.show()"
   ]
  },
  {
   "cell_type": "code",
   "execution_count": null,
   "id": "b161874d",
   "metadata": {},
   "outputs": [],
   "source": []
  }
 ],
 "metadata": {
  "celltoolbar": "Tags",
  "kernelspec": {
   "display_name": "Python 3 (ipykernel)",
   "language": "python",
   "name": "python3"
  },
  "language_info": {
   "codemirror_mode": {
    "name": "ipython",
    "version": 3
   },
   "file_extension": ".py",
   "mimetype": "text/x-python",
   "name": "python",
   "nbconvert_exporter": "python",
   "pygments_lexer": "ipython3",
   "version": "3.10.4"
  }
 },
 "nbformat": 4,
 "nbformat_minor": 5
}
