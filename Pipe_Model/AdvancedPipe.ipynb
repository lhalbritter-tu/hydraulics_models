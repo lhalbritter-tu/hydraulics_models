{
 "cells": [
  {
   "cell_type": "code",
   "execution_count": 1,
   "id": "cd91eff1",
   "metadata": {
    "collapsed": false,
    "jupyter": {
     "outputs_hidden": false
    },
    "pycharm": {
     "name": "#%%\n"
    }
   },
   "outputs": [],
   "source": [
    "import sys\n",
    "sys.path.append('../')"
   ]
  },
  {
   "cell_type": "code",
   "execution_count": 2,
   "id": "4b70f6d6",
   "metadata": {
    "collapsed": false,
    "jupyter": {
     "outputs_hidden": false
    },
    "pycharm": {
     "name": "#%%\n"
    }
   },
   "outputs": [],
   "source": [
    "from ipycanvas import canvas\n",
    "from demo import *\n",
    "from model import *\n",
    "from pythreejs import *"
   ]
  },
  {
   "cell_type": "code",
   "execution_count": 3,
   "id": "6d0024e7-5115-4c98-b589-618287e12630",
   "metadata": {
    "pycharm": {
     "name": "#%%\n"
    }
   },
   "outputs": [
    {
     "data": {
      "text/html": [
       "<style>\n",
       ".output-box {\n",
       "    background: #D0E4F5 none no-repeat scroll 22px 17px;\n",
       "    font-size: 18px;\n",
       "}\n",
       "\n",
       ".seperator {\n",
       "    border-bottom: 2px solid #000;\n",
       "}\n",
       "\n",
       ".heading {\n",
       "    background-color:#3166ff;\n",
       "    color:#ffffff;\n",
       "    font-weight:700;\n",
       "    margin-right:0px;\n",
       "}\n",
       "\n",
       ".dropdown > select {\n",
       "    background-color:#d0e4f5;\n",
       "    margin-left:0px;\n",
       "}\n",
       "</style>\n"
      ],
      "text/plain": [
       "<IPython.core.display.HTML object>"
      ]
     },
     "metadata": {},
     "output_type": "display_data"
    }
   ],
   "source": [
    "%%html\n",
    "<style>\n",
    ".output-box {\n",
    "    background: #D0E4F5 none no-repeat scroll 22px 17px;\n",
    "    font-size: 18px;\n",
    "}\n",
    "\n",
    ".seperator {\n",
    "    border-bottom: 2px solid #000;\n",
    "}\n",
    "\n",
    ".heading {\n",
    "    background-color:#3166ff;\n",
    "    color:#ffffff;\n",
    "    font-weight:700;\n",
    "    margin-right:0px;\n",
    "}\n",
    "\n",
    ".dropdown > select {\n",
    "    background-color:#d0e4f5;\n",
    "    margin-left:0px;\n",
    "}\n",
    "</style>"
   ]
  },
  {
   "cell_type": "markdown",
   "id": "9ba65ecc",
   "metadata": {
    "pycharm": {
     "name": "#%% md\n"
    },
    "tags": []
   },
   "source": [
    "# Frictionless Pipe: Energy and Mass conservation"
   ]
  },
  {
   "cell_type": "code",
   "execution_count": 4,
   "id": "ed7a8164",
   "metadata": {
    "collapsed": false,
    "jupyter": {
     "outputs_hidden": false
    },
    "pycharm": {
     "name": "#%%\n"
    }
   },
   "outputs": [],
   "source": [
    "c = canvas.Canvas(width=1080, height=720)\n",
    "\n",
    "m = AdvancedPipe(\n",
    "    Circle(1, 0),\n",
    "    Circle(1, 0),\n",
    "    10, c, margin_left=50, margin_right=250\n",
    ")\n",
    "\n",
    "demo = PipeDemo(m.params, m, drawable=c)"
   ]
  },
  {
   "cell_type": "code",
   "execution_count": 5,
   "id": "c5f091a5",
   "metadata": {
    "pycharm": {
     "name": "#%%\n"
    }
   },
   "outputs": [
    {
     "data": {
      "application/vnd.jupyter.widget-view+json": {
       "model_id": "8b78a08059814fe4bbfc53ba119d2845",
       "version_major": 2,
       "version_minor": 0
      },
      "text/plain": [
       "Output()"
      ]
     },
     "metadata": {},
     "output_type": "display_data"
    },
    {
     "data": {
      "application/vnd.jupyter.widget-view+json": {
       "model_id": "0d92b8cac2524c33ba0184121faec2ef",
       "version_major": 2,
       "version_minor": 0
      },
      "text/plain": [
       "HTML(value=\"<div class='seperator'></div> <br />\")"
      ]
     },
     "metadata": {},
     "output_type": "display_data"
    },
    {
     "data": {
      "application/vnd.jupyter.widget-view+json": {
       "model_id": "e64fdef8fd784f1ca242d1177a7c3b93",
       "version_major": 2,
       "version_minor": 0
      },
      "text/plain": [
       "HBox(children=(Canvas(height=720, width=1080), HTML(value=' &nbsp  &nbsp  &nbsp  &nbsp  &nbsp  &nbsp  &nbsp  &…"
      ]
     },
     "metadata": {},
     "output_type": "display_data"
    }
   ],
   "source": [
    "demo.show()"
   ]
  },
  {
   "cell_type": "code",
   "execution_count": 6,
   "id": "31e2b834",
   "metadata": {
    "collapsed": false,
    "jupyter": {
     "outputs_hidden": false
    },
    "pycharm": {
     "name": "#%%\n"
    }
   },
   "outputs": [],
   "source": [
    "c.on_client_ready(m.draw)"
   ]
  },
  {
   "cell_type": "code",
   "execution_count": null,
   "id": "923fad72-7105-4e7b-9091-99b0aa5232ae",
   "metadata": {
    "pycharm": {
     "name": "#%%\n"
    }
   },
   "outputs": [],
   "source": []
  }
 ],
 "metadata": {
  "celltoolbar": "Tags",
  "kernelspec": {
   "display_name": "Python 3 (ipykernel)",
   "language": "python",
   "name": "python3"
  },
  "language_info": {
   "codemirror_mode": {
    "name": "ipython",
    "version": 3
   },
   "file_extension": ".py",
   "mimetype": "text/x-python",
   "name": "python",
   "nbconvert_exporter": "python",
   "pygments_lexer": "ipython3",
   "version": "3.10.5"
  }
 },
 "nbformat": 4,
 "nbformat_minor": 5
}