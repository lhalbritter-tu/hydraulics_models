{
 "cells": [
  {
   "cell_type": "code",
   "execution_count": 1,
   "id": "76013266-9e23-444c-ae8c-00d2076a280a",
   "metadata": {},
   "outputs": [],
   "source": [
    "import sys\n",
    "sys.path.append('../')"
   ]
  },
  {
   "cell_type": "code",
   "execution_count": 2,
   "id": "b4d8af7e",
   "metadata": {
    "pycharm": {
     "name": "#%%\n"
    }
   },
   "outputs": [],
   "source": [
    "from ipycanvas import canvas\n",
    "from demo import *\n",
    "from model import *"
   ]
  },
  {
   "cell_type": "markdown",
   "id": "3f354981",
   "metadata": {
    "pycharm": {
     "name": "#%% md\n"
    }
   },
   "source": [
    "# Pipe Simulation\n",
    "Below you can set different parameters of a pipe, regarding the two ends as well as the velocity of the liquid flow. On changing these values, you can see a fitting sketch, as well as get the correct calculation for these formulars:\n",
    "\n",
    "$$\n",
    "Q_1 = A(E_1) \\cdot U_1 \\\\\n",
    "Q_2 = A(E_2) \\cdot U_2 \\\\\n",
    "Q_1 = Q_2 \\\\\n",
    "-> U_2 = \\frac{A(E_1)}{A(E_2)} \\cdot U_1 \\\\\n",
    "\\Delta p = U_1^2 - U_2^2 + H_1 - H_2\n",
    "$$"
   ]
  },
  {
   "cell_type": "code",
   "execution_count": 3,
   "id": "233eac7c",
   "metadata": {
    "pycharm": {
     "name": "#%%\n"
    }
   },
   "outputs": [],
   "source": [
    "c = canvas.Canvas(width=600, height=200)\n",
    "m = AdvancedPipe(\n",
    "    Circle(1, 0),\n",
    "    Circle(1, 0),\n",
    "    10, c\n",
    ")\n",
    "\n",
    "demo = Demo(m.params, m)"
   ]
  },
  {
   "cell_type": "code",
   "execution_count": 4,
   "id": "b161874d",
   "metadata": {
    "pycharm": {
     "name": "#%%\n"
    }
   },
   "outputs": [
    {
     "data": {
      "application/vnd.jupyter.widget-view+json": {
       "model_id": "58a56a468bbe4951998ba9a97f05bbce",
       "version_major": 2,
       "version_minor": 0
      },
      "text/plain": [
       "Output()"
      ]
     },
     "metadata": {},
     "output_type": "display_data"
    },
    {
     "data": {
      "application/vnd.jupyter.widget-view+json": {
       "model_id": "68d8d1ff22ca4d888f022be774096fc4",
       "version_major": 2,
       "version_minor": 0
      },
      "text/plain": [
       "Output()"
      ]
     },
     "metadata": {},
     "output_type": "display_data"
    },
    {
     "data": {
      "application/vnd.jupyter.widget-view+json": {
       "model_id": "a03479ccaa1a4243b7f47098f1eb5454",
       "version_major": 2,
       "version_minor": 0
      },
      "text/plain": [
       "Canvas(height=200, width=600)"
      ]
     },
     "metadata": {},
     "output_type": "display_data"
    }
   ],
   "source": [
    "demo.show()\n",
    "c"
   ]
  },
  {
   "cell_type": "code",
   "execution_count": null,
   "id": "c5f091a5",
   "metadata": {
    "pycharm": {
     "name": "#%%\n"
    }
   },
   "outputs": [],
   "source": []
  }
 ],
 "metadata": {
  "celltoolbar": "Tags",
  "kernelspec": {
   "display_name": "Python 3 (ipykernel)",
   "language": "python",
   "name": "python3"
  },
  "language_info": {
   "codemirror_mode": {
    "name": "ipython",
    "version": 3
   },
   "file_extension": ".py",
   "mimetype": "text/x-python",
   "name": "python",
   "nbconvert_exporter": "python",
   "pygments_lexer": "ipython3",
   "version": "3.9.12"
  }
 },
 "nbformat": 4,
 "nbformat_minor": 5
}
