{
 "cells": [
  {
   "cell_type": "code",
   "execution_count": 1,
   "id": "77be12a6",
   "metadata": {},
   "outputs": [
    {
     "data": {
      "application/vnd.jupyter.widget-view+json": {
       "model_id": "725aa85b55754680b8168d30dd556439",
       "version_major": 2,
       "version_minor": 0
      },
      "text/plain": [
       "Scene(children=[PolyMesh(data=[], triangle_indices=array([   0,    1,  100, ..., 9899, 9999, 9998]), vertices=…"
      ]
     },
     "metadata": {},
     "output_type": "display_data"
    }
   ],
   "source": [
    "import numpy as np\n",
    "from ipygany import PolyMesh, Scene\n",
    "\n",
    "# Create triangle indices\n",
    "nx = 100\n",
    "ny = 100\n",
    "\n",
    "triangle_indices = np.empty((ny - 1, nx - 1, 2, 3), dtype=int)\n",
    "\n",
    "r = np.arange(nx * ny).reshape(ny, nx)\n",
    "\n",
    "triangle_indices[:, :, 0, 0] = r[:-1, :-1]\n",
    "triangle_indices[:, :, 1, 0] = r[:-1, 1:]\n",
    "triangle_indices[:, :, 0, 1] = r[:-1, 1:]\n",
    "\n",
    "triangle_indices[:, :, 1, 1] = r[1:, 1:]\n",
    "triangle_indices[:, :, :, 2] = r[1:, :-1, None]\n",
    "\n",
    "triangle_indices.shape = (-1, 3)\n",
    "\n",
    "# Create vertices\n",
    "x = np.arange(-5, 5, 10/nx)\n",
    "y = np.arange(-5, 5, 10/ny)\n",
    "\n",
    "xx, yy = np.meshgrid(x, y, sparse=True)\n",
    "\n",
    "z = np.sin(xx**2 + yy**2) / (xx**2 + yy**2)\n",
    "\n",
    "vertices = np.empty((ny, nx, 3))\n",
    "vertices[:, :, 0] = xx\n",
    "vertices[:, :, 1] = yy\n",
    "vertices[:, :, 2] = z\n",
    "vertices = vertices.reshape(nx * ny, 3)\n",
    "\n",
    "thing = PolyMesh(\n",
    "    vertices=vertices,\n",
    "    triangle_indices=triangle_indices\n",
    ")\n",
    "\n",
    "scene = Scene([thing])\n",
    "scene"
   ]
  },
  {
   "cell_type": "code",
   "execution_count": 2,
   "id": "c0e6f283",
   "metadata": {},
   "outputs": [
    {
     "data": {
      "application/vnd.jupyter.widget-view+json": {
       "model_id": "09bef84064b24152ad03148e822e5804",
       "version_major": 2,
       "version_minor": 0
      },
      "text/plain": [
       "Scene(children=[PolyMesh(data=[], triangle_indices=array([   0,    1,   64,    1,   65,   64,    1,    2,   65…"
      ]
     },
     "metadata": {},
     "output_type": "display_data"
    }
   ],
   "source": [
    "import numpy as np\n",
    "from ipygany import PolyMesh, Scene\n",
    "import mesh\n",
    "\n",
    "cylinder = mesh.Cylinder(64, 8, 6)\n",
    "\n",
    "m = PolyMesh(\n",
    "    vertices=cylinder.vertices,\n",
    "    triangle_indices=cylinder.indices\n",
    ")\n",
    "\n",
    "scene = Scene([m, thing])\n",
    "scene"
   ]
  },
  {
   "cell_type": "code",
   "execution_count": null,
   "id": "59ac828f",
   "metadata": {},
   "outputs": [],
   "source": []
  }
 ],
 "metadata": {
  "kernelspec": {
   "display_name": "Python 3 (ipykernel)",
   "language": "python",
   "name": "python3"
  },
  "language_info": {
   "codemirror_mode": {
    "name": "ipython",
    "version": 3
   },
   "file_extension": ".py",
   "mimetype": "text/x-python",
   "name": "python",
   "nbconvert_exporter": "python",
   "pygments_lexer": "ipython3",
   "version": "3.10.4"
  }
 },
 "nbformat": 4,
 "nbformat_minor": 5
}
