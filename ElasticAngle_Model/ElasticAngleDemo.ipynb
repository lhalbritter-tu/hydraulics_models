{
 "cells": [
  {
   "cell_type": "code",
   "execution_count": 1,
   "id": "06afb136",
   "metadata": {
    "collapsed": false,
    "jupyter": {
     "outputs_hidden": false
    },
    "pycharm": {
     "is_executing": true,
     "name": "#%%\n"
    }
   },
   "outputs": [],
   "source": [
    "import sys, time\n",
    "sys.path.append('../')\n",
    "from math import radians, sin"
   ]
  },
  {
   "cell_type": "code",
   "execution_count": 2,
   "id": "96677f0a",
   "metadata": {
    "collapsed": false,
    "jupyter": {
     "outputs_hidden": false
    },
    "pycharm": {
     "name": "#%%\n"
    }
   },
   "outputs": [],
   "source": [
    "%matplotlib widget"
   ]
  },
  {
   "cell_type": "code",
   "execution_count": 3,
   "id": "c640bed5",
   "metadata": {
    "collapsed": false,
    "jupyter": {
     "outputs_hidden": false
    },
    "pycharm": {
     "name": "#%%\n"
    }
   },
   "outputs": [],
   "source": [
    "import numpy as np\n",
    "import angle as model\n",
    "from IPython.display import display, Markdown\n",
    "import ipywidgets as widgets\n",
    "from demo import *\n",
    "from ipycanvas import Canvas, hold_canvas\n",
    "import matplotlib.pyplot as plt\n",
    "from matplotlib.animation import FuncAnimation"
   ]
  },
  {
   "cell_type": "code",
   "execution_count": 4,
   "id": "361f7dec",
   "metadata": {
    "collapsed": false,
    "jupyter": {
     "outputs_hidden": false
    },
    "pycharm": {
     "name": "#%%\n"
    }
   },
   "outputs": [],
   "source": [
    "%%capture\n",
    "m = model.Angle(9, 3, 0.2)\n",
    "t = np.linspace(0, 30, 100)\n",
    "w_0 = m.circular_frequency().real()\n",
    "y = m.evaluate(t)\n",
    "#plt.ioff()\n",
    "plot = Plot(t, y, width=4, height=4, title=\"Oscilation Plot\", xlabel=\"Time t [s]\", ylabel=\"Phi(t) [rad]\")\n",
    "c = model.AngleCanvas(m, plot, L=100, width=500, height=200)\n",
    "c.canvas.layout.width=\"50%\"\n",
    "# fig.tight_layout()\n",
    "m.params.append(ChangeableContainer([c.play_btn]))\n",
    "demo = Demo(m.params, m, drawable=widgets.HBox([c.canvas, plot.widget]))\n",
    "#m.observe(plot.update_plot)"
   ]
  },
  {
   "cell_type": "code",
   "execution_count": 5,
   "id": "1e65ed8f",
   "metadata": {
    "collapsed": false,
    "jupyter": {
     "outputs_hidden": false
    },
    "pycharm": {
     "name": "#%%\n"
    }
   },
   "outputs": [],
   "source": [
    "def pingpong(canvas, width, height):\n",
    "    sx = x = 50\n",
    "    ex = 150\n",
    "    ping = True\n",
    "    i = 0\n",
    "    while True:\n",
    "        x += 2 if ping else -2\n",
    "        i += 5\n",
    "        if ping and x >= ex:\n",
    "            ping = False\n",
    "        if not ping and x <= sx:\n",
    "            ping = True\n",
    "        with hold_canvas(canvas):\n",
    "            canvas.clear()\n",
    "            canvas.fill_rect(x, 50, width, height)\n",
    "            canvas.fill_rects(np.array([sx, ex + width]), np.array([20, 20]), np.array([1, 1]), np.array([50, 50]))\n",
    "        canvas.sleep(20)"
   ]
  },
  {
   "cell_type": "code",
   "execution_count": 6,
   "id": "7b513efe",
   "metadata": {
    "collapsed": false,
    "jupyter": {
     "outputs_hidden": false
    },
    "pycharm": {
     "name": "#%%\n"
    }
   },
   "outputs": [],
   "source": [
    "#import threading\n",
    "#t = threading.Thread(target=pingpong, args=(c.canvas, 15, 15))\n",
    "#t2 = threading.Thread(target=pingpong, args=(ch, 30, 15))"
   ]
  },
  {
   "cell_type": "code",
   "execution_count": 7,
   "id": "686222fa",
   "metadata": {
    "collapsed": false,
    "jupyter": {
     "outputs_hidden": false
    },
    "pycharm": {
     "name": "#%%\n"
    }
   },
   "outputs": [],
   "source": [
    "#th = threading.Thread(target=oscilate, args=(c, m))\n",
    "#time.sleep(0.5)"
   ]
  },
  {
   "cell_type": "code",
   "execution_count": 8,
   "id": "fc4a6b01",
   "metadata": {
    "collapsed": false,
    "jupyter": {
     "outputs_hidden": false
    },
    "pycharm": {
     "name": "#%%\n"
    }
   },
   "outputs": [
    {
     "data": {
      "application/vnd.jupyter.widget-view+json": {
       "model_id": "f71106295ea34e688453f40e0bf3a08a",
       "version_major": 2,
       "version_minor": 0
      },
      "text/plain": [
       "Output()"
      ]
     },
     "metadata": {},
     "output_type": "display_data"
    },
    {
     "data": {
      "application/vnd.jupyter.widget-view+json": {
       "model_id": "8ffc356ff69f4f5d8371e5a5665ad108",
       "version_major": 2,
       "version_minor": 0
      },
      "text/plain": [
       "VBox(children=(HBox(children=(Canvas(height=200, layout=Layout(width='50%'), width=500), Canvas(toolbar=Toolba…"
      ]
     },
     "metadata": {},
     "output_type": "display_data"
    }
   ],
   "source": [
    "#time.sleep(0.5)\n",
    "demo.show()"
   ]
  },
  {
   "cell_type": "code",
   "execution_count": 9,
   "id": "8c17e14d-a43d-4fa5-aed4-b8019a2fda2e",
   "metadata": {
    "pycharm": {
     "name": "#%%\n"
    }
   },
   "outputs": [],
   "source": [
    "def upd_marker(args):\n",
    "    w_0 = m.circular_frequency().real()\n",
    "    y = m.evaluate(t)\n",
    "    print(y)\n",
    "    plot.update_plot(y=y)\n",
    "    plot.mark(m.t.real(), m.evaluate(m.t.real()).real())\n",
    "m.observe(upd_marker)"
   ]
  },
  {
   "cell_type": "code",
   "execution_count": null,
   "id": "01095bc1-5880-4710-b3ac-8ebe5cae35aa",
   "metadata": {
    "pycharm": {
     "name": "#%%\n"
    }
   },
   "outputs": [],
   "source": []
  }
 ],
 "metadata": {
  "kernelspec": {
   "display_name": "Python 3 (ipykernel)",
   "language": "python",
   "name": "python3"
  },
  "language_info": {
   "codemirror_mode": {
    "name": "ipython",
    "version": 3
   },
   "file_extension": ".py",
   "mimetype": "text/x-python",
   "name": "python",
   "nbconvert_exporter": "python",
   "pygments_lexer": "ipython3",
   "version": "3.10.5"
  }
 },
 "nbformat": 4,
 "nbformat_minor": 5
}
