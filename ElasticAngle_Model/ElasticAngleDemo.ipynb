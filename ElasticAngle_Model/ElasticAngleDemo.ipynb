{
 "cells": [
  {
   "cell_type": "code",
   "execution_count": 21,
   "id": "5b114894-0204-4f2f-a796-5090d8fd9f8e",
   "metadata": {},
   "outputs": [],
   "source": [
    "%matplotlib widget"
   ]
  },
  {
   "cell_type": "code",
   "execution_count": 31,
   "id": "b3dfcf9c-51a1-46c3-a7a9-d93173d45ed5",
   "metadata": {},
   "outputs": [],
   "source": [
    "import numpy as np\n",
    "import matplotlib.pyplot as plt\n",
    "import angle as model\n",
    "from IPython.display import display, Markdown\n",
    "import ipywidgets as widgets"
   ]
  },
  {
   "cell_type": "code",
   "execution_count": 46,
   "id": "9153ed09-43ff-4baa-8ca6-f8b41cf696d7",
   "metadata": {},
   "outputs": [],
   "source": [
    "class ElasticAngleModel:\n",
    "    def __init__(self, mass, feather, w0):\n",
    "        self.angle = model.setup_angle(mass, feather, w0)\n",
    "        self.init_ui()\n",
    "    \n",
    "    def init_ui(self):\n",
    "        self.mLabel = widgets.Label(\"[kg]\")\n",
    "        self.mSlider = widgets.FloatSlider(\n",
    "            value=9.0,\n",
    "            min=3.0,\n",
    "            max=15.0,\n",
    "            description=\"Mass m = \",\n",
    "            step=0.1\n",
    "        )\n",
    "        self.mBox = widgets.HBox([self.mSlider, self.mLabel])\n",
    "        \n",
    "        self.fLabel = widgets.Label(\"[kN/m]\")\n",
    "        self.fSlider = widgets.FloatSlider(\n",
    "            value=3.0,\n",
    "            min=1.0,\n",
    "            max=10.0,\n",
    "            description=\"Feather stiffness k = \",\n",
    "            step=0.1\n",
    "        )\n",
    "        self.fBox = widgets.HBox([self.fSlider, self.fLabel])\n",
    "        \n",
    "        self.wLabel = widgets.Label(\"[rad]\")\n",
    "        self.wSlider = widgets.FloatSlider(\n",
    "            value=0.2,\n",
    "            min=0.1,\n",
    "            max=1.0,\n",
    "            description=\"Initial angular velocity phi(0) = \",\n",
    "            step=0.1\n",
    "        )\n",
    "        self.wBox = widgets.HBox([self.wSlider, self.wLabel])\n",
    "        \n",
    "        print(\"Should observe\")\n",
    "        self.mSlider.observe(self.update_output)\n",
    "        self.fSlider.observe(self.update_output)\n",
    "        self.wSlider.observe(self.update_output)\n",
    "        print(\"Should observeddd\")\n",
    "        \n",
    "        self.output = widgets.Output()\n",
    "        \n",
    "        display(widgets.VBox([self.mBox, self.fBox, self.wBox]))\n",
    "        display(self.output)\n",
    "        \n",
    "    def update_output(self):\n",
    "        self.angle.mass.value = self.mSlider.value\n",
    "        self.angle.feather.value = self.fSlider.value\n",
    "        self.angle.start_angle.value = self.wSlider.value\n",
    "        \n",
    "        self.output.clear_output()\n",
    "        with self.output:\n",
    "            display(self.angle)"
   ]
  },
  {
   "cell_type": "code",
   "execution_count": 47,
   "id": "c583abe2-671c-4a64-9244-2cbbd51030e8",
   "metadata": {},
   "outputs": [
    {
     "name": "stdout",
     "output_type": "stream",
     "text": [
      "Should observe\n",
      "Should observeddd\n"
     ]
    },
    {
     "data": {
      "application/vnd.jupyter.widget-view+json": {
       "model_id": "a2d5ae87818d48f2aaf27d73ef226e0d",
       "version_major": 2,
       "version_minor": 0
      },
      "text/plain": [
       "VBox(children=(HBox(children=(FloatSlider(value=9.0, description='Mass m = ', max=15.0, min=3.0), Label(value=…"
      ]
     },
     "metadata": {},
     "output_type": "display_data"
    },
    {
     "data": {
      "application/vnd.jupyter.widget-view+json": {
       "model_id": "ba51ec64f5b34763890b0a7b8f258941",
       "version_major": 2,
       "version_minor": 0
      },
      "text/plain": [
       "Output()"
      ]
     },
     "metadata": {},
     "output_type": "display_data"
    }
   ],
   "source": [
    "demo = ElasticAngleModel(9.0, 3.0, 0.2)"
   ]
  },
  {
   "cell_type": "code",
   "execution_count": null,
   "id": "5636dbf0-326f-4ad8-b740-b5752c167480",
   "metadata": {},
   "outputs": [],
   "source": []
  }
 ],
 "metadata": {
  "kernelspec": {
   "display_name": "Python 3 (ipykernel)",
   "language": "python",
   "name": "python3"
  },
  "language_info": {
   "codemirror_mode": {
    "name": "ipython",
    "version": 3
   },
   "file_extension": ".py",
   "mimetype": "text/x-python",
   "name": "python",
   "nbconvert_exporter": "python",
   "pygments_lexer": "ipython3",
   "version": "3.9.12"
  }
 },
 "nbformat": 4,
 "nbformat_minor": 5
}
