{
 "cells": [
  {
   "cell_type": "markdown",
   "id": "40da789d-0e35-45b9-b735-f07c77699d77",
   "metadata": {
    "pycharm": {
     "name": "#%% md\n"
    }
   },
   "source": [
    "# Elastisch gelagerter, starrer Winkel"
   ]
  },
  {
   "cell_type": "code",
   "execution_count": 1,
   "id": "06afb136",
   "metadata": {
    "collapsed": false,
    "jupyter": {
     "outputs_hidden": false
    },
    "pycharm": {
     "name": "#%%\n"
    }
   },
   "outputs": [],
   "source": [
    "import sys, time\n",
    "sys.path.append('../')\n",
    "from math import radians, sin"
   ]
  },
  {
   "cell_type": "code",
   "execution_count": 2,
   "id": "96677f0a",
   "metadata": {
    "collapsed": false,
    "jupyter": {
     "outputs_hidden": false
    },
    "pycharm": {
     "name": "#%%\n"
    }
   },
   "outputs": [],
   "source": [
    "%matplotlib widget"
   ]
  },
  {
   "cell_type": "code",
   "execution_count": 3,
   "id": "c640bed5",
   "metadata": {
    "collapsed": false,
    "jupyter": {
     "outputs_hidden": false
    },
    "pycharm": {
     "name": "#%%\n"
    }
   },
   "outputs": [],
   "source": [
    "import numpy as np\n",
    "import angle as model\n",
    "from IPython.display import display, Markdown\n",
    "import ipywidgets as widgets\n",
    "from demo import *\n",
    "from ipycanvas import Canvas, hold_canvas\n",
    "import matplotlib.pyplot as plt\n",
    "from matplotlib.animation import FuncAnimation"
   ]
  },
  {
   "cell_type": "code",
   "execution_count": 4,
   "id": "966ddad5",
   "metadata": {
    "collapsed": false,
    "jupyter": {
     "outputs_hidden": false
    },
    "pycharm": {
     "name": "#%%\n"
    }
   },
   "outputs": [],
   "source": [
    "%%capture\n",
    "m = model.Angle(9, 3, 0.2)\n",
    "t = np.linspace(-m.duration().real() * 5, m.duration().real() * 30, 1000)\n",
    "w_0 = m.circular_frequency().real()\n",
    "y = m.evaluate(t)\n",
    "#plt.ioff()\n",
    "plot = Plot(t, y, width=6, height=5, title=\"Oscilation Plot\", xlabel=\"Time t [s]\", ylabel=\"Phi(t) [rad]\", xlim=[-m.duration().real(), m.duration().real()], ylim=[-0.5, 0.5])\n",
    "c = model.AngleCanvas(m, plot, L=80, width=800, height=600)\n",
    "#c.canvas.layout.width=\"50%\"\n",
    "# fig.tight_layout()\n",
    "demo = Demo(m, drawable=widgets.HBox([c.canvas, c.plot_box]))\n",
    "#m.observe(plot.update_plot)"
   ]
  },
  {
   "cell_type": "code",
   "execution_count": 5,
   "id": "7b513efe",
   "metadata": {
    "collapsed": false,
    "jupyter": {
     "outputs_hidden": false
    },
    "pycharm": {
     "name": "#%%\n"
    }
   },
   "outputs": [],
   "source": [
    "#import threading\n",
    "#t = threading.Thread(target=pingpong, args=(c.canvas, 15, 15))\n",
    "#t2 = threading.Thread(target=pingpong, args=(ch, 30, 15))"
   ]
  },
  {
   "cell_type": "code",
   "execution_count": 6,
   "id": "686222fa",
   "metadata": {
    "collapsed": false,
    "jupyter": {
     "outputs_hidden": false
    },
    "pycharm": {
     "name": "#%%\n"
    }
   },
   "outputs": [],
   "source": [
    "#th = threading.Thread(target=oscilate, args=(c, m))\n",
    "#time.sleep(0.5)"
   ]
  },
  {
   "cell_type": "code",
   "execution_count": 7,
   "id": "fc4a6b01",
   "metadata": {
    "collapsed": false,
    "jupyter": {
     "outputs_hidden": false
    },
    "pycharm": {
     "name": "#%%\n"
    }
   },
   "outputs": [
    {
     "data": {
      "text/html": [
       "\n",
       "<style>\n",
       ".output-box {\n",
       "    background: #D0E4F5 none no-repeat scroll 22px 17px;\n",
       "    font-size: 18px;\n",
       "}\n",
       "\n",
       ".seperator {\n",
       "    border-bottom: 2px solid #000;\n",
       "}\n",
       "\n",
       ".heading {\n",
       "    // color: #e0eff2;\n",
       "    // background: #3a50d9;\n",
       "    font: italic bold Georgia, Serif;\n",
       "    color: #000000;\n",
       "    background:#ffffff;\n",
       "    text-align: left;\n",
       "    width: 100%;\n",
       "}\n",
       "\n",
       ".dropdown > select {\n",
       "    background-color:#d0e4f5;\n",
       "    margin-left:0px;\n",
       "    width: 100%;\n",
       "}\n",
       "</style>\n"
      ],
      "text/plain": [
       "<IPython.core.display.HTML object>"
      ]
     },
     "metadata": {},
     "output_type": "display_data"
    },
    {
     "data": {
      "text/html": [],
      "text/plain": [
       "<IPython.core.display.HTML object>"
      ]
     },
     "metadata": {},
     "output_type": "display_data"
    },
    {
     "data": {
      "application/vnd.jupyter.widget-view+json": {
       "model_id": "849ab0e1318144f5a624bb4f584b2a21",
       "version_major": 2,
       "version_minor": 0
      },
      "text/plain": [
       "Output()"
      ]
     },
     "metadata": {},
     "output_type": "display_data"
    },
    {
     "data": {
      "application/vnd.jupyter.widget-view+json": {
       "model_id": "46be056c12ef4741a1d115224c994db8",
       "version_major": 2,
       "version_minor": 0
      },
      "text/plain": [
       "HTML(value=\"<div class='seperator'></div> <br />\")"
      ]
     },
     "metadata": {},
     "output_type": "display_data"
    },
    {
     "data": {
      "application/vnd.jupyter.widget-view+json": {
       "model_id": "bd737296cdc64aabb6f92563c86bc6e4",
       "version_major": 2,
       "version_minor": 0
      },
      "text/plain": [
       "HBox(children=(Canvas(height=600, width=800), VBox(children=(Canvas(toolbar=Toolbar(toolitems=[('Home', 'Reset…"
      ]
     },
     "metadata": {},
     "output_type": "display_data"
    },
    {
     "data": {
      "application/vnd.jupyter.widget-view+json": {
       "model_id": "9fc23b60bebe44bf9ad89eee2dd220c2",
       "version_major": 2,
       "version_minor": 0
      },
      "text/plain": [
       "HTML(value=\"<div class='seperator'></div>\")"
      ]
     },
     "metadata": {},
     "output_type": "display_data"
    },
    {
     "data": {
      "application/vnd.jupyter.widget-view+json": {
       "model_id": "2128254b8c2442ad9ba0eee6b3009151",
       "version_major": 2,
       "version_minor": 0
      },
      "text/plain": [
       "Output()"
      ]
     },
     "metadata": {},
     "output_type": "display_data"
    }
   ],
   "source": [
    "#time.sleep(0.5)\n",
    "demo.show()"
   ]
  },
  {
   "cell_type": "code",
   "execution_count": 8,
   "id": "b3c1a44f",
   "metadata": {
    "collapsed": false,
    "jupyter": {
     "outputs_hidden": false
    },
    "pycharm": {
     "name": "#%%\n"
    }
   },
   "outputs": [],
   "source": [
    "def upd_marker(args):\n",
    "    w_0 = m.circular_frequency().real()\n",
    "    y = m.evaluate(t)\n",
    "    #print(y)\n",
    "    plot.update_plot(y=y)\n",
    "    #plot.mark(m.t.real(), m.evaluate(m.t.real()).real())\n",
    "    if c.oscilating:\n",
    "        plot.update_line(c.line, (plot.xlim[0] + plot.xlim[1]) / 2)\n",
    "        plot.sleep(0.01)\n",
    "    else:\n",
    "        plot.update_line(c.line, m.t.real())\n",
    "        plot.set_xlim([m.t.real() - m.duration().real(), m.t.real() + m.duration().real()])\n",
    "        plot.flush()\n",
    "        plot.sleep(0.01)\n",
    "    #plot.grid()\n",
    "m.observe(upd_marker)"
   ]
  }
 ],
 "metadata": {
  "kernelspec": {
   "display_name": "Python 3 (ipykernel)",
   "language": "python",
   "name": "python3"
  },
  "language_info": {
   "codemirror_mode": {
    "name": "ipython",
    "version": 3
   },
   "file_extension": ".py",
   "mimetype": "text/x-python",
   "name": "python",
   "nbconvert_exporter": "python",
   "pygments_lexer": "ipython3",
   "version": "3.10.5"
  }
 },
 "nbformat": 4,
 "nbformat_minor": 5
}