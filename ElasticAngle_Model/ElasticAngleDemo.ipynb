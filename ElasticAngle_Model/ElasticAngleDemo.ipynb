{
 "cells": [
  {
   "cell_type": "markdown",
   "id": "40da789d-0e35-45b9-b735-f07c77699d77",
   "metadata": {
    "pycharm": {
     "name": "#%% md\n"
    }
   },
   "source": [
    "# Elastisch gelagerter, starrer Winkel"
   ]
  },
  {
   "cell_type": "code",
   "execution_count": 1,
   "id": "06afb136",
   "metadata": {
    "collapsed": false,
    "jupyter": {
     "outputs_hidden": false
    },
    "pycharm": {
     "is_executing": true,
     "name": "#%%\n"
    }
   },
   "outputs": [],
   "source": [
    "import sys, time\n",
    "sys.path.append('../')\n",
    "from math import radians, sin"
   ]
  },
  {
   "cell_type": "code",
   "execution_count": 2,
   "id": "96677f0a",
   "metadata": {
    "collapsed": false,
    "jupyter": {
     "outputs_hidden": false
    },
    "pycharm": {
     "name": "#%%\n"
    }
   },
   "outputs": [],
   "source": [
    "%matplotlib widget"
   ]
  },
  {
   "cell_type": "code",
   "execution_count": 3,
   "id": "c640bed5",
   "metadata": {
    "collapsed": false,
    "jupyter": {
     "outputs_hidden": false
    },
    "pycharm": {
     "name": "#%%\n"
    }
   },
   "outputs": [],
   "source": [
    "import numpy as np\n",
    "import angle as model\n",
    "from IPython.display import display, Markdown\n",
    "import ipywidgets as widgets\n",
    "from demo import *\n",
    "from ipycanvas import Canvas, hold_canvas\n",
    "import matplotlib.pyplot as plt\n",
    "from matplotlib.animation import FuncAnimation"
   ]
  },
  {
   "cell_type": "code",
   "execution_count": 4,
   "id": "83c72227-5db8-4a3c-890c-26d0fa9c9694",
   "metadata": {
    "pycharm": {
     "name": "#%%\n"
    }
   },
   "outputs": [
    {
     "data": {
      "text/html": [
       "<style>\n",
       ".output-box {\n",
       "    background: #D0E4F5 none no-repeat scroll 22px 17px;\n",
       "}\n",
       "</style>\n"
      ],
      "text/plain": [
       "<IPython.core.display.HTML object>"
      ]
     },
     "metadata": {},
     "output_type": "display_data"
    }
   ],
   "source": [
    "%%html\n",
    "<style>\n",
    ".output-box {\n",
    "    background: #D0E4F5 none no-repeat scroll 22px 17px;\n",
    "}\n",
    "</style>"
   ]
  },
  {
   "cell_type": "code",
   "execution_count": 5,
   "id": "361f7dec",
   "metadata": {
    "collapsed": false,
    "jupyter": {
     "outputs_hidden": false
    },
    "pycharm": {
     "name": "#%%\n"
    }
   },
   "outputs": [],
   "source": [
    "%%capture\n",
    "m = model.Angle(9, 3, 0.2)\n",
    "t = np.linspace(-m.duration().real() * 5, m.duration().real() * 30, 1000)\n",
    "w_0 = m.circular_frequency().real()\n",
    "y = m.evaluate(t)\n",
    "#plt.ioff()\n",
    "plot = Plot(t, y, width=6, height=5, title=\"Oscilation Plot\", xlabel=\"Time t [s]\", ylabel=\"Phi(t) [rad]\", xlim=[-m.duration().real(), m.duration().real()], ylim=[-0.5, 0.5])\n",
    "c = model.AngleCanvas(m, plot, L=80, width=800, height=600)\n",
    "#c.canvas.layout.width=\"50%\"\n",
    "# fig.tight_layout()\n",
    "m.params.append(ChangeableContainer([c.play_btn, c.stop_btn]))\n",
    "demo = Demo(m.params, m, drawable=widgets.HBox([c.canvas, plot.widget]))\n",
    "#m.observe(plot.update_plot)"
   ]
  },
  {
   "cell_type": "code",
   "execution_count": 6,
   "id": "1e65ed8f",
   "metadata": {
    "collapsed": false,
    "jupyter": {
     "outputs_hidden": false
    },
    "pycharm": {
     "name": "#%%\n"
    }
   },
   "outputs": [],
   "source": [
    "def pingpong(canvas, width, height):\n",
    "    sx = x = 50\n",
    "    ex = 150\n",
    "    ping = True\n",
    "    i = 0\n",
    "    while True:\n",
    "        x += 2 if ping else -2\n",
    "        i += 5\n",
    "        if ping and x >= ex:\n",
    "            ping = False\n",
    "        if not ping and x <= sx:\n",
    "            ping = True\n",
    "        with hold_canvas(canvas):\n",
    "            canvas.clear()\n",
    "            canvas.fill_rect(x, 50, width, height)\n",
    "            canvas.fill_rects(np.array([sx, ex + width]), np.array([20, 20]), np.array([1, 1]), np.array([50, 50]))\n",
    "        canvas.sleep(20)"
   ]
  },
  {
   "cell_type": "code",
   "execution_count": 7,
   "id": "7b513efe",
   "metadata": {
    "collapsed": false,
    "jupyter": {
     "outputs_hidden": false
    },
    "pycharm": {
     "name": "#%%\n"
    }
   },
   "outputs": [],
   "source": [
    "#import threading\n",
    "#t = threading.Thread(target=pingpong, args=(c.canvas, 15, 15))\n",
    "#t2 = threading.Thread(target=pingpong, args=(ch, 30, 15))"
   ]
  },
  {
   "cell_type": "code",
   "execution_count": 8,
   "id": "686222fa",
   "metadata": {
    "collapsed": false,
    "jupyter": {
     "outputs_hidden": false
    },
    "pycharm": {
     "name": "#%%\n"
    }
   },
   "outputs": [],
   "source": [
    "#th = threading.Thread(target=oscilate, args=(c, m))\n",
    "#time.sleep(0.5)"
   ]
  },
  {
   "cell_type": "code",
   "execution_count": 9,
   "id": "fc4a6b01",
   "metadata": {
    "collapsed": false,
    "jupyter": {
     "outputs_hidden": false
    },
    "pycharm": {
     "name": "#%%\n"
    }
   },
   "outputs": [
    {
     "data": {
      "application/vnd.jupyter.widget-view+json": {
       "model_id": "1374a699b84149af8861c7acdaba12d9",
       "version_major": 2,
       "version_minor": 0
      },
      "text/plain": [
       "Output()"
      ]
     },
     "metadata": {},
     "output_type": "display_data"
    },
    {
     "data": {
      "application/vnd.jupyter.widget-view+json": {
       "model_id": "5f231a2fb6a0480f9454c851f7032ff8",
       "version_major": 2,
       "version_minor": 0
      },
      "text/plain": [
       "HBox(children=(Canvas(height=600, width=800), Canvas(toolbar=Toolbar(toolitems=[('Home', 'Reset original view'…"
      ]
     },
     "metadata": {},
     "output_type": "display_data"
    },
    {
     "data": {
      "application/vnd.jupyter.widget-view+json": {
       "model_id": "84d209a221bb4a3d936c505663392a1f",
       "version_major": 2,
       "version_minor": 0
      },
      "text/plain": [
       "Output()"
      ]
     },
     "metadata": {},
     "output_type": "display_data"
    }
   ],
   "source": [
    "#time.sleep(0.5)\n",
    "demo.show()"
   ]
  },
  {
   "cell_type": "code",
   "execution_count": 10,
   "id": "b3c1a44f",
   "metadata": {
    "collapsed": false,
    "jupyter": {
     "outputs_hidden": false
    },
    "pycharm": {
     "name": "#%%\n"
    }
   },
   "outputs": [],
   "source": [
    "def upd_marker(args):\n",
    "    w_0 = m.circular_frequency().real()\n",
    "    y = m.evaluate(t)\n",
    "    #print(y)\n",
    "    plot.update_plot(y=y)\n",
    "    #plot.mark(m.t.real(), m.evaluate(m.t.real()).real())\n",
    "    if c.oscilating:\n",
    "        plot.update_line(c.line, (plot.xlim[0] + plot.xlim[1]) / 2)\n",
    "    else:\n",
    "        plot.update_line(c.line, m.t.real())\n",
    "        plot.set_xlim([m.t.real() - m.duration().real(), m.t.real() + m.duration().real()])\n",
    "    #plot.grid()\n",
    "m.observe(upd_marker)"
   ]
  },
  {
   "cell_type": "code",
   "execution_count": null,
   "id": "444a0627-2424-4e8f-9e22-41fed666acda",
   "metadata": {
    "pycharm": {
     "name": "#%%\n"
    }
   },
   "outputs": [],
   "source": []
  },
  {
   "cell_type": "code",
   "execution_count": null,
   "id": "de3cadb8-f5b6-4e59-acc8-d7b7591cf95f",
   "metadata": {
    "pycharm": {
     "name": "#%%\n"
    }
   },
   "outputs": [],
   "source": []
  }
 ],
 "metadata": {
  "kernelspec": {
   "display_name": "Python 3 (ipykernel)",
   "language": "python",
   "name": "python3"
  },
  "language_info": {
   "codemirror_mode": {
    "name": "ipython",
    "version": 3
   },
   "file_extension": ".py",
   "mimetype": "text/x-python",
   "name": "python",
   "nbconvert_exporter": "python",
   "pygments_lexer": "ipython3",
   "version": "3.10.5"
  }
 },
 "nbformat": 4,
 "nbformat_minor": 5
}